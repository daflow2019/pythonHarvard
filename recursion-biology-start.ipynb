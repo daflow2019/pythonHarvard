{
 "cells": [
  {
   "cell_type": "markdown",
   "metadata": {
    "button": false,
    "new_sheet": false,
    "run_control": {
     "read_only": false
    }
   },
   "source": [
    "<div style=\"text-align: right\">CSCI E-7 Introduction to Python Programming for Life Sciences</div>\n",
    "<div style=\"text-align: right\">Dino Konstantopoulos, 4 March 2019, with material by Oliver Carlos and many other researchers on the Web whose code i liberally borrowed from</div>\n",
    "\n",
    "\n",
    "# Iteration and Recursion: Mechanisms of Life\n",
    "\n",
    "\n",
    "**Ribonucleic acid** (RNA, along with **DNA** and **proteins**, is one of the three major biological macromolecules that are essential for all known forms of life on our planet. A central tenet of molecular biology states that the flow of genetic information in a cell is from DNA through RNA to proteins: “DNA makes RNA makes protein”. \n",
    "\n",
    "Proteins are the workhorses of the cell; they play leading roles in the cell as enzymes, as structural components, and in cell signaling, to name just a few. \n",
    "\n",
    "DNA(deoxyribonucleic acid) is considered the “blueprint” of the cell; it carries all of the genetic information required for the cell to grow, to take in nutrients, and to propagate. \n",
    "\n",
    "RNA–in this role–is the “DNA photocopy” of the cell. When the cell needs to produce a certain protein, it activates the protein’s gene–the portion of DNA that codes for that protein–and produces multiple copies of that piece of DNA in the form of **messenger RNA**, or mRNA. \n",
    "\n",
    "The multiple copies of mRNA are then used to translate the genetic code into protein through the action of the cell’s protein manufacturing machinery, the **ribosomes**. Thus, RNA expands the quantity of a given protein that can be made at one time from one given gene, and it provides an important control point for regulating when and how much protein gets made.\n",
    "\n",
    "For many years RNA was believed to have only three major roles in the cell–as a DNA photocopy (mRNA), as a coupler between the genetic code and the protein building blocks (tRNA), and as a structural component of ribosomes (rRNA). In recent years, however, we have begun to realize that the roles adopted by RNA are much broader and much more interesting. We now know that RNA can also act as enzymes (called ribozymes) to speed chemical reactions. In a number of clinically important viruses RNA, rather than DNA, carries the viral genetic information. \n",
    "\n",
    "RNA also plays an important role in regulating cellular processes–from cell division, differentiation and growth to cell aging and death. Defects in certain RNAs or the regulation of RNAs have been implicated in a number of important human diseases, including heart disease, some cancers, stroke and others.\n",
    "\n",
    "The beauty of this machinery of life is how it uses smaller building blocks (DNA, RNA) to build bigger building blocks (proteins). Computer Science posesses this beauty, too. Your last homework (build forests from trees) was given as an introduction to this chapter, where we talk about **recursion** and **iteration**.\n",
    "\n",
    "Iteration and recursion are key Computer Science techniques used in creating algorithms and developing software.\n",
    "\n",
    "In simple terms, an iterative function is one that loops to repeat some part of the code, and a recursive function is one that calls itself again within itself, in order to repeat the code. \n",
    "\n",
    "Using a simple **for loop** to display list contents is an **iterative process**. Examples of simple recursive processes aren't easy to find, but solving the Tower of Hanoi are common examples.\n",
    "\n",
    "In this notebook, we simulate RNA machinery in order to learn about iteration and recursion.\n"
   ]
  },
  {
   "cell_type": "markdown",
   "metadata": {},
   "source": [
    "Your `plant_growth` function from last lecture produced a string. Then you **iterated** over that string to produce a new, more complex string. And so on, until ou have a realistic-lloking leaf."
   ]
  },
  {
   "cell_type": "code",
   "execution_count": 1,
   "metadata": {},
   "outputs": [],
   "source": [
    "def plant_growth(number, output=\"X\", show=False):\n",
    "    for i in range(number):\n",
    "        new_output = \"\"\n",
    "        for letter in output:\n",
    "            # rule #1\n",
    "            if letter == \"X\":\n",
    "                new_output += \"F-[[X]+X]+F[+FX]-X\"\n",
    "            elif letter == \"F\":\n",
    "                new_output += \"FF\"\n",
    "            else:\n",
    "                new_output += letter\n",
    "        output = new_output\n",
    "        if show: print(\"n =\", i+1, output, \"[\", len(output), \"]\")\n",
    "    return output"
   ]
  },
  {
   "cell_type": "code",
   "execution_count": 2,
   "metadata": {},
   "outputs": [
    {
     "name": "stdout",
     "output_type": "stream",
     "text": [
      "n = 1 F-[[X]+X]+F[+FX]-X [ 18 ]\n",
      "n = 2 FF-[[F-[[X]+X]+F[+FX]-X]+F-[[X]+X]+F[+FX]-X]+FF[+FFF-[[X]+X]+F[+FX]-X]-F-[[X]+X]+F[+FX]-X [ 89 ]\n",
      "n = 3 FFFF-[[FF-[[F-[[X]+X]+F[+FX]-X]+F-[[X]+X]+F[+FX]-X]+FF[+FFF-[[X]+X]+F[+FX]-X]-F-[[X]+X]+F[+FX]-X]+FF-[[F-[[X]+X]+F[+FX]-X]+F-[[X]+X]+F[+FX]-X]+FF[+FFF-[[X]+X]+F[+FX]-X]-F-[[X]+X]+F[+FX]-X]+FFFF[+FFFFFF-[[F-[[X]+X]+F[+FX]-X]+F-[[X]+X]+F[+FX]-X]+FF[+FFF-[[X]+X]+F[+FX]-X]-F-[[X]+X]+F[+FX]-X]-FF-[[F-[[X]+X]+F[+FX]-X]+F-[[X]+X]+F[+FX]-X]+FF[+FFF-[[X]+X]+F[+FX]-X]-F-[[X]+X]+F[+FX]-X [ 379 ]\n"
     ]
    }
   ],
   "source": [
    "plant=plant_growth(3, output=\"X\", show=True)"
   ]
  },
  {
   "cell_type": "markdown",
   "metadata": {},
   "source": [
    "Here's an interesting piece of turtle graphics:"
   ]
  },
  {
   "cell_type": "code",
   "execution_count": 4,
   "metadata": {},
   "outputs": [
    {
     "ename": "KeyboardInterrupt",
     "evalue": "",
     "output_type": "error",
     "traceback": [
      "\u001b[0;31m---------------------------------------------------------------------------\u001b[0m",
      "\u001b[0;31mKeyboardInterrupt\u001b[0m                         Traceback (most recent call last)",
      "\u001b[0;32m<ipython-input-4-83fd6550d668>\u001b[0m in \u001b[0;36m<module>\u001b[0;34m\u001b[0m\n\u001b[1;32m     13\u001b[0m         \u001b[0mt\u001b[0m\u001b[0;34m.\u001b[0m\u001b[0mfd\u001b[0m\u001b[0;34m(\u001b[0m\u001b[0mdistance\u001b[0m\u001b[0;34m)\u001b[0m\u001b[0;34m\u001b[0m\u001b[0;34m\u001b[0m\u001b[0m\n\u001b[1;32m     14\u001b[0m \u001b[0;34m\u001b[0m\u001b[0m\n\u001b[0;32m---> 15\u001b[0;31m \u001b[0mrandom_drawing\u001b[0m\u001b[0;34m(\u001b[0m\u001b[0;36m100\u001b[0m\u001b[0;34m,\u001b[0m\u001b[0;36m50\u001b[0m\u001b[0;34m)\u001b[0m\u001b[0;34m\u001b[0m\u001b[0;34m\u001b[0m\u001b[0m\n\u001b[0m",
      "\u001b[0;32m<ipython-input-4-83fd6550d668>\u001b[0m in \u001b[0;36mrandom_drawing\u001b[0;34m(turns, distance)\u001b[0m\n\u001b[1;32m      8\u001b[0m     \u001b[0;32mfor\u001b[0m \u001b[0mx\u001b[0m \u001b[0;32min\u001b[0m \u001b[0mrange\u001b[0m\u001b[0;34m(\u001b[0m\u001b[0mturns\u001b[0m\u001b[0;34m)\u001b[0m\u001b[0;34m:\u001b[0m\u001b[0;34m\u001b[0m\u001b[0;34m\u001b[0m\u001b[0m\n\u001b[1;32m      9\u001b[0m         \u001b[0mright\u001b[0m\u001b[0;34m=\u001b[0m\u001b[0mt\u001b[0m\u001b[0;34m.\u001b[0m\u001b[0mright\u001b[0m\u001b[0;34m(\u001b[0m\u001b[0mrandom\u001b[0m\u001b[0;34m.\u001b[0m\u001b[0mrandint\u001b[0m\u001b[0;34m(\u001b[0m\u001b[0;36m0\u001b[0m\u001b[0;34m,\u001b[0m\u001b[0;36m360\u001b[0m\u001b[0;34m)\u001b[0m\u001b[0;34m)\u001b[0m\u001b[0;34m\u001b[0m\u001b[0;34m\u001b[0m\u001b[0m\n\u001b[0;32m---> 10\u001b[0;31m         \u001b[0mleft\u001b[0m\u001b[0;34m=\u001b[0m\u001b[0mt\u001b[0m\u001b[0;34m.\u001b[0m\u001b[0mleft\u001b[0m\u001b[0;34m(\u001b[0m\u001b[0mrandom\u001b[0m\u001b[0;34m.\u001b[0m\u001b[0mrandint\u001b[0m\u001b[0;34m(\u001b[0m\u001b[0;36m0\u001b[0m\u001b[0;34m,\u001b[0m\u001b[0;36m360\u001b[0m\u001b[0;34m)\u001b[0m\u001b[0;34m)\u001b[0m\u001b[0;34m\u001b[0m\u001b[0;34m\u001b[0m\u001b[0m\n\u001b[0m\u001b[1;32m     11\u001b[0m         \u001b[0mt\u001b[0m\u001b[0;34m.\u001b[0m\u001b[0mcolor\u001b[0m\u001b[0;34m(\u001b[0m\u001b[0mrandom\u001b[0m\u001b[0;34m.\u001b[0m\u001b[0mchoice\u001b[0m\u001b[0;34m(\u001b[0m\u001b[0;34m[\u001b[0m\u001b[0;34m\"blue\"\u001b[0m\u001b[0;34m,\u001b[0m\u001b[0;34m\"red\"\u001b[0m\u001b[0;34m,\u001b[0m\u001b[0;34m\"green\"\u001b[0m\u001b[0;34m]\u001b[0m\u001b[0;34m)\u001b[0m\u001b[0;34m)\u001b[0m\u001b[0;34m\u001b[0m\u001b[0;34m\u001b[0m\u001b[0m\n\u001b[1;32m     12\u001b[0m         \u001b[0mrandom\u001b[0m\u001b[0;34m.\u001b[0m\u001b[0mchoice\u001b[0m\u001b[0;34m(\u001b[0m\u001b[0;34m[\u001b[0m\u001b[0mright\u001b[0m\u001b[0;34m,\u001b[0m\u001b[0mleft\u001b[0m\u001b[0;34m]\u001b[0m\u001b[0;34m)\u001b[0m\u001b[0;34m\u001b[0m\u001b[0;34m\u001b[0m\u001b[0m\n",
      "\u001b[0;32m~/anaconda3/lib/python3.7/turtle.py\u001b[0m in \u001b[0;36mleft\u001b[0;34m(self, angle)\u001b[0m\n\u001b[1;32m   1697\u001b[0m         \u001b[0;36m67.0\u001b[0m\u001b[0;34m\u001b[0m\u001b[0;34m\u001b[0m\u001b[0m\n\u001b[1;32m   1698\u001b[0m         \"\"\"\n\u001b[0;32m-> 1699\u001b[0;31m         \u001b[0mself\u001b[0m\u001b[0;34m.\u001b[0m\u001b[0m_rotate\u001b[0m\u001b[0;34m(\u001b[0m\u001b[0mangle\u001b[0m\u001b[0;34m)\u001b[0m\u001b[0;34m\u001b[0m\u001b[0;34m\u001b[0m\u001b[0m\n\u001b[0m\u001b[1;32m   1700\u001b[0m \u001b[0;34m\u001b[0m\u001b[0m\n\u001b[1;32m   1701\u001b[0m     \u001b[0;32mdef\u001b[0m \u001b[0mpos\u001b[0m\u001b[0;34m(\u001b[0m\u001b[0mself\u001b[0m\u001b[0;34m)\u001b[0m\u001b[0;34m:\u001b[0m\u001b[0;34m\u001b[0m\u001b[0;34m\u001b[0m\u001b[0m\n",
      "\u001b[0;32m~/anaconda3/lib/python3.7/turtle.py\u001b[0m in \u001b[0;36m_rotate\u001b[0;34m(self, angle)\u001b[0m\n\u001b[1;32m   3274\u001b[0m             \u001b[0;32mfor\u001b[0m \u001b[0m_\u001b[0m \u001b[0;32min\u001b[0m \u001b[0mrange\u001b[0m\u001b[0;34m(\u001b[0m\u001b[0msteps\u001b[0m\u001b[0;34m)\u001b[0m\u001b[0;34m:\u001b[0m\u001b[0;34m\u001b[0m\u001b[0;34m\u001b[0m\u001b[0m\n\u001b[1;32m   3275\u001b[0m                 \u001b[0mself\u001b[0m\u001b[0;34m.\u001b[0m\u001b[0m_orient\u001b[0m \u001b[0;34m=\u001b[0m \u001b[0mself\u001b[0m\u001b[0;34m.\u001b[0m\u001b[0m_orient\u001b[0m\u001b[0;34m.\u001b[0m\u001b[0mrotate\u001b[0m\u001b[0;34m(\u001b[0m\u001b[0mdelta\u001b[0m\u001b[0;34m)\u001b[0m\u001b[0;34m\u001b[0m\u001b[0;34m\u001b[0m\u001b[0m\n\u001b[0;32m-> 3276\u001b[0;31m                 \u001b[0mself\u001b[0m\u001b[0;34m.\u001b[0m\u001b[0m_update\u001b[0m\u001b[0;34m(\u001b[0m\u001b[0;34m)\u001b[0m\u001b[0;34m\u001b[0m\u001b[0;34m\u001b[0m\u001b[0m\n\u001b[0m\u001b[1;32m   3277\u001b[0m         \u001b[0mself\u001b[0m\u001b[0;34m.\u001b[0m\u001b[0m_orient\u001b[0m \u001b[0;34m=\u001b[0m \u001b[0mneworient\u001b[0m\u001b[0;34m\u001b[0m\u001b[0;34m\u001b[0m\u001b[0m\n\u001b[1;32m   3278\u001b[0m         \u001b[0mself\u001b[0m\u001b[0;34m.\u001b[0m\u001b[0m_update\u001b[0m\u001b[0;34m(\u001b[0m\u001b[0;34m)\u001b[0m\u001b[0;34m\u001b[0m\u001b[0;34m\u001b[0m\u001b[0m\n",
      "\u001b[0;32m~/anaconda3/lib/python3.7/turtle.py\u001b[0m in \u001b[0;36m_update\u001b[0;34m(self)\u001b[0m\n\u001b[1;32m   2661\u001b[0m             \u001b[0mself\u001b[0m\u001b[0;34m.\u001b[0m\u001b[0m_drawturtle\u001b[0m\u001b[0;34m(\u001b[0m\u001b[0;34m)\u001b[0m\u001b[0;34m\u001b[0m\u001b[0;34m\u001b[0m\u001b[0m\n\u001b[1;32m   2662\u001b[0m             \u001b[0mscreen\u001b[0m\u001b[0;34m.\u001b[0m\u001b[0m_update\u001b[0m\u001b[0;34m(\u001b[0m\u001b[0;34m)\u001b[0m                  \u001b[0;31m# TurtleScreenBase\u001b[0m\u001b[0;34m\u001b[0m\u001b[0;34m\u001b[0m\u001b[0m\n\u001b[0;32m-> 2663\u001b[0;31m             \u001b[0mscreen\u001b[0m\u001b[0;34m.\u001b[0m\u001b[0m_delay\u001b[0m\u001b[0;34m(\u001b[0m\u001b[0mscreen\u001b[0m\u001b[0;34m.\u001b[0m\u001b[0m_delayvalue\u001b[0m\u001b[0;34m)\u001b[0m \u001b[0;31m# TurtleScreenBase\u001b[0m\u001b[0;34m\u001b[0m\u001b[0;34m\u001b[0m\u001b[0m\n\u001b[0m\u001b[1;32m   2664\u001b[0m         \u001b[0;32melse\u001b[0m\u001b[0;34m:\u001b[0m\u001b[0;34m\u001b[0m\u001b[0;34m\u001b[0m\u001b[0m\n\u001b[1;32m   2665\u001b[0m             \u001b[0mself\u001b[0m\u001b[0;34m.\u001b[0m\u001b[0m_update_data\u001b[0m\u001b[0;34m(\u001b[0m\u001b[0;34m)\u001b[0m\u001b[0;34m\u001b[0m\u001b[0;34m\u001b[0m\u001b[0m\n",
      "\u001b[0;32m~/anaconda3/lib/python3.7/turtle.py\u001b[0m in \u001b[0;36m_delay\u001b[0;34m(self, delay)\u001b[0m\n\u001b[1;32m    564\u001b[0m     \u001b[0;32mdef\u001b[0m \u001b[0m_delay\u001b[0m\u001b[0;34m(\u001b[0m\u001b[0mself\u001b[0m\u001b[0;34m,\u001b[0m \u001b[0mdelay\u001b[0m\u001b[0;34m)\u001b[0m\u001b[0;34m:\u001b[0m\u001b[0;34m\u001b[0m\u001b[0;34m\u001b[0m\u001b[0m\n\u001b[1;32m    565\u001b[0m         \u001b[0;34m\"\"\"Delay subsequent canvas actions for delay ms.\"\"\"\u001b[0m\u001b[0;34m\u001b[0m\u001b[0;34m\u001b[0m\u001b[0m\n\u001b[0;32m--> 566\u001b[0;31m         \u001b[0mself\u001b[0m\u001b[0;34m.\u001b[0m\u001b[0mcv\u001b[0m\u001b[0;34m.\u001b[0m\u001b[0mafter\u001b[0m\u001b[0;34m(\u001b[0m\u001b[0mdelay\u001b[0m\u001b[0;34m)\u001b[0m\u001b[0;34m\u001b[0m\u001b[0;34m\u001b[0m\u001b[0m\n\u001b[0m\u001b[1;32m    567\u001b[0m \u001b[0;34m\u001b[0m\u001b[0m\n\u001b[1;32m    568\u001b[0m     \u001b[0;32mdef\u001b[0m \u001b[0m_iscolorstring\u001b[0m\u001b[0;34m(\u001b[0m\u001b[0mself\u001b[0m\u001b[0;34m,\u001b[0m \u001b[0mcolor\u001b[0m\u001b[0;34m)\u001b[0m\u001b[0;34m:\u001b[0m\u001b[0;34m\u001b[0m\u001b[0;34m\u001b[0m\u001b[0m\n",
      "\u001b[0;32m~/anaconda3/lib/python3.7/tkinter/__init__.py\u001b[0m in \u001b[0;36mafter\u001b[0;34m(self, ms, func, *args)\u001b[0m\n\u001b[1;32m    742\u001b[0m         \u001b[0;32mif\u001b[0m \u001b[0;32mnot\u001b[0m \u001b[0mfunc\u001b[0m\u001b[0;34m:\u001b[0m\u001b[0;34m\u001b[0m\u001b[0;34m\u001b[0m\u001b[0m\n\u001b[1;32m    743\u001b[0m             \u001b[0;31m# I'd rather use time.sleep(ms*0.001)\u001b[0m\u001b[0;34m\u001b[0m\u001b[0;34m\u001b[0m\u001b[0;34m\u001b[0m\u001b[0m\n\u001b[0;32m--> 744\u001b[0;31m             \u001b[0mself\u001b[0m\u001b[0;34m.\u001b[0m\u001b[0mtk\u001b[0m\u001b[0;34m.\u001b[0m\u001b[0mcall\u001b[0m\u001b[0;34m(\u001b[0m\u001b[0;34m'after'\u001b[0m\u001b[0;34m,\u001b[0m \u001b[0mms\u001b[0m\u001b[0;34m)\u001b[0m\u001b[0;34m\u001b[0m\u001b[0;34m\u001b[0m\u001b[0m\n\u001b[0m\u001b[1;32m    745\u001b[0m             \u001b[0;32mreturn\u001b[0m \u001b[0;32mNone\u001b[0m\u001b[0;34m\u001b[0m\u001b[0;34m\u001b[0m\u001b[0m\n\u001b[1;32m    746\u001b[0m         \u001b[0;32melse\u001b[0m\u001b[0;34m:\u001b[0m\u001b[0;34m\u001b[0m\u001b[0;34m\u001b[0m\u001b[0m\n",
      "\u001b[0;31mKeyboardInterrupt\u001b[0m: "
     ]
    }
   ],
   "source": [
    "import random\n",
    "from turtle import Turtle\n",
    "\n",
    "t=Turtle()\n",
    "t.screen.bgcolor(\"black\")\n",
    " \n",
    "def random_drawing(turns,distance):\n",
    "    for x in range(turns):\n",
    "        right=t.right(random.randint(0,360))\n",
    "        left=t.left(random.randint(0,360))\n",
    "        t.color(random.choice([\"blue\",\"red\",\"green\"]))\n",
    "        random.choice([right,left])\n",
    "        t.fd(distance)\n",
    " \n",
    "random_drawing(100,50)"
   ]
  },
  {
   "cell_type": "markdown",
   "metadata": {},
   "source": [
    "Let's write a function that draws a triangle with turtle graphics:"
   ]
  },
  {
   "cell_type": "code",
   "execution_count": 7,
   "metadata": {},
   "outputs": [],
   "source": [
    "def draw_triangle(points, color, my_turtle):\n",
    "    my_turtle.penup()\n",
    "    my_turtle.goto(points[0][0],points[0][1])\n",
    "    my_turtle.pendown()\n",
    "    my_turtle.stroke = color\n",
    "    #my_turtle.fill_color = Color(128, 0, 128)\n",
    "    my_turtle.goto(points[1][0], points[1][1])\n",
    "    my_turtle.goto(points[2][0], points[2][1])\n",
    "    my_turtle.goto(points[0][0], points[0][1])"
   ]
  },
  {
   "cell_type": "markdown",
   "metadata": {},
   "source": [
    "Here's a utility function that returns a point midway between 2 points, where we assume each point has two coordinates x and y:"
   ]
  },
  {
   "cell_type": "code",
   "execution_count": 8,
   "metadata": {},
   "outputs": [],
   "source": [
    "def get_mid(p1, p2):\n",
    "    return ((p1[0] + p2[0]) / 2, (p1[1] + p2[1]) / 2)"
   ]
  },
  {
   "cell_type": "markdown",
   "metadata": {},
   "source": [
    "### The Sierpinski Triangle\n",
    "\n",
    "The [Sierpinski triangle](https://en.wikipedia.org/wiki/Sierpinski_triangle) is a fractal described in 1915 by Waclaw Sierpinski. It is a **self-similar** structure that occurs at different levels of iterations, or magnifications. \n",
    "\n",
    "You begin the pattern by finding the midpoints of the line segments of the largest triangle. Then, by connecting these midpoints, smaller triangles are created. This pattern is then repeated for the smaller triangles, and essentially has infinitely many possible iterations.\n",
    "\n",
    "We will build a sierpinski triangle generating function to illustrate **recursion**."
   ]
  },
  {
   "cell_type": "code",
   "execution_count": 9,
   "metadata": {},
   "outputs": [],
   "source": [
    "def sierpinski(points, degree, my_turtle):\n",
    "    #color = Color(*color_map[degree][1])\n",
    "    color = my_turtle.color(\"red\")\n",
    "    draw_triangle(points, color, my_turtle)\n",
    "    \n",
    "    #clear_output(wait=True)\n",
    "    #display(canvas)\n",
    "    #time.sleep(0.5)\n",
    "    \n",
    "    #canvas.fill(color)\n",
    "    if degree > 0:\n",
    "       sierpinski(\n",
    "                  [points[0], get_mid(points[0], points[1]), get_mid(points[0], points[2])],\n",
    "                  degree-1, my_turtle)\n",
    "       sierpinski(\n",
    "                  [points[1], get_mid(points[0], points[1]), get_mid(points[1], points[2])],\n",
    "                  degree-1, my_turtle)\n",
    "       sierpinski(\n",
    "                  [points[2], get_mid(points[2], points[1]), get_mid(points[0], points[2])],\n",
    "                  degree-1, my_turtle)"
   ]
  },
  {
   "cell_type": "markdown",
   "metadata": {},
   "source": [
    "Let's use turtle graphics to print it!"
   ]
  },
  {
   "cell_type": "code",
   "execution_count": 11,
   "metadata": {},
   "outputs": [
    {
     "ename": "TclError",
     "evalue": "invalid command name \".!canvas\"",
     "output_type": "error",
     "traceback": [
      "\u001b[0;31m---------------------------------------------------------------------------\u001b[0m",
      "\u001b[0;31mTclError\u001b[0m                                  Traceback (most recent call last)",
      "\u001b[0;32m<ipython-input-11-4dd98d8c3ff9>\u001b[0m in \u001b[0;36m<module>\u001b[0;34m\u001b[0m\n\u001b[1;32m     18\u001b[0m \u001b[0;34m\u001b[0m\u001b[0m\n\u001b[1;32m     19\u001b[0m \u001b[0;31m#draw_triangle(my_points, color, my_turtle)\u001b[0m\u001b[0;34m\u001b[0m\u001b[0;34m\u001b[0m\u001b[0;34m\u001b[0m\u001b[0m\n\u001b[0;32m---> 20\u001b[0;31m \u001b[0msierpinski\u001b[0m\u001b[0;34m(\u001b[0m\u001b[0mmy_points\u001b[0m\u001b[0;34m,\u001b[0m \u001b[0;36m5\u001b[0m\u001b[0;34m,\u001b[0m \u001b[0mmy_turtle\u001b[0m\u001b[0;34m)\u001b[0m\u001b[0;34m\u001b[0m\u001b[0;34m\u001b[0m\u001b[0m\n\u001b[0m",
      "\u001b[0;32m<ipython-input-9-f13ad9ad03dd>\u001b[0m in \u001b[0;36msierpinski\u001b[0;34m(points, degree, my_turtle)\u001b[0m\n\u001b[1;32m     12\u001b[0m        sierpinski(\n\u001b[1;32m     13\u001b[0m                   \u001b[0;34m[\u001b[0m\u001b[0mpoints\u001b[0m\u001b[0;34m[\u001b[0m\u001b[0;36m0\u001b[0m\u001b[0;34m]\u001b[0m\u001b[0;34m,\u001b[0m \u001b[0mget_mid\u001b[0m\u001b[0;34m(\u001b[0m\u001b[0mpoints\u001b[0m\u001b[0;34m[\u001b[0m\u001b[0;36m0\u001b[0m\u001b[0;34m]\u001b[0m\u001b[0;34m,\u001b[0m \u001b[0mpoints\u001b[0m\u001b[0;34m[\u001b[0m\u001b[0;36m1\u001b[0m\u001b[0;34m]\u001b[0m\u001b[0;34m)\u001b[0m\u001b[0;34m,\u001b[0m \u001b[0mget_mid\u001b[0m\u001b[0;34m(\u001b[0m\u001b[0mpoints\u001b[0m\u001b[0;34m[\u001b[0m\u001b[0;36m0\u001b[0m\u001b[0;34m]\u001b[0m\u001b[0;34m,\u001b[0m \u001b[0mpoints\u001b[0m\u001b[0;34m[\u001b[0m\u001b[0;36m2\u001b[0m\u001b[0;34m]\u001b[0m\u001b[0;34m)\u001b[0m\u001b[0;34m]\u001b[0m\u001b[0;34m,\u001b[0m\u001b[0;34m\u001b[0m\u001b[0;34m\u001b[0m\u001b[0m\n\u001b[0;32m---> 14\u001b[0;31m                   degree-1, my_turtle)\n\u001b[0m\u001b[1;32m     15\u001b[0m        sierpinski(\n\u001b[1;32m     16\u001b[0m                   \u001b[0;34m[\u001b[0m\u001b[0mpoints\u001b[0m\u001b[0;34m[\u001b[0m\u001b[0;36m1\u001b[0m\u001b[0;34m]\u001b[0m\u001b[0;34m,\u001b[0m \u001b[0mget_mid\u001b[0m\u001b[0;34m(\u001b[0m\u001b[0mpoints\u001b[0m\u001b[0;34m[\u001b[0m\u001b[0;36m0\u001b[0m\u001b[0;34m]\u001b[0m\u001b[0;34m,\u001b[0m \u001b[0mpoints\u001b[0m\u001b[0;34m[\u001b[0m\u001b[0;36m1\u001b[0m\u001b[0;34m]\u001b[0m\u001b[0;34m)\u001b[0m\u001b[0;34m,\u001b[0m \u001b[0mget_mid\u001b[0m\u001b[0;34m(\u001b[0m\u001b[0mpoints\u001b[0m\u001b[0;34m[\u001b[0m\u001b[0;36m1\u001b[0m\u001b[0;34m]\u001b[0m\u001b[0;34m,\u001b[0m \u001b[0mpoints\u001b[0m\u001b[0;34m[\u001b[0m\u001b[0;36m2\u001b[0m\u001b[0;34m]\u001b[0m\u001b[0;34m)\u001b[0m\u001b[0;34m]\u001b[0m\u001b[0;34m,\u001b[0m\u001b[0;34m\u001b[0m\u001b[0;34m\u001b[0m\u001b[0m\n",
      "\u001b[0;32m<ipython-input-9-f13ad9ad03dd>\u001b[0m in \u001b[0;36msierpinski\u001b[0;34m(points, degree, my_turtle)\u001b[0m\n\u001b[1;32m     15\u001b[0m        sierpinski(\n\u001b[1;32m     16\u001b[0m                   \u001b[0;34m[\u001b[0m\u001b[0mpoints\u001b[0m\u001b[0;34m[\u001b[0m\u001b[0;36m1\u001b[0m\u001b[0;34m]\u001b[0m\u001b[0;34m,\u001b[0m \u001b[0mget_mid\u001b[0m\u001b[0;34m(\u001b[0m\u001b[0mpoints\u001b[0m\u001b[0;34m[\u001b[0m\u001b[0;36m0\u001b[0m\u001b[0;34m]\u001b[0m\u001b[0;34m,\u001b[0m \u001b[0mpoints\u001b[0m\u001b[0;34m[\u001b[0m\u001b[0;36m1\u001b[0m\u001b[0;34m]\u001b[0m\u001b[0;34m)\u001b[0m\u001b[0;34m,\u001b[0m \u001b[0mget_mid\u001b[0m\u001b[0;34m(\u001b[0m\u001b[0mpoints\u001b[0m\u001b[0;34m[\u001b[0m\u001b[0;36m1\u001b[0m\u001b[0;34m]\u001b[0m\u001b[0;34m,\u001b[0m \u001b[0mpoints\u001b[0m\u001b[0;34m[\u001b[0m\u001b[0;36m2\u001b[0m\u001b[0;34m]\u001b[0m\u001b[0;34m)\u001b[0m\u001b[0;34m]\u001b[0m\u001b[0;34m,\u001b[0m\u001b[0;34m\u001b[0m\u001b[0;34m\u001b[0m\u001b[0m\n\u001b[0;32m---> 17\u001b[0;31m                   degree-1, my_turtle)\n\u001b[0m\u001b[1;32m     18\u001b[0m        sierpinski(\n\u001b[1;32m     19\u001b[0m                   \u001b[0;34m[\u001b[0m\u001b[0mpoints\u001b[0m\u001b[0;34m[\u001b[0m\u001b[0;36m2\u001b[0m\u001b[0;34m]\u001b[0m\u001b[0;34m,\u001b[0m \u001b[0mget_mid\u001b[0m\u001b[0;34m(\u001b[0m\u001b[0mpoints\u001b[0m\u001b[0;34m[\u001b[0m\u001b[0;36m2\u001b[0m\u001b[0;34m]\u001b[0m\u001b[0;34m,\u001b[0m \u001b[0mpoints\u001b[0m\u001b[0;34m[\u001b[0m\u001b[0;36m1\u001b[0m\u001b[0;34m]\u001b[0m\u001b[0;34m)\u001b[0m\u001b[0;34m,\u001b[0m \u001b[0mget_mid\u001b[0m\u001b[0;34m(\u001b[0m\u001b[0mpoints\u001b[0m\u001b[0;34m[\u001b[0m\u001b[0;36m0\u001b[0m\u001b[0;34m]\u001b[0m\u001b[0;34m,\u001b[0m \u001b[0mpoints\u001b[0m\u001b[0;34m[\u001b[0m\u001b[0;36m2\u001b[0m\u001b[0;34m]\u001b[0m\u001b[0;34m)\u001b[0m\u001b[0;34m]\u001b[0m\u001b[0;34m,\u001b[0m\u001b[0;34m\u001b[0m\u001b[0;34m\u001b[0m\u001b[0m\n",
      "\u001b[0;32m<ipython-input-9-f13ad9ad03dd>\u001b[0m in \u001b[0;36msierpinski\u001b[0;34m(points, degree, my_turtle)\u001b[0m\n\u001b[1;32m     12\u001b[0m        sierpinski(\n\u001b[1;32m     13\u001b[0m                   \u001b[0;34m[\u001b[0m\u001b[0mpoints\u001b[0m\u001b[0;34m[\u001b[0m\u001b[0;36m0\u001b[0m\u001b[0;34m]\u001b[0m\u001b[0;34m,\u001b[0m \u001b[0mget_mid\u001b[0m\u001b[0;34m(\u001b[0m\u001b[0mpoints\u001b[0m\u001b[0;34m[\u001b[0m\u001b[0;36m0\u001b[0m\u001b[0;34m]\u001b[0m\u001b[0;34m,\u001b[0m \u001b[0mpoints\u001b[0m\u001b[0;34m[\u001b[0m\u001b[0;36m1\u001b[0m\u001b[0;34m]\u001b[0m\u001b[0;34m)\u001b[0m\u001b[0;34m,\u001b[0m \u001b[0mget_mid\u001b[0m\u001b[0;34m(\u001b[0m\u001b[0mpoints\u001b[0m\u001b[0;34m[\u001b[0m\u001b[0;36m0\u001b[0m\u001b[0;34m]\u001b[0m\u001b[0;34m,\u001b[0m \u001b[0mpoints\u001b[0m\u001b[0;34m[\u001b[0m\u001b[0;36m2\u001b[0m\u001b[0;34m]\u001b[0m\u001b[0;34m)\u001b[0m\u001b[0;34m]\u001b[0m\u001b[0;34m,\u001b[0m\u001b[0;34m\u001b[0m\u001b[0;34m\u001b[0m\u001b[0m\n\u001b[0;32m---> 14\u001b[0;31m                   degree-1, my_turtle)\n\u001b[0m\u001b[1;32m     15\u001b[0m        sierpinski(\n\u001b[1;32m     16\u001b[0m                   \u001b[0;34m[\u001b[0m\u001b[0mpoints\u001b[0m\u001b[0;34m[\u001b[0m\u001b[0;36m1\u001b[0m\u001b[0;34m]\u001b[0m\u001b[0;34m,\u001b[0m \u001b[0mget_mid\u001b[0m\u001b[0;34m(\u001b[0m\u001b[0mpoints\u001b[0m\u001b[0;34m[\u001b[0m\u001b[0;36m0\u001b[0m\u001b[0;34m]\u001b[0m\u001b[0;34m,\u001b[0m \u001b[0mpoints\u001b[0m\u001b[0;34m[\u001b[0m\u001b[0;36m1\u001b[0m\u001b[0;34m]\u001b[0m\u001b[0;34m)\u001b[0m\u001b[0;34m,\u001b[0m \u001b[0mget_mid\u001b[0m\u001b[0;34m(\u001b[0m\u001b[0mpoints\u001b[0m\u001b[0;34m[\u001b[0m\u001b[0;36m1\u001b[0m\u001b[0;34m]\u001b[0m\u001b[0;34m,\u001b[0m \u001b[0mpoints\u001b[0m\u001b[0;34m[\u001b[0m\u001b[0;36m2\u001b[0m\u001b[0;34m]\u001b[0m\u001b[0;34m)\u001b[0m\u001b[0;34m]\u001b[0m\u001b[0;34m,\u001b[0m\u001b[0;34m\u001b[0m\u001b[0;34m\u001b[0m\u001b[0m\n",
      "\u001b[0;32m<ipython-input-9-f13ad9ad03dd>\u001b[0m in \u001b[0;36msierpinski\u001b[0;34m(points, degree, my_turtle)\u001b[0m\n\u001b[1;32m     18\u001b[0m        sierpinski(\n\u001b[1;32m     19\u001b[0m                   \u001b[0;34m[\u001b[0m\u001b[0mpoints\u001b[0m\u001b[0;34m[\u001b[0m\u001b[0;36m2\u001b[0m\u001b[0;34m]\u001b[0m\u001b[0;34m,\u001b[0m \u001b[0mget_mid\u001b[0m\u001b[0;34m(\u001b[0m\u001b[0mpoints\u001b[0m\u001b[0;34m[\u001b[0m\u001b[0;36m2\u001b[0m\u001b[0;34m]\u001b[0m\u001b[0;34m,\u001b[0m \u001b[0mpoints\u001b[0m\u001b[0;34m[\u001b[0m\u001b[0;36m1\u001b[0m\u001b[0;34m]\u001b[0m\u001b[0;34m)\u001b[0m\u001b[0;34m,\u001b[0m \u001b[0mget_mid\u001b[0m\u001b[0;34m(\u001b[0m\u001b[0mpoints\u001b[0m\u001b[0;34m[\u001b[0m\u001b[0;36m0\u001b[0m\u001b[0;34m]\u001b[0m\u001b[0;34m,\u001b[0m \u001b[0mpoints\u001b[0m\u001b[0;34m[\u001b[0m\u001b[0;36m2\u001b[0m\u001b[0;34m]\u001b[0m\u001b[0;34m)\u001b[0m\u001b[0;34m]\u001b[0m\u001b[0;34m,\u001b[0m\u001b[0;34m\u001b[0m\u001b[0;34m\u001b[0m\u001b[0m\n\u001b[0;32m---> 20\u001b[0;31m                   degree-1, my_turtle)\n\u001b[0m",
      "\u001b[0;32m<ipython-input-9-f13ad9ad03dd>\u001b[0m in \u001b[0;36msierpinski\u001b[0;34m(points, degree, my_turtle)\u001b[0m\n\u001b[1;32m     12\u001b[0m        sierpinski(\n\u001b[1;32m     13\u001b[0m                   \u001b[0;34m[\u001b[0m\u001b[0mpoints\u001b[0m\u001b[0;34m[\u001b[0m\u001b[0;36m0\u001b[0m\u001b[0;34m]\u001b[0m\u001b[0;34m,\u001b[0m \u001b[0mget_mid\u001b[0m\u001b[0;34m(\u001b[0m\u001b[0mpoints\u001b[0m\u001b[0;34m[\u001b[0m\u001b[0;36m0\u001b[0m\u001b[0;34m]\u001b[0m\u001b[0;34m,\u001b[0m \u001b[0mpoints\u001b[0m\u001b[0;34m[\u001b[0m\u001b[0;36m1\u001b[0m\u001b[0;34m]\u001b[0m\u001b[0;34m)\u001b[0m\u001b[0;34m,\u001b[0m \u001b[0mget_mid\u001b[0m\u001b[0;34m(\u001b[0m\u001b[0mpoints\u001b[0m\u001b[0;34m[\u001b[0m\u001b[0;36m0\u001b[0m\u001b[0;34m]\u001b[0m\u001b[0;34m,\u001b[0m \u001b[0mpoints\u001b[0m\u001b[0;34m[\u001b[0m\u001b[0;36m2\u001b[0m\u001b[0;34m]\u001b[0m\u001b[0;34m)\u001b[0m\u001b[0;34m]\u001b[0m\u001b[0;34m,\u001b[0m\u001b[0;34m\u001b[0m\u001b[0;34m\u001b[0m\u001b[0m\n\u001b[0;32m---> 14\u001b[0;31m                   degree-1, my_turtle)\n\u001b[0m\u001b[1;32m     15\u001b[0m        sierpinski(\n\u001b[1;32m     16\u001b[0m                   \u001b[0;34m[\u001b[0m\u001b[0mpoints\u001b[0m\u001b[0;34m[\u001b[0m\u001b[0;36m1\u001b[0m\u001b[0;34m]\u001b[0m\u001b[0;34m,\u001b[0m \u001b[0mget_mid\u001b[0m\u001b[0;34m(\u001b[0m\u001b[0mpoints\u001b[0m\u001b[0;34m[\u001b[0m\u001b[0;36m0\u001b[0m\u001b[0;34m]\u001b[0m\u001b[0;34m,\u001b[0m \u001b[0mpoints\u001b[0m\u001b[0;34m[\u001b[0m\u001b[0;36m1\u001b[0m\u001b[0;34m]\u001b[0m\u001b[0;34m)\u001b[0m\u001b[0;34m,\u001b[0m \u001b[0mget_mid\u001b[0m\u001b[0;34m(\u001b[0m\u001b[0mpoints\u001b[0m\u001b[0;34m[\u001b[0m\u001b[0;36m1\u001b[0m\u001b[0;34m]\u001b[0m\u001b[0;34m,\u001b[0m \u001b[0mpoints\u001b[0m\u001b[0;34m[\u001b[0m\u001b[0;36m2\u001b[0m\u001b[0;34m]\u001b[0m\u001b[0;34m)\u001b[0m\u001b[0;34m]\u001b[0m\u001b[0;34m,\u001b[0m\u001b[0;34m\u001b[0m\u001b[0;34m\u001b[0m\u001b[0m\n",
      "\u001b[0;32m<ipython-input-9-f13ad9ad03dd>\u001b[0m in \u001b[0;36msierpinski\u001b[0;34m(points, degree, my_turtle)\u001b[0m\n\u001b[1;32m      2\u001b[0m     \u001b[0;31m#color = Color(*color_map[degree][1])\u001b[0m\u001b[0;34m\u001b[0m\u001b[0;34m\u001b[0m\u001b[0;34m\u001b[0m\u001b[0m\n\u001b[1;32m      3\u001b[0m     \u001b[0mcolor\u001b[0m \u001b[0;34m=\u001b[0m \u001b[0mmy_turtle\u001b[0m\u001b[0;34m.\u001b[0m\u001b[0mcolor\u001b[0m\u001b[0;34m(\u001b[0m\u001b[0;34m\"red\"\u001b[0m\u001b[0;34m)\u001b[0m\u001b[0;34m\u001b[0m\u001b[0;34m\u001b[0m\u001b[0m\n\u001b[0;32m----> 4\u001b[0;31m     \u001b[0mdraw_triangle\u001b[0m\u001b[0;34m(\u001b[0m\u001b[0mpoints\u001b[0m\u001b[0;34m,\u001b[0m \u001b[0mcolor\u001b[0m\u001b[0;34m,\u001b[0m \u001b[0mmy_turtle\u001b[0m\u001b[0;34m)\u001b[0m\u001b[0;34m\u001b[0m\u001b[0;34m\u001b[0m\u001b[0m\n\u001b[0m\u001b[1;32m      5\u001b[0m \u001b[0;34m\u001b[0m\u001b[0m\n\u001b[1;32m      6\u001b[0m     \u001b[0;31m#clear_output(wait=True)\u001b[0m\u001b[0;34m\u001b[0m\u001b[0;34m\u001b[0m\u001b[0;34m\u001b[0m\u001b[0m\n",
      "\u001b[0;32m<ipython-input-7-6d807fbcea42>\u001b[0m in \u001b[0;36mdraw_triangle\u001b[0;34m(points, color, my_turtle)\u001b[0m\n\u001b[1;32m      6\u001b[0m     \u001b[0;31m#my_turtle.fill_color = Color(128, 0, 128)\u001b[0m\u001b[0;34m\u001b[0m\u001b[0;34m\u001b[0m\u001b[0;34m\u001b[0m\u001b[0m\n\u001b[1;32m      7\u001b[0m     \u001b[0mmy_turtle\u001b[0m\u001b[0;34m.\u001b[0m\u001b[0mgoto\u001b[0m\u001b[0;34m(\u001b[0m\u001b[0mpoints\u001b[0m\u001b[0;34m[\u001b[0m\u001b[0;36m1\u001b[0m\u001b[0;34m]\u001b[0m\u001b[0;34m[\u001b[0m\u001b[0;36m0\u001b[0m\u001b[0;34m]\u001b[0m\u001b[0;34m,\u001b[0m \u001b[0mpoints\u001b[0m\u001b[0;34m[\u001b[0m\u001b[0;36m1\u001b[0m\u001b[0;34m]\u001b[0m\u001b[0;34m[\u001b[0m\u001b[0;36m1\u001b[0m\u001b[0;34m]\u001b[0m\u001b[0;34m)\u001b[0m\u001b[0;34m\u001b[0m\u001b[0;34m\u001b[0m\u001b[0m\n\u001b[0;32m----> 8\u001b[0;31m     \u001b[0mmy_turtle\u001b[0m\u001b[0;34m.\u001b[0m\u001b[0mgoto\u001b[0m\u001b[0;34m(\u001b[0m\u001b[0mpoints\u001b[0m\u001b[0;34m[\u001b[0m\u001b[0;36m2\u001b[0m\u001b[0;34m]\u001b[0m\u001b[0;34m[\u001b[0m\u001b[0;36m0\u001b[0m\u001b[0;34m]\u001b[0m\u001b[0;34m,\u001b[0m \u001b[0mpoints\u001b[0m\u001b[0;34m[\u001b[0m\u001b[0;36m2\u001b[0m\u001b[0;34m]\u001b[0m\u001b[0;34m[\u001b[0m\u001b[0;36m1\u001b[0m\u001b[0;34m]\u001b[0m\u001b[0;34m)\u001b[0m\u001b[0;34m\u001b[0m\u001b[0;34m\u001b[0m\u001b[0m\n\u001b[0m\u001b[1;32m      9\u001b[0m     \u001b[0mmy_turtle\u001b[0m\u001b[0;34m.\u001b[0m\u001b[0mgoto\u001b[0m\u001b[0;34m(\u001b[0m\u001b[0mpoints\u001b[0m\u001b[0;34m[\u001b[0m\u001b[0;36m0\u001b[0m\u001b[0;34m]\u001b[0m\u001b[0;34m[\u001b[0m\u001b[0;36m0\u001b[0m\u001b[0;34m]\u001b[0m\u001b[0;34m,\u001b[0m \u001b[0mpoints\u001b[0m\u001b[0;34m[\u001b[0m\u001b[0;36m0\u001b[0m\u001b[0;34m]\u001b[0m\u001b[0;34m[\u001b[0m\u001b[0;36m1\u001b[0m\u001b[0;34m]\u001b[0m\u001b[0;34m)\u001b[0m\u001b[0;34m\u001b[0m\u001b[0;34m\u001b[0m\u001b[0m\n",
      "\u001b[0;32m~/anaconda3/lib/python3.7/turtle.py\u001b[0m in \u001b[0;36mgoto\u001b[0;34m(self, x, y)\u001b[0m\n\u001b[1;32m   1774\u001b[0m             \u001b[0mself\u001b[0m\u001b[0;34m.\u001b[0m\u001b[0m_goto\u001b[0m\u001b[0;34m(\u001b[0m\u001b[0mVec2D\u001b[0m\u001b[0;34m(\u001b[0m\u001b[0;34m*\u001b[0m\u001b[0mx\u001b[0m\u001b[0;34m)\u001b[0m\u001b[0;34m)\u001b[0m\u001b[0;34m\u001b[0m\u001b[0;34m\u001b[0m\u001b[0m\n\u001b[1;32m   1775\u001b[0m         \u001b[0;32melse\u001b[0m\u001b[0;34m:\u001b[0m\u001b[0;34m\u001b[0m\u001b[0;34m\u001b[0m\u001b[0m\n\u001b[0;32m-> 1776\u001b[0;31m             \u001b[0mself\u001b[0m\u001b[0;34m.\u001b[0m\u001b[0m_goto\u001b[0m\u001b[0;34m(\u001b[0m\u001b[0mVec2D\u001b[0m\u001b[0;34m(\u001b[0m\u001b[0mx\u001b[0m\u001b[0;34m,\u001b[0m \u001b[0my\u001b[0m\u001b[0;34m)\u001b[0m\u001b[0;34m)\u001b[0m\u001b[0;34m\u001b[0m\u001b[0;34m\u001b[0m\u001b[0m\n\u001b[0m\u001b[1;32m   1777\u001b[0m \u001b[0;34m\u001b[0m\u001b[0m\n\u001b[1;32m   1778\u001b[0m     \u001b[0;32mdef\u001b[0m \u001b[0mhome\u001b[0m\u001b[0;34m(\u001b[0m\u001b[0mself\u001b[0m\u001b[0;34m)\u001b[0m\u001b[0;34m:\u001b[0m\u001b[0;34m\u001b[0m\u001b[0;34m\u001b[0m\u001b[0m\n",
      "\u001b[0;32m~/anaconda3/lib/python3.7/turtle.py\u001b[0m in \u001b[0;36m_goto\u001b[0;34m(self, end)\u001b[0m\n\u001b[1;32m   3156\u001b[0m                       (self.currentLineItem,\n\u001b[1;32m   3157\u001b[0m                       \u001b[0mself\u001b[0m\u001b[0;34m.\u001b[0m\u001b[0mcurrentLine\u001b[0m\u001b[0;34m[\u001b[0m\u001b[0;34m:\u001b[0m\u001b[0;34m]\u001b[0m\u001b[0;34m,\u001b[0m\u001b[0;34m\u001b[0m\u001b[0;34m\u001b[0m\u001b[0m\n\u001b[0;32m-> 3158\u001b[0;31m                       \u001b[0mscreen\u001b[0m\u001b[0;34m.\u001b[0m\u001b[0m_pointlist\u001b[0m\u001b[0;34m(\u001b[0m\u001b[0mself\u001b[0m\u001b[0;34m.\u001b[0m\u001b[0mcurrentLineItem\u001b[0m\u001b[0;34m)\u001b[0m\u001b[0;34m,\u001b[0m\u001b[0;34m\u001b[0m\u001b[0;34m\u001b[0m\u001b[0m\n\u001b[0m\u001b[1;32m   3159\u001b[0m                       self.items[:])\n\u001b[1;32m   3160\u001b[0m                       )\n",
      "\u001b[0;32m~/anaconda3/lib/python3.7/turtle.py\u001b[0m in \u001b[0;36m_pointlist\u001b[0;34m(self, item)\u001b[0m\n\u001b[1;32m    753\u001b[0m         (9.9999999999999982, 0.0)]\n\u001b[1;32m    754\u001b[0m         >>> \"\"\"\n\u001b[0;32m--> 755\u001b[0;31m         \u001b[0mcl\u001b[0m \u001b[0;34m=\u001b[0m \u001b[0mself\u001b[0m\u001b[0;34m.\u001b[0m\u001b[0mcv\u001b[0m\u001b[0;34m.\u001b[0m\u001b[0mcoords\u001b[0m\u001b[0;34m(\u001b[0m\u001b[0mitem\u001b[0m\u001b[0;34m)\u001b[0m\u001b[0;34m\u001b[0m\u001b[0;34m\u001b[0m\u001b[0m\n\u001b[0m\u001b[1;32m    756\u001b[0m         \u001b[0mpl\u001b[0m \u001b[0;34m=\u001b[0m \u001b[0;34m[\u001b[0m\u001b[0;34m(\u001b[0m\u001b[0mcl\u001b[0m\u001b[0;34m[\u001b[0m\u001b[0mi\u001b[0m\u001b[0;34m]\u001b[0m\u001b[0;34m,\u001b[0m \u001b[0;34m-\u001b[0m\u001b[0mcl\u001b[0m\u001b[0;34m[\u001b[0m\u001b[0mi\u001b[0m\u001b[0;34m+\u001b[0m\u001b[0;36m1\u001b[0m\u001b[0;34m]\u001b[0m\u001b[0;34m)\u001b[0m \u001b[0;32mfor\u001b[0m \u001b[0mi\u001b[0m \u001b[0;32min\u001b[0m \u001b[0mrange\u001b[0m\u001b[0;34m(\u001b[0m\u001b[0;36m0\u001b[0m\u001b[0;34m,\u001b[0m \u001b[0mlen\u001b[0m\u001b[0;34m(\u001b[0m\u001b[0mcl\u001b[0m\u001b[0;34m)\u001b[0m\u001b[0;34m,\u001b[0m \u001b[0;36m2\u001b[0m\u001b[0;34m)\u001b[0m\u001b[0;34m]\u001b[0m\u001b[0;34m\u001b[0m\u001b[0;34m\u001b[0m\u001b[0m\n\u001b[1;32m    757\u001b[0m         \u001b[0;32mreturn\u001b[0m  \u001b[0mpl\u001b[0m\u001b[0;34m\u001b[0m\u001b[0;34m\u001b[0m\u001b[0m\n",
      "\u001b[0;32m<string>\u001b[0m in \u001b[0;36mcoords\u001b[0;34m(self, *args, **kw)\u001b[0m\n",
      "\u001b[0;32m~/anaconda3/lib/python3.7/tkinter/__init__.py\u001b[0m in \u001b[0;36mcoords\u001b[0;34m(self, *args)\u001b[0m\n\u001b[1;32m   2467\u001b[0m         return [self.tk.getdouble(x) for x in\n\u001b[1;32m   2468\u001b[0m                            self.tk.splitlist(\n\u001b[0;32m-> 2469\u001b[0;31m                    self.tk.call((self._w, 'coords') + args))]\n\u001b[0m\u001b[1;32m   2470\u001b[0m     \u001b[0;32mdef\u001b[0m \u001b[0m_create\u001b[0m\u001b[0;34m(\u001b[0m\u001b[0mself\u001b[0m\u001b[0;34m,\u001b[0m \u001b[0mitemType\u001b[0m\u001b[0;34m,\u001b[0m \u001b[0margs\u001b[0m\u001b[0;34m,\u001b[0m \u001b[0mkw\u001b[0m\u001b[0;34m)\u001b[0m\u001b[0;34m:\u001b[0m \u001b[0;31m# Args: (val, val, ..., cnf={})\u001b[0m\u001b[0;34m\u001b[0m\u001b[0;34m\u001b[0m\u001b[0m\n\u001b[1;32m   2471\u001b[0m         \u001b[0;34m\"\"\"Internal function.\"\"\"\u001b[0m\u001b[0;34m\u001b[0m\u001b[0;34m\u001b[0m\u001b[0m\n",
      "\u001b[0;31mTclError\u001b[0m: invalid command name \".!canvas\""
     ]
    }
   ],
   "source": [
    "from turtle import Turtle\n",
    "#canvas = Canvas(size=(800, 800))\n",
    "#my_turtle = Turtle(canvas, (399, 399))\n",
    "my_turtle = Turtle()\n",
    "my_turtle.extras = {}\n",
    "#my_points = [(40, 10), (10, 50), (70, 50)]\n",
    "my_points = [(160, 40), (40, 200), (280, 200)]\n",
    "\n",
    "color_map = [(\"blue\", (0, 51, 153)),\n",
    "             ('red', (153, 51, 51)), \n",
    "             ('green', (0, 153, 51)),\n",
    "             ('white', (255, 255, 255)),\n",
    "             ('yellow', (230, 230, 0)),\n",
    "             ('violet', (172, 0, 230)),\n",
    "             ('orange', (230, 172, 0))]\n",
    "#color = Color(*color_map[degree][1])\n",
    "color = my_turtle.color(\"red\")\n",
    "\n",
    "#draw_triangle(my_points, color, my_turtle)\n",
    "sierpinski(my_points, 5, my_turtle)"
   ]
  },
  {
   "cell_type": "markdown",
   "metadata": {},
   "source": [
    "You will notice that as soon as you run the cell above, a new window is created and turtle graphics will get drawn in that window."
   ]
  },
  {
   "cell_type": "markdown",
   "metadata": {},
   "source": [
    "# Examples of iteration and recursion\n",
    "\n",
    "Let's write a function, `list_sum()`, which takes in a Python container object and sums its contents. "
   ]
  },
  {
   "cell_type": "code",
   "execution_count": 12,
   "metadata": {},
   "outputs": [],
   "source": [
    "# non-recursive, iterative solution\n",
    "def list_sum(nums):\n",
    "    the_sum = 0\n",
    "    for i in nums:\n",
    "        the_sum = the_sum + i\n",
    "    return the_sum"
   ]
  },
  {
   "cell_type": "markdown",
   "metadata": {},
   "source": [
    "Let's use it!"
   ]
  },
  {
   "cell_type": "code",
   "execution_count": 13,
   "metadata": {},
   "outputs": [
    {
     "data": {
      "text/plain": [
       "[74, 88, 56, 52, 76, 23, 13, 36, 42, 17]"
      ]
     },
     "execution_count": 13,
     "metadata": {},
     "output_type": "execute_result"
    }
   ],
   "source": [
    "import random\n",
    "nums = random.choices(range(100), k=10)\n",
    "nums"
   ]
  },
  {
   "cell_type": "code",
   "execution_count": 14,
   "metadata": {},
   "outputs": [
    {
     "data": {
      "text/plain": [
       "477"
      ]
     },
     "execution_count": 14,
     "metadata": {},
     "output_type": "execute_result"
    }
   ],
   "source": [
    "list_sum(nums)"
   ]
  },
  {
   "cell_type": "markdown",
   "metadata": {},
   "source": [
    "Now let's write the recursive analog of this function, which we'll call `list_sum_r()`:"
   ]
  },
  {
   "cell_type": "code",
   "execution_count": 15,
   "metadata": {},
   "outputs": [],
   "source": [
    "def list_sum_r(nums):\n",
    "    if len(nums) == 1:  # Base Case\n",
    "        return nums[0]\n",
    "    else:\n",
    "        return nums[0] + list_sum_r(nums[1:]) "
   ]
  },
  {
   "cell_type": "code",
   "execution_count": 16,
   "metadata": {},
   "outputs": [
    {
     "data": {
      "text/plain": [
       "477"
      ]
     },
     "execution_count": 16,
     "metadata": {},
     "output_type": "execute_result"
    }
   ],
   "source": [
    "list_sum_r(nums)"
   ]
  },
  {
   "cell_type": "markdown",
   "metadata": {},
   "source": [
    "Do you see the way it works? It uses a computation pattern called **divide and conquer**. What it does is it takes one of the numbers in the list, $x$ and sums it to the rest by calling itself with a slightly smaller list than initially: the list minus the number $x$. Eventually, when the number of elements in the list reduces to 1, the recursive function ends the recursion by returning that last number.\n",
    "\n",
    "The best way to think about recursion in my opinion is to tahking about having multiple conversations: You start talking with Joe, then Sue interrupts, you freeze the conversation with Joe (and Joe alongside it), and you continue with Sue. Then Sam interrupts, so you freeze Sue, and continue on with Sam. When Sam is done, you unfreeze Sue. When Sue is done, you unfreeze Joe. And then you're done. \n",
    "\n",
    "And nothing stops you from talking about Joe while he's frozen and you're talking to Sue. So this [russian dolls](https://en.wikipedia.org/wiki/Matryoshka_doll) process should not throw you off.\n",
    "\n",
    "Python's *sys* module has a limit to the number of conversation freezes it can handle, though. And that is because Python, just like you, needs a lot memory to store all frozen conversations."
   ]
  },
  {
   "cell_type": "code",
   "execution_count": 17,
   "metadata": {},
   "outputs": [
    {
     "data": {
      "text/plain": [
       "3000"
      ]
     },
     "execution_count": 17,
     "metadata": {},
     "output_type": "execute_result"
    }
   ],
   "source": [
    "import sys\n",
    "sys.getrecursionlimit()"
   ]
  },
  {
   "cell_type": "markdown",
   "metadata": {},
   "source": [
    "Here is the factorial function in recursive form:"
   ]
  },
  {
   "cell_type": "code",
   "execution_count": 18,
   "metadata": {},
   "outputs": [],
   "source": [
    "def fact(n):\n",
    "    if n == 0:  # 0! == 1\n",
    "        return 1\n",
    "    else:\n",
    "        return n * fact(n - 1)"
   ]
  },
  {
   "cell_type": "code",
   "execution_count": 19,
   "metadata": {},
   "outputs": [
    {
     "name": "stdout",
     "output_type": "stream",
     "text": [
      "0: 1\n",
      "1: 1\n",
      "2: 2\n",
      "3: 6\n",
      "4: 24\n",
      "5: 120\n",
      "6: 720\n",
      "7: 5040\n",
      "8: 40320\n",
      "9: 362880\n",
      "10: 3628800\n",
      "11: 39916800\n"
     ]
    }
   ],
   "source": [
    "for i in range(12): print(f\"{i}: {fact(i)}\")"
   ]
  },
  {
   "cell_type": "markdown",
   "metadata": {},
   "source": [
    "Here's the greatest common divisor for integers in recursive form:"
   ]
  },
  {
   "cell_type": "code",
   "execution_count": 20,
   "metadata": {},
   "outputs": [],
   "source": [
    "def gcd(a,b):\n",
    "    if b == 0:\n",
    "        return a\n",
    "    elif a < b:\n",
    "        return gcd(b,a)\n",
    "    else:\n",
    "        return gcd(a-b, b)"
   ]
  },
  {
   "cell_type": "code",
   "execution_count": 21,
   "metadata": {},
   "outputs": [
    {
     "data": {
      "text/plain": [
       "12"
      ]
     },
     "execution_count": 21,
     "metadata": {},
     "output_type": "execute_result"
    }
   ],
   "source": [
    "gcd(24, 12)"
   ]
  },
  {
   "cell_type": "markdown",
   "metadata": {},
   "source": [
    "And here's a slightly optimized version:"
   ]
  },
  {
   "cell_type": "code",
   "execution_count": 22,
   "metadata": {},
   "outputs": [],
   "source": [
    "def gcd2(a, b):\n",
    "    if b == 0:\n",
    "        return a\n",
    "    else:\n",
    "        return gcd2(b, a%b)"
   ]
  },
  {
   "cell_type": "code",
   "execution_count": 23,
   "metadata": {},
   "outputs": [
    {
     "data": {
      "text/plain": [
       "8"
      ]
     },
     "execution_count": 23,
     "metadata": {},
     "output_type": "execute_result"
    }
   ],
   "source": [
    "gcd2(16, 24)"
   ]
  },
  {
   "cell_type": "markdown",
   "metadata": {},
   "source": [
    "The [Tower of Hanoi](https://en.wikipedia.org/wiki/Tower_of_Hanoi) is a mathematical game or puzzle. It consists of three rods and a number of disks of different sizes, which can slide onto any rod. The puzzle starts with the disks in a neat stack in ascending order of size on one rod, the smallest at the top, thus making a conical shape.\n",
    "\n",
    "The objective of the puzzle is to move the entire stack to another rod, obeying the following simple rules:\n",
    "\n",
    "* Only one disk can be moved at a time.\n",
    "* Each move consists of taking the upper disk from one of the stacks and placing it on top of another stack or on an empty rod.\n",
    "* No larger disk may be placed on top of a smaller disk.\n",
    "\n",
    "Here's the recursive solution of the game:"
   ]
  },
  {
   "cell_type": "code",
   "execution_count": 24,
   "metadata": {},
   "outputs": [],
   "source": [
    "def move_tower(height, from_pole, to_pole, with_pole):\n",
    "    if height >= 1:\n",
    "        move_tower(height-1, from_pole, with_pole, to_pole)\n",
    "        move_disk(from_pole, to_pole)\n",
    "        move_tower(height-1, with_pole, to_pole, from_pole)\n",
    "        \n",
    "def move_disk(fp, tp):\n",
    "    print(\"moving disk from\", fp, \"to\", tp)"
   ]
  },
  {
   "cell_type": "code",
   "execution_count": 25,
   "metadata": {},
   "outputs": [
    {
     "name": "stdout",
     "output_type": "stream",
     "text": [
      "moving disk from A to B\n",
      "moving disk from A to C\n",
      "moving disk from B to C\n",
      "moving disk from A to B\n",
      "moving disk from C to A\n",
      "moving disk from C to B\n",
      "moving disk from A to B\n"
     ]
    }
   ],
   "source": [
    "move_tower(3, \"A\", \"B\", \"C\")"
   ]
  },
  {
   "cell_type": "markdown",
   "metadata": {},
   "source": [
    "And here's the iterative analog:"
   ]
  },
  {
   "cell_type": "code",
   "execution_count": 26,
   "metadata": {},
   "outputs": [],
   "source": [
    "def hanoi_iter(height, fromPole, toPole, withPole):\n",
    "        if height % 2 == 0:\n",
    "            poles = [fromPole, withPole, toPole]\n",
    "        else:\n",
    "            poles = [fromPole, toPole, withPole]\n",
    "        stacks = [range(height, 0, -1), [height], [height]]\n",
    "        for i in range(2**height-1):\n",
    "            if i % 2 == 0:  # move little disk\n",
    "                fd = (i//2)%3\n",
    "                td = (i//2+1)%3\n",
    "            else:           # move other disk\n",
    "                fd = (i//2)%3\n",
    "                td = (i//2+2)%3\n",
    "                if (stacks[fd][len(stacks[fd])-1] > \n",
    "                    stacks[td][len(stacks[td])-1]):\n",
    "                    td = (i//2)%3\n",
    "                    fd = (i//2+2)%3\n",
    "                stacks[td].append(list(stacks[fd]).pop())\n",
    "            move_disk(poles[fd], poles[td])"
   ]
  },
  {
   "cell_type": "code",
   "execution_count": 27,
   "metadata": {},
   "outputs": [
    {
     "name": "stdout",
     "output_type": "stream",
     "text": [
      "moving disk from A to B\n",
      "moving disk from A to C\n",
      "moving disk from B to C\n",
      "moving disk from A to B\n",
      "moving disk from C to A\n",
      "moving disk from C to B\n",
      "moving disk from A to B\n"
     ]
    }
   ],
   "source": [
    "hanoi_iter(3, \"A\", \"B\", \"C\")"
   ]
  },
  {
   "cell_type": "markdown",
   "metadata": {},
   "source": [
    "Which one do you think is easier to understand? Which one is easier to implement?\n",
    "\n",
    "Here are two famous **sorting algorithms** in computer science. A [bubble sort](https://en.wikipedia.org/wiki/Bubble_sort), a simple sorting algorithm that repeatedly steps through the list, compares adjacent pairs and swaps them if they are in the wrong order, with the pass repeated through the list until the list is sorted, is most often implemented iteratively. A [merge sort](https://en.wikipedia.org/wiki/Merge_sort), a divide and conquer algorithm that was invented by John von Neumann in 1945, which divides the unsorted list into n sublists, each containing one element (a list of one element is considered sorted), then repeatedly merges sublists to produce new sorted sublists until there is only one sublist remaining, the sorted list, is implemented recursively."
   ]
  },
  {
   "cell_type": "code",
   "execution_count": 33,
   "metadata": {},
   "outputs": [],
   "source": [
    "from random import choices\n",
    "nums = choices(range(1_000_000), k=8000)"
   ]
  },
  {
   "cell_type": "code",
   "execution_count": 34,
   "metadata": {},
   "outputs": [
    {
     "data": {
      "text/plain": [
       "8000"
      ]
     },
     "execution_count": 34,
     "metadata": {},
     "output_type": "execute_result"
    }
   ],
   "source": [
    "len(nums)"
   ]
  },
  {
   "cell_type": "code",
   "execution_count": 35,
   "metadata": {},
   "outputs": [],
   "source": [
    "def bubble_sort(alist):\n",
    "    for passnum in range(len(alist)-1, 0, -1):\n",
    "        for i in range(passnum):\n",
    "            if alist[i] > alist[i+1]:\n",
    "                temp = alist[i]\n",
    "                alist[i] = alist[i+1]\n",
    "                alist[i+1] = temp"
   ]
  },
  {
   "cell_type": "code",
   "execution_count": 36,
   "metadata": {},
   "outputs": [
    {
     "name": "stdout",
     "output_type": "stream",
     "text": [
      "CPU times: user 12.6 s, sys: 23.3 ms, total: 12.6 s\n",
      "Wall time: 12.9 s\n"
     ]
    }
   ],
   "source": [
    "%%time\n",
    "bubble_sort(nums)"
   ]
  },
  {
   "cell_type": "code",
   "execution_count": 37,
   "metadata": {},
   "outputs": [
    {
     "data": {
      "text/plain": [
       "'76,161,163,427,472,492,624,676,678,701,824,1026,1074,1196,1411,1588,1745,1877,1929,1985,2048,2114,2330,2549,2552,2774,2991,3054,3333,3568,3723,3888,4003,4238,4279,4345,4358,4430,4473,4507,4535,4605,4622,4847,4885,5065,5100,5298,5557,5791,5907,6557,6680,6688,6878,6941,6955,7040,7180,7201,7221,7250,7322,7328,7354,7507,7775,7824,7894,8069,8310,8384,8458,8533,8713,8717,8829,8888,9000,9027,9134,9200,9439,9496,9534,9665,9688,9693,9709,9716,9873,10147,10403,10537,10739,10748,10866,11509,11515,11721'"
      ]
     },
     "execution_count": 37,
     "metadata": {},
     "output_type": "execute_result"
    }
   ],
   "source": [
    "','.join([str(x) for x in nums[0:100]])"
   ]
  },
  {
   "cell_type": "code",
   "execution_count": 38,
   "metadata": {},
   "outputs": [],
   "source": [
    "def merge_sort(alist):\n",
    "    #print(\"Splitting \", alist)\n",
    "    \n",
    "    if len(alist) > 1:\n",
    "        mid = len(alist)//2\n",
    "        lefthalf = alist[:mid]\n",
    "        righthalf = alist[mid:]\n",
    "        \n",
    "        merge_sort(lefthalf)\n",
    "        merge_sort(righthalf)\n",
    "        \n",
    "        i = 0\n",
    "        j = 0\n",
    "        k = 0\n",
    "        \n",
    "        while i < len(lefthalf) and j < len(righthalf):\n",
    "            if lefthalf[i] < righthalf[j]:\n",
    "                alist[k] = lefthalf[i]\n",
    "                i += 1\n",
    "            else:\n",
    "                alist[k] = righthalf[j]\n",
    "                j += 1\n",
    "                \n",
    "            k += 1\n",
    "                \n",
    "        while i < len(lefthalf):\n",
    "            alist[k] = lefthalf[i]\n",
    "            i += 1\n",
    "            k += 1\n",
    "            \n",
    "        while j < len(righthalf):\n",
    "            alist[k] = righthalf[j]\n",
    "            j += 1\n",
    "            k += 1"
   ]
  },
  {
   "cell_type": "code",
   "execution_count": 39,
   "metadata": {},
   "outputs": [
    {
     "name": "stdout",
     "output_type": "stream",
     "text": [
      "CPU times: user 66.2 ms, sys: 970 µs, total: 67.2 ms\n",
      "Wall time: 66.7 ms\n"
     ]
    }
   ],
   "source": [
    "%%time\n",
    "merge_sort(nums)"
   ]
  },
  {
   "cell_type": "markdown",
   "metadata": {},
   "source": [
    "Here's a **stack class**, a famous structure in computer science that Python (and any other language) uses to implement recursion (to freeze \"conversations\"). A [stack](https://en.wikipedia.org/wiki/Stack_(abstract_data_type)) is an abstract data type that serves as a collection of elements, with two principal operations:\n",
    "\n",
    "* `push`, which adds an element to the collection, and\n",
    "* `pop`, which removes the most recently added element that was not yet removed."
   ]
  },
  {
   "cell_type": "code",
   "execution_count": 40,
   "metadata": {},
   "outputs": [],
   "source": [
    "class Stack:\n",
    "    def __init__(self):\n",
    "        self.items = []  # data structure\n",
    "        \n",
    "    def is_empty(self):\n",
    "        return self.items == []\n",
    "    \n",
    "    def push(self, item):\n",
    "        self.items.append(item)\n",
    "        \n",
    "    def pop(self):\n",
    "        if self.is_empty():\n",
    "            raise IndexError(\"Pop from an empty stack\")\n",
    "            \n",
    "        #item = self.items[-1]\n",
    "        #del self.items[-1]\n",
    "        #return item\n",
    "        return self.items.pop()\n",
    "        \n",
    "    def peek(self):\n",
    "        return self.items[-1]\n",
    "    \n",
    "    def size(self):\n",
    "        return len(self.items)"
   ]
  },
  {
   "cell_type": "markdown",
   "metadata": {},
   "source": [
    "Let's use it to check an expression for balanced parentheses:"
   ]
  },
  {
   "cell_type": "code",
   "execution_count": 41,
   "metadata": {},
   "outputs": [],
   "source": [
    "def par_checker(symbol_str):\n",
    "    s = Stack()\n",
    "    balanced = True\n",
    "    index = 0\n",
    "    \n",
    "    while index < len(symbol_str) and balanced:\n",
    "        symbol = symbol_str[index]\n",
    "        if symbol == '(':\n",
    "            s.push(symbol)\n",
    "        else:\n",
    "            if s.is_empty():\n",
    "                balanced = False\n",
    "            else:\n",
    "                s.pop()\n",
    "        print(balanced, symbol, s.items)\n",
    "        index += 1\n",
    "    \n",
    "    return balanced and s.is_empty()"
   ]
  },
  {
   "cell_type": "code",
   "execution_count": 42,
   "metadata": {},
   "outputs": [
    {
     "name": "stdout",
     "output_type": "stream",
     "text": [
      "True ( ['(']\n",
      "True ( ['(', '(']\n",
      "True ( ['(', '(', '(']\n",
      "True ) ['(', '(']\n",
      "True ) ['(']\n",
      "True ) []\n",
      "True\n"
     ]
    }
   ],
   "source": [
    "print(par_checker('((()))'))"
   ]
  },
  {
   "cell_type": "code",
   "execution_count": 43,
   "metadata": {},
   "outputs": [
    {
     "name": "stdout",
     "output_type": "stream",
     "text": [
      "True ( ['(']\n",
      "True ( ['(', '(']\n",
      "True ) ['(']\n",
      "False\n"
     ]
    }
   ],
   "source": [
    "print(par_checker('(()'))"
   ]
  },
  {
   "cell_type": "code",
   "execution_count": 44,
   "metadata": {},
   "outputs": [
    {
     "name": "stdout",
     "output_type": "stream",
     "text": [
      "True ( ['(']\n",
      "True ( ['(', '(']\n",
      "True ( ['(', '(', '(']\n",
      "True ( ['(', '(', '(', '(']\n",
      "True ) ['(', '(', '(']\n",
      "True ) ['(', '(']\n",
      "True ) ['(']\n",
      "False\n"
     ]
    }
   ],
   "source": [
    "print(par_checker('(((()))'))"
   ]
  },
  {
   "cell_type": "code",
   "execution_count": 45,
   "metadata": {},
   "outputs": [
    {
     "name": "stdout",
     "output_type": "stream",
     "text": [
      "True ( ['(']\n",
      "True ( ['(', '(']\n",
      "True ) ['(']\n",
      "True ( ['(', '(']\n",
      "True ) ['(']\n",
      "True ) []\n",
      "False ) []\n",
      "False\n"
     ]
    }
   ],
   "source": [
    "print(par_checker('(()()))'))"
   ]
  },
  {
   "cell_type": "markdown",
   "metadata": {},
   "source": [
    "Now we're going to use parenthesis to represent **folding** in RNA structures.\n",
    "\n",
    "**RNA folding** is the process by which a linear ribonucleic acid (RNA) molecule acquires secondary structure through intra-molecular interactions. The folded domains of RNA molecules are often the sites of specific interactions with proteins in forming RNA–protein (ribonucleoprotein) complexes. A fascinating story in biology, read more about it [here](https://cshperspectives.cshlp.org/content/10/10/a032433.full).\n",
    "\n",
    "Then we're going to study population genetics in an RNA world, and then finally evolve a very important class of algorithms called **genetic algorithms**, which help in solving your tree/forest homework."
   ]
  },
  {
   "cell_type": "markdown",
   "metadata": {},
   "source": [
    "# Population Genetics in an RNA World\n",
    "\n",
    "In order to study population genetics, we first need a model of a population. And even before that, we need to define what we mean by population. For our purposes, we will simply say that a population is a set of individuals sharing a common environment. And because this is population genetics we can think of individuals as entities comprising of specific genes or chromosomes.\n",
    "\n",
    "Let's create and studying our own \"artificial\" populations to illustrate some important population genetics concepts and methodologies. \n",
    "\n",
    "As you may know, RNA is widely thought to be the first self replicating life-form to arise many billion years ago. One of the strongest arguments for this theory is that RNA is able to carry information in its nucleotides like DNA, and like protein, it is able to adopt higher order structures to catalyze reactions, such as self replication. So it is likely, and there is growing evidence that this is the case, that the first form of replicating life was RNA. And because of this dual property of RNA as an information vessel as well as a structural/functional element we can use RNA molecules to build very nice population models.\n",
    "\n",
    "\n",
    "## Building an RNA population\n",
    "\n",
    "RNA has the nice property of posessing a strong mapping between information carrying (sequence) and function (structure). This is analogous to what is known in evolutionary terms as a **genotype** and a **phenotype**. With these properties, we have everything we need to model a population, and simulate its evolution.\n",
    "\n",
    "### RNA sequence-structure\n",
    "\n",
    "We can think of the genotype as a sequence s\n",
    "consisting of letters/nucleotides from the alphabet {U,A,C,G}. The corresponding phenotype ω is the secondary structure of s, which can be thought of as a pairing between nucleotides in the primary sequence that give rise to a 3D architecture. Because it has been shown that the function of many biomolecules, including RNA, is driven by structure, this gives us a good proxy for phenotype.\n",
    "\n",
    "[Here's](http://www.bioinf.man.ac.uk/resources/phase/manual/node72.html) an example of what an RNA secondary structure, or pairing, might look like."
   ]
  },
  {
   "cell_type": "markdown",
   "metadata": {},
   "source": [
    "From this [paper](http://www.bioinf.uni-leipzig.de/Leere/SS15/Bioinf2/lengauer.pdf), you can see that unpaired positions form loop-like structures, and paired positions form stem-like structures. It is this spatial arrangement of nucleotides that drives RNA's function. Therefore, another sequence that adopts a similar shape, is likely to behave in a similar manner. \n",
    "\n",
    "Although in reality this is often not the case, we will only allow pairs between {C,G} and {A,U} nucleotides in this notebook.\n",
    "\n",
    "How do we go from a sequence to a structure? A secondary structure is just a list of pairings between positions. How do we get the optimal pairing?\n",
    "\n",
    "The algorithm we're going to be using is known as the [Nussinov Algorithm](http://math.mit.edu/classes/18.417/Slides/rna-prediction-nussinov.pdf). The Nussinov algorithm is one of the first and simplest attempts at predicting RNA structure. Because bonds tend to stabilize RNA, the algorithm tries to maximize the number of pairs in the structure and return that as its solution. \n",
    "\n",
    "Current approaches achieve more accurate solutions by using energy models based one experimental values to then obtain a structure that minimizes free energy. Here's how we're going to simulate the nussinov algorithm. I just browsed the Web and found something simple to work with :-)\n",
    "\n",
    "Ok, maybe not that simple. But do not worry about it. We'll predict secondary structures by calling nussinov() with a sequence string and it will return a tuple in the form (structure, pairs). And our pairs are going to consist of a sequence of balanced parenthesis that bond pairs in the linear sequence.\n",
    "\n",
    "We start off by importing `numpy`, the most famous Python library: *the one that gives you performance*!"
   ]
  },
  {
   "cell_type": "code",
   "execution_count": 46,
   "metadata": {},
   "outputs": [
    {
     "name": "stdout",
     "output_type": "stream",
     "text": [
      "('ACCCGAUGUUAUAUAUACCU', '(...(..(((....).))))')\n"
     ]
    }
   ],
   "source": [
    "import numpy as np\n",
    "min_loop_length = 4\n",
    "\n",
    "def pair_check(tup):\n",
    "    if tup in [('A', 'U'), ('U', 'A'), ('C', 'G'), ('G', 'C')]:\n",
    "        return True\n",
    "    return False\n",
    "\n",
    "def OPT(i,j, sequence):\n",
    "    \"\"\" returns the score of the optimal pairing between indices i and j\"\"\"\n",
    "    #base case: no pairs allowed when i and j are less than 4 bases apart\n",
    "    if i >= j-min_loop_length:\n",
    "        return 0\n",
    "    else:\n",
    "        #i and j can either be paired or not be paired, if not paired then the optimal score is OPT(i,j-1)\n",
    "        unpaired = OPT(i, j-1, sequence)\n",
    "\n",
    "        #check if j can be involved in a pairing with a position t\n",
    "        pairing = [1 + OPT(i, t-1, sequence) + OPT(t+1, j-1, sequence) for t in range(i, j-4)\\\n",
    "                   if pair_check((sequence[t], sequence[j]))]\n",
    "        if not pairing:\n",
    "            pairing = [0]\n",
    "        paired = max(pairing)\n",
    "\n",
    "\n",
    "        return max(unpaired, paired)\n",
    "\n",
    "\n",
    "def traceback(i, j, structure, DP, sequence):\n",
    "    #in this case we've gone through the whole sequence. Nothing to do.\n",
    "    if j <= i:\n",
    "        return\n",
    "    #if j is unpaired, there will be no change in score when we take it out, so we just recurse to the next index\n",
    "    elif DP[i][j] == DP[i][j-1]:\n",
    "        traceback(i, j-1, structure, DP, sequence)\n",
    "    else:\n",
    "        #try pairing j with a matching index k to its left.\n",
    "        for k in [b for b in range(i, j-min_loop_length) if pair_check((sequence[b], sequence[j]))]:\n",
    "            #if the score at i,j is the result of adding 1 from pairing (j,k) and whatever score\n",
    "            #comes from the substructure to its left (i, k-1) and to its right (k+1, j-1)\n",
    "            if k-1 < 0:\n",
    "                if DP[i][j] == DP[k+1][j-1] + 1:\n",
    "                    structure.append((k,j))\n",
    "                    traceback(k+1, j-1, structure, DP, sequence)\n",
    "                    break\n",
    "            elif DP[i][j] == DP[i][k-1] + DP[k+1][j-1] + 1:\n",
    "                #add the pair (j,k) to our list of pairs\n",
    "                structure.append((k,j))\n",
    "                #move the recursion to the two substructures formed by this pairing\n",
    "                traceback(i, k-1, structure, DP, sequence)\n",
    "                traceback(k+1, j-1, structure, DP, sequence)\n",
    "                break\n",
    "\n",
    "def write_structure(sequence, structure):\n",
    "    dot_bracket = [\".\" for _ in range(len(sequence))]\n",
    "    for s in structure:\n",
    "        dot_bracket[min(s)] = \"(\"\n",
    "        dot_bracket[max(s)] = \")\"\n",
    "    return \"\".join(dot_bracket)\n",
    "\n",
    "\n",
    "#initialize matrix with zeros where can't have pairings\n",
    "def initialize(N):\n",
    "    #NxN matrix that stores the scores of the optimal pairings.\n",
    "    DP = np.empty((N,N))\n",
    "    DP[:] = np.NAN\n",
    "    for k in range(0, min_loop_length):\n",
    "        for i in range(N-k):\n",
    "            j = i + k\n",
    "            DP[i][j] = 0\n",
    "    return DP\n",
    "\n",
    "def nussinov(sequence):\n",
    "    N = len(sequence)\n",
    "    DP = initialize(N)\n",
    "    structure = []\n",
    "\n",
    "    #fill the DP matrix\n",
    "    for k in range(min_loop_length, N):\n",
    "        for i in range(N-k):\n",
    "            j = i + k\n",
    "            DP[i][j] = OPT(i,j, sequence)\n",
    "\n",
    "    #copy values to lower triangle to avoid null references\n",
    "    for i in range(N):\n",
    "        for j in range(0, i):\n",
    "            DP[i][j] = DP[j][i]\n",
    "\n",
    "\n",
    "    traceback(0,N-1, structure, DP, sequence)\n",
    "    return (sequence, write_structure(sequence, structure))\n",
    "\n",
    "print(nussinov(\"ACCCGAUGUUAUAUAUACCU\"))"
   ]
  },
  {
   "cell_type": "markdown",
   "metadata": {},
   "source": [
    "The funny dot-bracket string in the output is a representation of the seconday structure of an RNA nucleotide. \n",
    "\n",
    "Quite simply, a matching pair of parentheses (open and close) correspond to the nucleotides at those positions being paired. Whereas, a dot means that that position is unpaired in the structure. "
   ]
  },
  {
   "cell_type": "code",
   "execution_count": 47,
   "metadata": {},
   "outputs": [
    {
     "name": "stdout",
     "output_type": "stream",
     "text": [
      "('ACCCGAUGUUAUAUAUACCU', '(...(..(((....).))))')\n",
      "ACCCGAUGUUAUAUAUACCU\n",
      "ACCCGAUGUUAUAUAUACCU\n",
      "(...(..(((....).))))\n"
     ]
    }
   ],
   "source": [
    "sequence_to_fold = \"ACCCGAUGUUAUAUAUACCU\"\n",
    "struc = nussinov(sequence_to_fold)\n",
    "print(struc)\n",
    "print(sequence_to_fold)\n",
    "print(struc[0])\n",
    "print(struc[1])"
   ]
  },
  {
   "cell_type": "markdown",
   "metadata": {},
   "source": [
    "Let's move on to building our populations.\n",
    "\n",
    "## Fitness of a sequence: Target Structure\n",
    "\n",
    "Now that we have a good way of getting a phenotype (secondary structure), we need a way to evaluate the fitness of that phenotype. \n",
    "\n",
    "If we think in real life terms, fitness is the ability of a genotype to replicate into the next generation. If you have a gene carrying a mutation that causes some kind of disease, your fitness is decreased and you have a lower chance of contributing offspring to the next generation. \n",
    "\n",
    "On a molecular level the same concept applies. A molecule needs to accomplish a certain function, i.e. bind to some other molecule or send some kind of signal. And as we've seen before, the most important factor that determines how well it can carry out this function is its **structure**. \n",
    "\n",
    "So we can imagine that a certain structure, we can call this a 'target' structure, is required in order to accomplish a certain function. So a sequence that folds correctly to a target structure is seen as having greater fitness than one that does not. \n",
    "\n",
    "Since we've encoded structures as simple dot-bracket strings, we can easily compare structures and thus evaluate the fitness between a given structure and the target, or 'correct' structure.\n",
    "\n",
    "There are many ways to compare structures w1 and w2, but we're going to use one of the simplest ways, which is base-pair distance. This is just the number of pairs in w1 that are not in w2. "
   ]
  },
  {
   "cell_type": "code",
   "execution_count": 48,
   "metadata": {},
   "outputs": [
    {
     "name": "stdout",
     "output_type": "stream",
     "text": [
      "((....)) {(1, 6), (0, 7)}\n",
      ".(....). {(1, 6)}\n",
      "1\n"
     ]
    }
   ],
   "source": [
    "#ss_to_bp() and bp_distance() by Vladimir Reinharz.\n",
    "# https://www.researchgate.net/publication/236249566_RNAiFOLD_a_constraint_programming_algorithm_for_RNA_inverse_folding_and_molecular_design\n",
    "\n",
    "def ss_to_bp(ss):\n",
    "    bps = set()\n",
    "    l = []\n",
    "    for i, x in enumerate(ss):\n",
    "            if x == '(':\n",
    "                    l.append(i)\n",
    "            elif x == ')':\n",
    "                    bps.add((l.pop(), i))\n",
    "    return bps\n",
    "\n",
    "def bp_distance(w1, w2):\n",
    "    \"\"\"\n",
    "    return base pair distance between structures w1 and w2. \n",
    "    w1 and w2 are lists of tuples representing pairing indices.\n",
    "    \"\"\"\n",
    "    return len(set(ss_to_bp(w1)).symmetric_difference(set(ss_to_bp(w2))))\n",
    "\n",
    "#let's fold two sequences\n",
    "w1 = nussinov(\"CCAAAAGG\")\n",
    "w2 = nussinov(\"ACAAAAGA\")\n",
    "\n",
    "print(w1[-1], ss_to_bp(w1[-1]))\n",
    "print(w2[-1], ss_to_bp(w2[-1]))\n",
    "\n",
    "#give the list of pairs to bp_distance and see what the distance is.\n",
    "print(bp_distance(w1[-1], w2[-1]))"
   ]
  },
  {
   "cell_type": "markdown",
   "metadata": {},
   "source": [
    "# Defining a cell: a little bit of Object Oriented Programming (OOP)\n",
    "\n",
    "Since we're going to be playing aroudn with sequences and structures and fitness values a lot, it's best to package it all nicely into an object. As we already mentionned OOP, classes and objects, are just a nice way of **grouping** data and logic into an easily accessible form.\n",
    "\n",
    "From [here](https://opentextbc.ca/biology/chapter/6-1-the-genome/), we learn all we need to know about human genetics, for now:\n",
    "\n",
    "A **somatic cell** contains *two matched sets of chromosomes*, a configuration known as **diploid**. The letter n is used to represent a single set of chromosomes; therefore a diploid organism is designated 2n. \n",
    "\n",
    "Human cells that contain one set of 23 chromosomes are called **gametes**, or **sex cells**. These eggs and sperm are designated n, or **haploid**.\n",
    "\n",
    "Matched pairs of chromosomes in a diploid organism are called **homologous chromosomes**. Each copy of the homologous pair of chromosomes originates from a *different parent*. Therefore, the copies of each of the genes themselves may not be identical. The variation of individuals within a species is caused by the specific combination of the genes inherited from *both* parents.\n",
    "\n",
    "We're trying to simulate evolution on a very simple kind of organism, or cell. It contains two copies of a RNA gene, each with its corresponding structure."
   ]
  },
  {
   "cell_type": "code",
   "execution_count": 49,
   "metadata": {},
   "outputs": [
    {
     "name": "stdout",
     "output_type": "stream",
     "text": [
      "AACCCCUU ((.....)) GGAAAACA (....).\n"
     ]
    }
   ],
   "source": [
    "class Cell:\n",
    "    def __init__(self, seq_1, struc_1, seq_2, struc_2):\n",
    "        self.sequence_1 = seq_1\n",
    "        self.sequence_2 = seq_2\n",
    "        self.structure_1 = struc_1\n",
    "        self.structure_2 = struc_2\n",
    "        \n",
    "#for now just try initializing a Cell with made up sequences and structures - just make sure parenses are balanced!\n",
    "cell = Cell(\"AACCCCUU\", \"((.....))\", \"GGAAAACA\", \"(....).\")\n",
    "print(cell.sequence_1, cell.structure_1, cell.sequence_2, cell.structure_2)"
   ]
  },
  {
   "cell_type": "markdown",
   "metadata": {},
   "source": [
    "## Populations of Cells\n",
    "\n",
    "Now we've defined a `Cell`. Since a population is a collection of individuals, populations will naturally consist of lists of 'Cell' objects, each with their own sequences. Here we initialize all Cells with random sequences and add them to the 'population' list.\n"
   ]
  },
  {
   "cell_type": "code",
   "execution_count": 50,
   "metadata": {},
   "outputs": [],
   "source": [
    "import random\n",
    "\n",
    "def populate(target, pop_size=100):\n",
    "    \n",
    "    population = []\n",
    "\n",
    "    for i in range(pop_size):\n",
    "        #get a random sequence to start with\n",
    "        sequence1 = \"\".join([random.choice(\"AUCG\") for _ in range(len(target))])\n",
    "        sequence2 = \"\".join([random.choice(\"AUCG\") for _ in range(len(target))])\n",
    "        #use nussinov to get the secondary structure for the sequence\n",
    "        structure1 = nussinov(sequence1)\n",
    "        structure2 = nussinov(sequence2)\n",
    "        #add a new Cell object to the population list\n",
    "        new_cell = Cell(sequence1, structure1, sequence2, structure2)\n",
    "        new_cell.id = i\n",
    "        new_cell.parent = i\n",
    "        population.append(new_cell)\n",
    "            \n",
    "    return population"
   ]
  },
  {
   "cell_type": "markdown",
   "metadata": {},
   "source": [
    "Try creating a new population and printing the first 10 sequences and structures (in dot-bracket)!"
   ]
  },
  {
   "cell_type": "code",
   "execution_count": 51,
   "metadata": {},
   "outputs": [
    {
     "name": "stdout",
     "output_type": "stream",
     "text": [
      "0 CUAGGAUAGUCCCGUUGGUG (.(((.....))(....))) GUUGGGUUCGGAUGCCAUGC ((.((.(....)..)))..)\n",
      "1 GAUUUGUUACUGAGCAGCUC (((..((.....).))..)) GAGAUAGUACAGACGAACAC (.(.(.((....)).).).)\n",
      "2 ACUGAACAGGCAAGCAACUG ((((......)).)....). UUAUGCAUAGAGAGGAGUUA (.((.(.(....)).).).)\n",
      "3 CGGAGAGUUGAACGUUUUGU (..(....))((....)).. CGAAUCCAAAGAUACAGCUU (((.((....))).).)...\n",
      "4 ACGUUAACGUAGAUUUUAUG (((....))((....).)). CACCUGCGUUACACACCUGA ((...(.((.....))))).\n",
      "5 UGGUCUGUCUCACAGUCCUC .((.(((.....))).)).. AUCGCGGUCCAUGGUGGAGG ..(.(..(((.....)))))\n",
      "6 UUUGAUGUGCUGUACUGGUG ....(.((.....))).... CUCGUAGUGCCCCAGAUGGG ((((..(....)).)).)..\n",
      "7 AGAUGGUAUGAGAUUCGUAC ((((......)..).).).. CUUGCUAAUUUUAGCUUGAA .((((((....))))...))\n",
      "8 AACAUUCCCGUUUGUUGGUA ((((......)..))).... UAGACUAUACGGGUGGGAAG ....((.((....)...)))\n",
      "9 CCAGUUGGAUGUAUCCCCAG (..(..(((....))))..) ACACAUGCUGGGCCACUACA (((.....))(....))...\n"
     ]
    }
   ],
   "source": [
    "target = \"(.(((....).).).)....\"\n",
    "pop = populate(target, pop_size=100)\n",
    "for p in pop[:10]:\n",
    "    print(p.id, p.sequence_1, p.structure_1[1], p.sequence_2, p.structure_2[1])"
   ]
  },
  {
   "cell_type": "markdown",
   "metadata": {},
   "source": [
    "## The Fitness of a Cell\n",
    "\n",
    "Now that we can store populations of cells, we need a way to evaluate the fitness of a given Cell. Recall that a Cell is simply an object that contains **two RNA sequences** (think of it as two copies of a gene on each chromosome).\n",
    "\n",
    "So we simply need to loop through each Cell in a population and compute base pair distance to the target structure. However, simply using base-pair distance is not a very good measure of fitness. There are two reasons for this:\n",
    "\n",
    "* We want fitness to represent a **probability** that a cell will reproduce, and base pair distance is an integer.\n",
    "* We want this probability to be a **relative measure**. That is, we want to be the fitness to be proportional to how good a cell is with respect to all others in the population. This touches on an important principle in evolution where we only need to be 'better' than the competition and not good in some absolute measure. For example, if you and I are being chased by a lion. In order to survive, I only need to be faster than you, and not necessarily some absolute level of fitness.\n",
    "\n",
    "In order to get a probability (number between 0 and 1) we use the following equation to define the fitness of a structure ω\n",
    "on a target structure T:\n",
    "\n",
    "$$P(\\omega, T) = N^{-1} exp(\\frac{-\\beta \\texttt{dist}(\\omega, T)}{\\texttt{len}(\\omega)})$$\n",
    "\n",
    "$$N = \\sum_{i \\in Pop}{P(\\omega_i, T})$$\n",
    "\n",
    "Here, the N is what gives us the 'relative' measure because we divide the fitness of the Cell by the sum of the fitness of every other Cell.\n",
    "\n",
    "Let's take a quick look at how this function behaves if we plot different base pair distance values.\n",
    "\n",
    "What is the effect of the parameter β? Try plotting the same function but with different values of β."
   ]
  },
  {
   "cell_type": "code",
   "execution_count": 52,
   "metadata": {},
   "outputs": [
    {
     "data": {
      "text/plain": [
       "Text(0, 0.5, 'P(w, T)')"
      ]
     },
     "execution_count": 52,
     "metadata": {},
     "output_type": "execute_result"
    },
    {
     "data": {
      "image/png": "[encoded data removed]",
      "text/plain": [
       "<Figure size 432x288 with 1 Axes>"
      ]
     },
     "metadata": {
      "needs_background": "light"
     },
     "output_type": "display_data"
    }
   ],
   "source": [
    "%matplotlib inline\n",
    "import matplotlib.pyplot as plt\n",
    "import math\n",
    "import seaborn as sns\n",
    "\n",
    "target_length = 50\n",
    "beta = -2\n",
    "\n",
    "plt.plot([math.exp(beta * (bp_dist / float(target_length))) for bp_dist in range(target_length)])\n",
    "plt.xlabel(\"Base pair distance to target structure\")\n",
    "plt.ylabel(\"P(w, T)\")"
   ]
  },
  {
   "cell_type": "code",
   "execution_count": 53,
   "metadata": {},
   "outputs": [
    {
     "data": {
      "text/plain": [
       "Text(0, 0.5, 'P(w, T)')"
      ]
     },
     "execution_count": 53,
     "metadata": {},
     "output_type": "execute_result"
    },
    {
     "data": {
      "image/png": "[encoded data removed]",
      "text/plain": [
       "<Figure size 432x288 with 1 Axes>"
      ]
     },
     "metadata": {
      "needs_background": "light"
     },
     "output_type": "display_data"
    }
   ],
   "source": [
    "target_length = 50\n",
    "beta = -10\n",
    "\n",
    "plt.plot([math.exp(beta * (bp_dist / float(target_length))) for bp_dist in range(target_length)])\n",
    "plt.xlabel(\"Base pair distance to target structure\")\n",
    "plt.ylabel(\"P(w, T)\")"
   ]
  },
  {
   "cell_type": "markdown",
   "metadata": {},
   "source": [
    "As you can see, $P(\\omega, T)$ is a very simple function that evaluates to 1 (highest fitness) if the base pair distance is 0, and decreases as the structures get further and further away from the target. The plot didn't include the $N$ factor in the plotting as it will be a bit more annoying to compute, but it is simply a scaling factor so the shape and main idea won't be different.\n",
    "\n",
    "Now we can use this function to get a fitness value for each Cell in our population. Let's first start with the *sixth* cell, just to do some **debugging**."
   ]
  },
  {
   "cell_type": "code",
   "execution_count": 54,
   "metadata": {},
   "outputs": [
    {
     "name": "stdout",
     "output_type": "stream",
     "text": [
      "cell.structure_1[-1] .((.(((.....))).))..\n",
      "cell.structure_2[-1] ..(.(..(((.....)))))\n",
      "target:  (.(((....).).).)....\n",
      "ss_to_bp() {(2, 13), (4, 9), (3, 11), (0, 15)}\n",
      "bp_distance_1 5\n",
      "bp_distance_2 5\n",
      "0.0820849986238988\n",
      "0.0820849986238988\n"
     ]
    }
   ],
   "source": [
    "cell = pop[5]\n",
    "print('cell.structure_1[-1]', cell.structure_1[-1])\n",
    "print('cell.structure_2[-1]', cell.structure_2[-1])\n",
    "\n",
    "print('target: ', target)\n",
    "print('ss_to_bp()', ss_to_bp(target))\n",
    "\n",
    "bp_distance_1 = bp_distance(cell.structure_1[-1], ss_to_bp(target))\n",
    "bp_distance_2 = bp_distance(cell.structure_2[-1], ss_to_bp(target))\n",
    "print('bp_distance_1', bp_distance_1)\n",
    "print('bp_distance_2', bp_distance_2)\n",
    "\n",
    "#use the bp_distances and the above fitness equation to calculate the fitness of each chromosome\n",
    "fitness_1 = math.exp((beta * bp_distance_1 / float(len(cell.sequence_1))))\n",
    "fitness_2 = math.exp((beta * bp_distance_2 / float(len(cell.sequence_2))))\n",
    "print(fitness_1)\n",
    "print(fitness_2)\n",
    "\n",
    "#get the fitness of the whole cell by multiplying the fitnesses of each chromosome\n",
    "cell.fitness = fitness_1 * fitness_2\n",
    "\n",
    "#store the bp_distance of each chromosome.\n",
    "cell.bp_distance_1 = bp_distance_1\n",
    "cell.bp_distance_2 = bp_distance_2"
   ]
  },
  {
   "cell_type": "markdown",
   "metadata": {},
   "source": [
    "Ok, now we feel confident enough to tackle the general case. Let's write a function!"
   ]
  },
  {
   "cell_type": "code",
   "execution_count": 55,
   "metadata": {},
   "outputs": [
    {
     "name": "stdout",
     "output_type": "stream",
     "text": [
      "0.009295900502945329 5 5\n",
      "0.009295900502945329 5 5\n",
      "0.010273558893179964 4 5\n",
      "0.010273558893179964 4 5\n",
      "0.009295900502945329 5 5\n",
      "0.009295900502945329 5 5\n",
      "0.011354038513879935 3 5\n",
      "0.00929590050294533 4 6\n",
      "0.011354038513879935 4 4\n",
      "0.010273558893179964 5 4\n"
     ]
    }
   ],
   "source": [
    "def compute_fitness(population, target, beta=-2):\n",
    "    \"\"\"\n",
    "    Assigns a fitness and bp_distance value to each cell in the population.\n",
    "    \"\"\"\n",
    "    #store the fitness values of each cell\n",
    "    tot = []\n",
    "    #iterate through each cell\n",
    "    for cell in population:\n",
    "        \n",
    "        #calculate the bp_distance of each chromosome using the cell's structure\n",
    "        bp_distance_1 = bp_distance(cell.structure_1[-1], ss_to_bp(target))\n",
    "        bp_distance_2 = bp_distance(cell.structure_2[-1], ss_to_bp(target))\n",
    "        \n",
    "        #use the bp_distances and the above fitness equation to calculate the fitness of each chromosome\n",
    "        fitness_1 = math.exp((beta * bp_distance_1 / float(len(cell.sequence_1))))\n",
    "        fitness_2 = math.exp((beta * bp_distance_2 / float(len(cell.sequence_2))))\n",
    "\n",
    "        #get the fitness of the whole cell by multiplying the fitnesses of each chromosome\n",
    "        cell.fitness = fitness_1 * fitness_2\n",
    "               \n",
    "        #store the bp_distance of each chromosome.\n",
    "        cell.bp_distance_1 = bp_distance_1\n",
    "        cell.bp_distance_2 = bp_distance_2\n",
    "    \n",
    "        \n",
    "        #add the cell's fitness value to the list of all fitness values (used for normalization later)\n",
    "        tot.append(cell.fitness)\n",
    "\n",
    "    #normalization factor is sum of all fitness values in population\n",
    "    norm = np.sum(tot)\n",
    "    #divide all fitness values by the normalization factor.\n",
    "    for cell in population:\n",
    "        cell.fitness = cell.fitness / norm\n",
    "\n",
    "    return None\n",
    "\n",
    "compute_fitness(pop, target)\n",
    "for cell in pop[:10]:\n",
    "    print(cell.fitness, cell.bp_distance_1, cell.bp_distance_2)"
   ]
  },
  {
   "cell_type": "markdown",
   "metadata": {},
   "source": [
    "## Introducing diversity: Mutations\n",
    "\n",
    "Evolution would go nowhere without **random mutations**. While mutations are technically just random errors in the copying of genetic material, they are essential in the process of evolution. This is because they introduce novel diversity to populatons, which with a low frequency can be beneficial. And when a beneficial mutation arises (i.e. a mutation that increases fitness, or replication probability) it quickly takes over the population and the populatioin as a whole has a higher fitness. Read about it [here](https://ghr.nlm.nih.gov/primer/mutationsanddisorders/genemutation).\n",
    "\n",
    "Implementing mutations in our model will be straightforward. Since mutations happen at the genotype/sequence level, we simply have to iterate through our strings of nucleotides (sequences) and randomly introduce changes!\n"
   ]
  },
  {
   "cell_type": "code",
   "execution_count": 56,
   "metadata": {},
   "outputs": [
    {
     "name": "stdout",
     "output_type": "stream",
     "text": [
      "AAAAGGAGUGUGUAUGU\n",
      "('AAgAauccUGUGUuUgU', True)\n"
     ]
    }
   ],
   "source": [
    "def mutate(sequence, mutation_rate=0.001):\n",
    "    \"\"\"Takes a sequence and mutates bases with probability mutation_rate\"\"\"\n",
    "    \n",
    "    #start an empty string to store the mutated sequence\n",
    "    new_sequence = \"\"\n",
    "    #boolean storing whether or not the sequence got mutated\n",
    "    mutated = False\n",
    "    #go through every bp in the sequence\n",
    "    for bp in sequence:\n",
    "        #generate a random number between 0 and 1\n",
    "        r = random.random()\n",
    "        #if r is below mutation rate, introduce a mutation\n",
    "        if r < mutation_rate:\n",
    "            #add a randomly sampled nucleotide to the new sequence\n",
    "            new_sequence = new_sequence + random.choice(\"aucg\")\n",
    "            mutated = True\n",
    "        else:\n",
    "            #if the mutation condition did not get met, copy the current bp to the new sequence\n",
    "            new_sequence = new_sequence + bp\n",
    "            \n",
    "    return (new_sequence, mutated)\n",
    "\n",
    "sequence_to_mutate = 'AAAAGGAGUGUGUAUGU'\n",
    "print(sequence_to_mutate)\n",
    "print(mutate(sequence_to_mutate, mutation_rate=0.5))"
   ]
  },
  {
   "cell_type": "markdown",
   "metadata": {},
   "source": [
    "## Selection\n",
    "\n",
    "The final process in this evolution model is **selection**. Once you have populations with a diverse range of fitnesses, we need to select the **fittest individuals** and let them replicate and contribute offspring to the next generation. In real populations this is just the process of reproduction. If you're fit enough you will be likely to reproduce more than another individual who is not as well suited to the environment.\n",
    "\n",
    "In order to represent this process in our model, we will use the fitness values that we assigned to each Cell earlier and use that to select replicating Cells. This is equivalent to sampling from a population with the sampling being weighted by the fitness of each Cell. Thankfully, `numpy.random.choice` comes to the rescue here. Once we have sampled enough Cells to build our next generation, we introduce mutations and compute the fitness values of the new generation.\n",
    "\n",
    "Consider this your first practical introduction to the `numpy` python library. We'll officially introduce it next week.\n"
   ]
  },
  {
   "cell_type": "code",
   "execution_count": 57,
   "metadata": {},
   "outputs": [
    {
     "name": "stdout",
     "output_type": "stream",
     "text": [
      "AUACCACGCUCGCCUCUUAC\n",
      "ACGUGGCAGGCGGCGCAGAG\n",
      "UUCAGAAAUCUACCGUCCCG\n",
      "AACGUCCUGCAGGGGGGAUG\n",
      "UGGUCUGUCUCACAGUCCUC\n",
      "UGGGUUUGGCCACCGCGGAU\n",
      "UGUAUAAUUCAGCGGACGUC\n",
      "GAAUGGAGGUUAACUUAUAU\n",
      "AACACGCGGCAGCUUUUUAC\n",
      "GGUGGUAUACUUGAUGAUGA\n"
     ]
    }
   ],
   "source": [
    "def selection(population, target, mutation_rate=0.001, beta=-2):\n",
    "    \"\"\"\n",
    "    Returns a new population with offspring of the input population\n",
    "    \"\"\"\n",
    "\n",
    "    #select the sequences that will be 'parents' and contribute to the next generation\n",
    "    parents = np.random.choice(population, len(population), p=[rna.fitness for rna in population], replace=True)\n",
    "\n",
    "    #build the next generation using the parents list\n",
    "    next_generation = []    \n",
    "    for i, p in enumerate(parents):\n",
    "        new_cell = Cell(p.sequence_1, p.structure_1, p.sequence_2, p.structure_2)\n",
    "        new_cell.id = i\n",
    "        new_cell.parent = p.id\n",
    "        \n",
    "        next_generation.append(new_cell)\n",
    "\n",
    "    #introduce mutations in next_generation sequeneces and re-fold when a mutation occurs\n",
    "    for rna in next_generation:      \n",
    "        mutated_sequence_1, mutated_1 = mutate(rna.sequence_1, mutation_rate=mutation_rate)\n",
    "        mutated_sequence_2, mutated_2 = mutate(rna.sequence_2, mutation_rate=mutation_rate)\n",
    "        \n",
    "        if mutated_1:\n",
    "            rna.sequence_1 = mutated_sequence_1\n",
    "            rna.structure_1 = nussinov(mutated_sequence_1)\n",
    "        if mutated_2:\n",
    "            rna.sequence_2 = mutated_sequence_2\n",
    "            rna.structure_2 = nussinov(mutated_sequence_2)\n",
    "        else:\n",
    "            continue\n",
    "\n",
    "    #update fitness values for the new generation\n",
    "    compute_fitness(next_generation, target, beta=beta)\n",
    "\n",
    "    return next_generation\n",
    "\n",
    "next_gen = selection(pop, target)\n",
    "for cell in next_gen[:10]:\n",
    "    print(cell.sequence_1)"
   ]
  },
  {
   "cell_type": "markdown",
   "metadata": {},
   "source": [
    "# Gathering information on our populations\n",
    "\n",
    "Here we simply store some statistics (in a dictionary) on the population at each generation such as the average base pair distance and the average fitness of the populations. \n"
   ]
  },
  {
   "cell_type": "code",
   "execution_count": 58,
   "metadata": {},
   "outputs": [],
   "source": [
    "def record_stats(pop, population_stats):\n",
    "    \"\"\"\n",
    "    Takes a population list and a dictionary and updates it with stats on the population.\n",
    "    \"\"\"\n",
    "    generation_bp_distance_1 = [rna.bp_distance_1 for rna in pop]\n",
    "    generation_bp_distance_2 = [rna.bp_distance_2 for rna in pop]\n",
    "\n",
    "    mean_bp_distance_1 = np.mean(generation_bp_distance_1)\n",
    "    mean_bp_distance_2 = np.mean(generation_bp_distance_2)\n",
    "    \n",
    "    mean_fitness = np.mean([rna.fitness for rna in pop])\n",
    "\n",
    "\n",
    "    population_stats.setdefault('mean_bp_distance_1', []).append(mean_bp_distance_1)\n",
    "    population_stats.setdefault('mean_bp_distance_2', []).append(mean_bp_distance_2)\n",
    "    \n",
    "    population_stats.setdefault('mean_fitness', []).append(mean_fitness)\n",
    "    \n",
    "    return None"
   ]
  },
  {
   "cell_type": "markdown",
   "metadata": {},
   "source": [
    "# And finally.... evolution\n",
    "\n",
    "We can put all the above parts together in a simple function that does the following:\n",
    "\n",
    "    start a new population and compute its fitness\n",
    "    repeat the following for the desired number of generations:\n",
    "        record statistics on population\n",
    "        perform selection + utation\n",
    "        store new population\n",
    "\n",
    "And that's it! We have an evolutionary **reactor**!\n"
   ]
  },
  {
   "cell_type": "code",
   "execution_count": 59,
   "metadata": {},
   "outputs": [],
   "source": [
    "def evolve(target, generations=10, pop_size=100, mutation_rate=0.001, beta=-2):\n",
    "    \"\"\"\n",
    "    Takes target structure and sets up initial population, performs selection and iterates for desired generations.\n",
    "    \"\"\"\n",
    "    #store list of all populations throughotu generations [[cells from generation 1], [cells from gen. 2]...]\n",
    "    populations = []\n",
    "    #start a dictionary that will hold some stats on the populations.\n",
    "    population_stats = {}\n",
    "    \n",
    "    #get a starting population\n",
    "    initial_population = populate(target, pop_size=pop_size)\n",
    "    #compute fitness of initial population\n",
    "    compute_fitness(initial_population, target)\n",
    "\n",
    "    #set current_generation to initial population.\n",
    "    current_generation = initial_population\n",
    "\n",
    "    #iterate the selection process over the desired number of generations\n",
    "    for i in range(generations):\n",
    "\n",
    "        #let's get some stats on the structures in the populations   \n",
    "        record_stats(current_generation, population_stats)\n",
    "        \n",
    "        #add the current generation to our list of populations.\n",
    "        populations.append(current_generation)\n",
    "\n",
    "        #select the next generation\n",
    "        new_gen = selection(current_generation, target, mutation_rate=mutation_rate, beta=beta)\n",
    "        #set current generation to be the generation we just obtained.\n",
    "        current_generation = new_gen \n",
    "    \n",
    "    return (populations, population_stats)"
   ]
  },
  {
   "cell_type": "markdown",
   "metadata": {},
   "source": [
    "Try a run of the evolve() function."
   ]
  },
  {
   "cell_type": "code",
   "execution_count": 62,
   "metadata": {},
   "outputs": [],
   "source": [
    "pops, pops_stats = evolve(\"(((....)))\", generations=20, pop_size=1000, mutation_rate=0.005, beta=-2)"
   ]
  },
  {
   "cell_type": "markdown",
   "metadata": {},
   "source": [
    "Let's see if it actually worked by plotting the average base pair distance as a function of generations for both genes in each cell. We should expect a gradual decrease as the populations get closer to the target structure."
   ]
  },
  {
   "cell_type": "code",
   "execution_count": 63,
   "metadata": {},
   "outputs": [
    {
     "data": {
      "image/png": "[encoded data removed]",
      "text/plain": [
       "<Figure size 432x288 with 1 Axes>"
      ]
     },
     "metadata": {
      "needs_background": "light"
     },
     "output_type": "display_data"
    }
   ],
   "source": [
    "def evo_plot(pops_stats):\n",
    "    \"\"\"\n",
    "    Plot base pair distance for each chromosome over generations.\n",
    "    \"\"\"\n",
    "    for m in ['mean_bp_distance_1', 'mean_bp_distance_2']:\n",
    "        plt.plot(pops_stats[m], label=m)\n",
    "    plt.legend()\n",
    "    plt.xlabel(\"Generations\")\n",
    "    plt.ylabel(\"Mean Base Pair Distance\")\n",
    "    \n",
    "evo_plot(pops_stats)"
   ]
  },
  {
   "cell_type": "markdown",
   "metadata": {},
   "source": [
    "You should see a nice drop in base pair distance! Another way of visualizing this is by plotting a histogram of the base pair distance of all Cells in the initial population versus the final population."
   ]
  },
  {
   "cell_type": "code",
   "execution_count": 64,
   "metadata": {},
   "outputs": [
    {
     "name": "stderr",
     "output_type": "stream",
     "text": [
      "/Users/daflow312/anaconda3/lib/python3.7/site-packages/scipy/stats/stats.py:1713: FutureWarning: Using a non-tuple sequence for multidimensional indexing is deprecated; use `arr[tuple(seq)]` instead of `arr[seq]`. In the future this will be interpreted as an array index, `arr[np.array(seq)]`, which will result either in an error or a different result.\n",
      "  return np.add.reduce(sorted[indexer] * weights, axis=axis) / sumval\n"
     ]
    },
    {
     "data": {
      "image/png": "[encoded data removed]",
      "text/plain": [
       "<Figure size 432x288 with 1 Axes>"
      ]
     },
     "metadata": {
      "needs_background": "light"
     },
     "output_type": "display_data"
    }
   ],
   "source": [
    "def bp_distance_distributions(pops):\n",
    "    \"\"\"\n",
    "    Plots histograms of base pair distance in initial and final populations.\n",
    "    \"\"\"\n",
    "    #plot bp_distance_1 for rnas in first population\n",
    "    g = sns.distplot([rna.bp_distance_1 for rna in pops[0]], label='initial population')\n",
    "    #plot bp_distance_1 for rnas in first population\n",
    "    g = sns.distplot([rna.bp_distance_1 for rna in pops[-1]], label='final population')\n",
    "    g.set(xlabel='Mean Base Pair Distance')\n",
    "    g.legend()\n",
    "    \n",
    "bp_distance_distributions(pops)"
   ]
  },
  {
   "cell_type": "markdown",
   "metadata": {},
   "source": [
    "# Introducing mating to the Model\n",
    "\n",
    "The populations we generated evolved **asexually**. This means that individuals do not mate or exchange genetic information. \n",
    "\n",
    "So to make our simulation a bit more interesting let's let the Cells *mate*! This is going to require a few small changes in the `selection()` function. \n",
    "\n",
    "Previously, when we selected sequences to go into the next generation we just let them provide one offspring which was a copy of itself and introduced mutations. Now instead of choosing one Cell at a time, we will randomly choose two **parents** that will **mate**. When they mate, each parent will contribute one of its chromosomes to the child. We'll repeat this process until we have filled the next generation."
   ]
  },
  {
   "cell_type": "code",
   "execution_count": 65,
   "metadata": {},
   "outputs": [
    {
     "name": "stdout",
     "output_type": "stream",
     "text": [
      "CUAUGAGCUUCGGCUUGUAU\n",
      "UGGGUUUGGCCACCGCGGAU\n",
      "AGGAUACGGGGUUAAUACGU\n",
      "CCACAAUACAGCCCAAACCG\n",
      "AACACGCGGCAGCUUUUUAC\n",
      "CGGAAGUAUUAUCGUCUCCG\n",
      "GAUAGCUUCGGCCUCUACGA\n",
      "CCUAGCGGACCUGACUUCUU\n",
      "AUCGAUCGUUCUACCUGCAA\n",
      "UGGGUUUGGCCACCGCGGAU\n"
     ]
    }
   ],
   "source": [
    "def selection_with_mating(population, target, mutation_rate=0.001, beta=-2):\n",
    "    next_generation = []\n",
    "    \n",
    "    counter = 0\n",
    "    while len(next_generation) < len(population):\n",
    "        #select two parents based on their fitness\n",
    "        parents_pair = np.random.choice(population, 2, p=[rna.fitness for rna in population], replace=False)\n",
    "        \n",
    "        #take the sequence and structure from the first parent's first chromosome and give it to the child\n",
    "        child_chrom_1 = (parents_pair[0].sequence_1, parents_pair[0].structure_1)\n",
    "\n",
    "        #do the same for the child's second chromosome and the second parent.\n",
    "        child_chrom_2 = (parents_pair[1].sequence_2, parents_pair[1].structure_2)\n",
    "\n",
    "\n",
    "        #initialize the new child Cell witht he new chromosomes.\n",
    "        child_cell = Cell(child_chrom_1[0], child_chrom_1[1], child_chrom_2[0], child_chrom_2[1])\n",
    "\n",
    "        #give the child and id and store who its parents are\n",
    "        child_cell.id = counter\n",
    "        child_cell.parent_1 = parents_pair[0].id\n",
    "        child_cell.parent_2 = parents_pair[1].id\n",
    "\n",
    "        #add the child to the new generation\n",
    "        next_generation.append(child_cell)\n",
    "        \n",
    "        counter = counter + 1\n",
    "            \n",
    "        \n",
    "    #introduce mutations in next_generation sequeneces and re-fold when a mutation occurs (same as before)\n",
    "    for rna in next_generation:      \n",
    "        mutated_sequence_1, mutated_1 = mutate(rna.sequence_1, mutation_rate=mutation_rate)\n",
    "        mutated_sequence_2, mutated_2 = mutate(rna.sequence_2, mutation_rate=mutation_rate)\n",
    "\n",
    "        if mutated_1:\n",
    "            rna.sequence_1 = mutated_sequence_1\n",
    "            rna.structure_1 = nussinov(mutated_sequence_1)\n",
    "        if mutated_2:\n",
    "            rna.sequence_2 = mutated_sequence_2\n",
    "            rna.structure_2 = nussinov(mutated_sequence_2)\n",
    "        else:\n",
    "            continue\n",
    "\n",
    "    #update fitness values for the new generation\n",
    "    compute_fitness(next_generation, target, beta=beta)\n",
    "\n",
    "    return next_generation    \n",
    "\n",
    "#run a small test to make sure it works\n",
    "next_gen = selection_with_mating(pop, target)\n",
    "for cell in next_gen[:10]:\n",
    "    print(cell.sequence_1)"
   ]
  },
  {
   "cell_type": "markdown",
   "metadata": {},
   "source": [
    "Now we just have to update our evolution() function to call the new `selection_with_mating()` function."
   ]
  },
  {
   "cell_type": "code",
   "execution_count": 66,
   "metadata": {},
   "outputs": [],
   "source": [
    "def evolve_with_mating(target, generations=10, pop_size=100, mutation_rate=0.001, beta=-2):\n",
    "    populations = []\n",
    "    population_stats = {}\n",
    "    \n",
    "    initial_population = populate(target, pop_size=pop_size)\n",
    "    compute_fitness(initial_population, target)\n",
    "        \n",
    "    current_generation = initial_population\n",
    "\n",
    "    #iterate the selection process over the desired number of generations\n",
    "    for i in range(generations):\n",
    "        #let's get some stats on the structures in the populations   \n",
    "        record_stats(current_generation, population_stats)\n",
    "        \n",
    "        #add the current generation to our list of populations.\n",
    "        populations.append(current_generation)\n",
    "\n",
    "        #select the next generation, but this time with mutations\n",
    "        new_gen = selection_with_mating(current_generation, target, mutation_rate=mutation_rate, beta=beta)\n",
    "        current_generation = new_gen \n",
    "    \n",
    "    return (populations, population_stats)"
   ]
  },
  {
   "cell_type": "markdown",
   "metadata": {},
   "source": [
    "Try out the new evolution model!"
   ]
  },
  {
   "cell_type": "code",
   "execution_count": 67,
   "metadata": {},
   "outputs": [
    {
     "data": {
      "image/png": "[encoded data removed]",
      "text/plain": [
       "<Figure size 432x288 with 1 Axes>"
      ]
     },
     "metadata": {
      "needs_background": "light"
     },
     "output_type": "display_data"
    }
   ],
   "source": [
    "pops_mating, pops_stats_mating = evolve_with_mating(\"(((....)))\", generations=20, pop_size=1000, beta=0)\n",
    "\n",
    "evo_plot(pops_stats_mating)"
   ]
  },
  {
   "cell_type": "markdown",
   "metadata": {},
   "source": [
    "Ok wow, so interesting, and so much to play with. And just to think that life is made out of this mahinery makes me giddly all over. Hope you had *fun* learning about biology and exercising your python.\n",
    "\n",
    "Now let's see how we can put this machinery to use to help us draw better forests!"
   ]
  }
 ],
 "metadata": {
  "kernelspec": {
   "display_name": "Python 3",
   "language": "python",
   "name": "python3"
  },
  "language_info": {
   "codemirror_mode": {
    "name": "ipython",
    "version": 3
   },
   "file_extension": ".py",
   "mimetype": "text/x-python",
   "name": "python",
   "nbconvert_exporter": "python",
   "pygments_lexer": "ipython3",
   "version": "3.7.1"
  }
 },
 "nbformat": 4,
 "nbformat_minor": 1
}

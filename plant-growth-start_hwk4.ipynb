{
 "cells": [
  {
   "cell_type": "markdown",
   "metadata": {
    "button": false,
    "new_sheet": false,
    "run_control": {
     "read_only": false
    }
   },
   "source": [
    "<div style=\"text-align: right\">CSCI E-7 Introduction to Python Programming for Life Sciences</div>\n",
    "<div style=\"text-align: right\">Dino Konstantopoulos, 3 February 2019 assigned Homework, which is due 10 February</div>\n",
    "\n",
    "\n",
    "# Plant growth addendum\n",
    "\n",
    "Here's an option for using Turtle graphics, albeit less dramatic because it draws in a separate window, that does not require an install and so if you're using a MAC and are having trouble switching to python version 3.x in your terminal (check by running `python --version`), this may be a good option.\n",
    "\n",
    "</br >\n",
    "<center>\n",
    "<img src=\"ipynb.images/plant.png\" width=300 />\n",
    "</center>"
   ]
  },
  {
   "cell_type": "markdown",
   "metadata": {},
   "source": [
    "# From DNA to Plants\n",
    "\n",
    "Computational biology is about so much more than sequence analysis. Moving up the scale of biological systems, the amazingly fluid, yet highly robust process of organismal development has been source of interest for as long as there have been microscopes.\n",
    "\n",
    "Python is an excellent platform to explore the nature of development via the generative power of\n",
    "simple rules or behaviour. This is a powerful idea, because even very simple rules, iterated over\n",
    "time can generate complex and unpredictable patterns. From the flocking behaviour of birds to the\n",
    "swarming of bees, biology is replete with examples where simple behaviours generate endlessly\n",
    "fascinating patterns - an area of study that has become known as **complex adaptive systems**.\n",
    "\n",
    "You can even grow plants in your computer as Austrian biologist Aristid Lindenmayer did back in 1968 by modeling growth and development as found in filamentous organisms such as algae.\n",
    "\n",
    "Lindenmayer began by imagining a single one-dimensional line of cells, with any individual cell\n",
    "receiving signals to either divide or grow only from their immediate left or right neighbor. He allowed\n",
    "that each individual algae cell existed in one of two possible states: reproduction or growth. \n",
    "\n",
    "A cell in\n",
    "the reproduction state, would split into two cells: one that would start in the growth state, and the\n",
    "other would stay in the reproduction state. In addition, a cell that started in the growth state would\n",
    "eventually become a reproduction cell. \n",
    "\n",
    "Putting these two rules together Lindenmayer came up with a\n",
    "model of filamentous growth that captured some key features of real growth in plants such as \n",
    "constant apical growth where the central “stem” (in the model this is a set of cells) remains the\n",
    "same in appearance even as cells divide and move away from this central set of cells. "
   ]
  },
  {
   "cell_type": "markdown",
   "metadata": {},
   "source": [
    "The heart of translating this idea into code is defining these biological intuitions as rigorous\n",
    "algorithmic production rules. You can take the above two intuitions and codify them into two simple\n",
    "rules. Call a cell in the reproduction state, A, and a cell in the growth state, B. A production rule\n",
    "basically says, take a symbol on the left-hand side and replace it with another set of symbols on the\n",
    "right-hand side. Here’s what it looks like:\n",
    "\n",
    "* B → A (rule #1: growth cell becomes a reproduction cell)\n",
    "* A → AB (rule #2: reproduction cell splits into another reproduction, plus a growth cell)\n",
    "\n",
    "To complete the algorithm, we simply need to give the algorithm a cell to kick things off, say a\n",
    "reproduction cell, A. \n",
    "\n",
    "We can run growth “by hand” (or perhaps we should really say “by head”) by\n",
    "starting with A, then noticing that A is not a growth cell, so the first rule doesn’t apply, but it is a\n",
    "reproduction cell, so we do apply the second rule. We now have a reproduction cell and growth cell,\n",
    "or: AB.\n",
    "\n",
    "Let’s run the rules again, in this case the reproduction cell A will again become AB and the second\n",
    "growth cell B will become a growth cell again, resulting in AB + A, or ABA. Keep doing this and\n",
    "you get ABA -> ABAAB -> ABAABABA and so on. \n",
    "\n"
   ]
  },
  {
   "cell_type": "code",
   "execution_count": 121,
   "metadata": {},
   "outputs": [],
   "source": [
    "def algae_growth(number, output=\"A\", show=False):\n",
    "    for i in range(number):\n",
    "        new_output = \"\"\n",
    "        for letter in output:\n",
    "            if letter == \"A\": # rule #2\n",
    "                new_output += \"AB\"\n",
    "            elif letter == \"B\": # rule #1\n",
    "                new_output += \"A\"\n",
    "        output = new_output # only update state after all letters are read\n",
    "        if show: print(\"n =\", i+1, output, \"[\", len(output), \"]\")\n",
    "    return output"
   ]
  },
  {
   "cell_type": "markdown",
   "metadata": {},
   "source": [
    "The outer loop, runs through number iterations, storing the result in the variable output. \n",
    "\n",
    "At the\n",
    "beginning of each loop, we reinitialize our new_output to the empty string “”. \n",
    "\n",
    "Then we take our\n",
    "existing output and use an inner for loop to go through it letter by letter. \n",
    "\n",
    "For the current letter in\n",
    "the loop, we check whether it is an A or B. \n",
    "\n",
    "If it is an A, we simply append the two new letters to our\n",
    "new_output string using the “+=” operator. \n",
    "\n",
    "Likewise if it is a B, we append an A. \n",
    "\n",
    "Once we have\n",
    "examined that letter, we now assign the new_output back to output to start the process all over\n",
    "again for the next iteration of growth and reproduction (the outer loop).\n",
    "\n",
    "Let’s put this all together in short main program and grow this algae already!"
   ]
  },
  {
   "cell_type": "code",
   "execution_count": null,
   "metadata": {},
   "outputs": [],
   "source": [
    "print(\"n = 0\", \"A\", \"[ 1 ]\")\n",
    "algae_growth(6, output=\"A\", show=True) "
   ]
  },
  {
   "cell_type": "markdown",
   "metadata": {},
   "source": [
    "Note that after only six iterations, we already have very interesting patterns. We’ve also printed out\n",
    "the length of each of the iterations of the cycle. \n",
    "\n",
    "Alert students will have noticed an interesting pattern:\n",
    "these represent the **Fibonacci sequence** . This is actually pretty incredible when you think about it:\n",
    "a set of two very simple rules iterated over and over can produce a sequence of cells the number of\n",
    "which is deeply connected to one of the most fundamental mathematical sequences found in the\n",
    "arrangement of leaves on stem and the formation of pinecones. We can also see the constant apical\n",
    "growth mentioned at the beginning: the ABA pattern at the left-hand hand remains even as the growth\n",
    "continues.\n",
    "\n",
    "Can we use these ideas to generate something that actually looks like a plant? The answer is, yes. To realize this requires a set of rules with a more complicated language, but still using the same basic simple logic. "
   ]
  },
  {
   "cell_type": "markdown",
   "metadata": {},
   "source": [
    "We first imagine the “plant”, let’s imagine it as a “fern”, is growing on a two dimensional (2D)\n",
    "surface. Here the outputs of the L-system are actually instructions telling the plant where on this 2D\n",
    "surface to “grow” next. There are six basic symbols, which can be thought of as representing a\n",
    "developmental “command”.\n",
    "\n",
    "* F = go forward\n",
    "* X = stay\n",
    "* + = turn right 25 degrees\n",
    "* - = turn left 25 degrees\n",
    "* [ = save current (x, y) position\n",
    "* ] = go back to saved (x, y) position\n",
    "\n",
    "The production rules treat F and X as variables (meaning that only those two symbols are expanded\n",
    "into other symbols), and +, -, [, ] are constants (they are terminal symbols: symbols that don’t get\n",
    "expanded into anything else). So without further ado, here are the two rules:\n",
    "\n",
    "* F → FF\n",
    "* X → F−[[X]+X]+F[+FX]−X\n",
    "\n",
    "OK, so these are definitely more complicated than the previous rules, but they work basically the\n",
    "same. Every time you see an “F”, replace it with an “FF”, everytime you see an X, replace it with that\n",
    "monstrosity on the right! That long expression embeds within it commands for the plant to move\n",
    "forward, some commands to rotate left and right and to save and restore position. Think of it like a\n",
    "little genetic program playing out in real time."
   ]
  },
  {
   "cell_type": "code",
   "execution_count": 1,
   "metadata": {},
   "outputs": [],
   "source": [
    "def plant_growth(number, output=\"X\", show=False):\n",
    "    for i in range(number):\n",
    "        new_output = \"\"\n",
    "        for letter in output:\n",
    "            # rule #1\n",
    "            if letter == \"X\":\n",
    "                new_output += \"F-[[X]+X]+F[+FX]-X\"\n",
    "            elif letter == \"F\":\n",
    "                new_output += \"FF\"\n",
    "            else:\n",
    "                new_output += letter\n",
    "        output = new_output\n",
    "        if show: print(\"n =\", i+1, output, \"[\", len(output), \"]\")\n",
    "    return output"
   ]
  },
  {
   "cell_type": "code",
   "execution_count": 2,
   "metadata": {},
   "outputs": [
    {
     "name": "stdout",
     "output_type": "stream",
     "text": [
      "n = 1 F-[[X]+X]+F[+FX]-X [ 18 ]\n",
      "n = 2 FF-[[F-[[X]+X]+F[+FX]-X]+F-[[X]+X]+F[+FX]-X]+FF[+FFF-[[X]+X]+F[+FX]-X]-F-[[X]+X]+F[+FX]-X [ 89 ]\n",
      "n = 3 FFFF-[[FF-[[F-[[X]+X]+F[+FX]-X]+F-[[X]+X]+F[+FX]-X]+FF[+FFF-[[X]+X]+F[+FX]-X]-F-[[X]+X]+F[+FX]-X]+FF-[[F-[[X]+X]+F[+FX]-X]+F-[[X]+X]+F[+FX]-X]+FF[+FFF-[[X]+X]+F[+FX]-X]-F-[[X]+X]+F[+FX]-X]+FFFF[+FFFFFF-[[F-[[X]+X]+F[+FX]-X]+F-[[X]+X]+F[+FX]-X]+FF[+FFF-[[X]+X]+F[+FX]-X]-F-[[X]+X]+F[+FX]-X]-FF-[[F-[[X]+X]+F[+FX]-X]+F-[[X]+X]+F[+FX]-X]+FF[+FFF-[[X]+X]+F[+FX]-X]-F-[[X]+X]+F[+FX]-X [ 379 ]\n"
     ]
    }
   ],
   "source": [
    "plant=plant_growth(3, output=\"X\", show=True)"
   ]
  },
  {
   "cell_type": "markdown",
   "metadata": {},
   "source": [
    "Now, how can we actually **draw** the plant? Here's hwo to use Turtle graphics **without importing an outer planet** library from github.\n",
    "\n",
    "Here we draw a square."
   ]
  },
  {
   "cell_type": "code",
   "execution_count": 3,
   "metadata": {},
   "outputs": [],
   "source": [
    "import turtle\n",
    "import sys\n",
    "from turtle import Turtle\n",
    "t=Turtle()\n",
    "#t.screen.bgcolor(\"black\")\n",
    "t.color(\"red\")\n",
    "t.hideturtle()\n",
    " \n",
    "def square(length):\n",
    "    for steps in range(4):\n",
    "        t.fd(length)\n",
    "        t.left(90)\n",
    " \n",
    "square(100)"
   ]
  },
  {
   "cell_type": "markdown",
   "metadata": {},
   "source": [
    "Now if you're attentive you will notice that as soon as you run the cell above, a new window is created and turtle graphcis will get drawn in that window.\n",
    "\n",
    "Unfortunately, your kernel will also die at the end of the draw. That's ok, save your artwork, and then kill the newly created window.\n",
    "\n",
    "Now let's draw a random picture."
   ]
  },
  {
   "cell_type": "code",
   "execution_count": 1,
   "metadata": {},
   "outputs": [
    {
     "ename": "Terminator",
     "evalue": "",
     "output_type": "error",
     "traceback": [
      "\u001b[0;31m---------------------------------------------------------------------------\u001b[0m",
      "\u001b[0;31mTerminator\u001b[0m                                Traceback (most recent call last)",
      "\u001b[0;32m<ipython-input-1-83fd6550d668>\u001b[0m in \u001b[0;36m<module>\u001b[0;34m\u001b[0m\n\u001b[1;32m     13\u001b[0m         \u001b[0mt\u001b[0m\u001b[0;34m.\u001b[0m\u001b[0mfd\u001b[0m\u001b[0;34m(\u001b[0m\u001b[0mdistance\u001b[0m\u001b[0;34m)\u001b[0m\u001b[0;34m\u001b[0m\u001b[0;34m\u001b[0m\u001b[0m\n\u001b[1;32m     14\u001b[0m \u001b[0;34m\u001b[0m\u001b[0m\n\u001b[0;32m---> 15\u001b[0;31m \u001b[0mrandom_drawing\u001b[0m\u001b[0;34m(\u001b[0m\u001b[0;36m100\u001b[0m\u001b[0;34m,\u001b[0m\u001b[0;36m50\u001b[0m\u001b[0;34m)\u001b[0m\u001b[0;34m\u001b[0m\u001b[0;34m\u001b[0m\u001b[0m\n\u001b[0m",
      "\u001b[0;32m<ipython-input-1-83fd6550d668>\u001b[0m in \u001b[0;36mrandom_drawing\u001b[0;34m(turns, distance)\u001b[0m\n\u001b[1;32m      8\u001b[0m     \u001b[0;32mfor\u001b[0m \u001b[0mx\u001b[0m \u001b[0;32min\u001b[0m \u001b[0mrange\u001b[0m\u001b[0;34m(\u001b[0m\u001b[0mturns\u001b[0m\u001b[0;34m)\u001b[0m\u001b[0;34m:\u001b[0m\u001b[0;34m\u001b[0m\u001b[0;34m\u001b[0m\u001b[0m\n\u001b[1;32m      9\u001b[0m         \u001b[0mright\u001b[0m\u001b[0;34m=\u001b[0m\u001b[0mt\u001b[0m\u001b[0;34m.\u001b[0m\u001b[0mright\u001b[0m\u001b[0;34m(\u001b[0m\u001b[0mrandom\u001b[0m\u001b[0;34m.\u001b[0m\u001b[0mrandint\u001b[0m\u001b[0;34m(\u001b[0m\u001b[0;36m0\u001b[0m\u001b[0;34m,\u001b[0m\u001b[0;36m360\u001b[0m\u001b[0;34m)\u001b[0m\u001b[0;34m)\u001b[0m\u001b[0;34m\u001b[0m\u001b[0;34m\u001b[0m\u001b[0m\n\u001b[0;32m---> 10\u001b[0;31m         \u001b[0mleft\u001b[0m\u001b[0;34m=\u001b[0m\u001b[0mt\u001b[0m\u001b[0;34m.\u001b[0m\u001b[0mleft\u001b[0m\u001b[0;34m(\u001b[0m\u001b[0mrandom\u001b[0m\u001b[0;34m.\u001b[0m\u001b[0mrandint\u001b[0m\u001b[0;34m(\u001b[0m\u001b[0;36m0\u001b[0m\u001b[0;34m,\u001b[0m\u001b[0;36m360\u001b[0m\u001b[0;34m)\u001b[0m\u001b[0;34m)\u001b[0m\u001b[0;34m\u001b[0m\u001b[0;34m\u001b[0m\u001b[0m\n\u001b[0m\u001b[1;32m     11\u001b[0m         \u001b[0mt\u001b[0m\u001b[0;34m.\u001b[0m\u001b[0mcolor\u001b[0m\u001b[0;34m(\u001b[0m\u001b[0mrandom\u001b[0m\u001b[0;34m.\u001b[0m\u001b[0mchoice\u001b[0m\u001b[0;34m(\u001b[0m\u001b[0;34m[\u001b[0m\u001b[0;34m\"blue\"\u001b[0m\u001b[0;34m,\u001b[0m\u001b[0;34m\"red\"\u001b[0m\u001b[0;34m,\u001b[0m\u001b[0;34m\"green\"\u001b[0m\u001b[0;34m]\u001b[0m\u001b[0;34m)\u001b[0m\u001b[0;34m)\u001b[0m\u001b[0;34m\u001b[0m\u001b[0;34m\u001b[0m\u001b[0m\n\u001b[1;32m     12\u001b[0m         \u001b[0mrandom\u001b[0m\u001b[0;34m.\u001b[0m\u001b[0mchoice\u001b[0m\u001b[0;34m(\u001b[0m\u001b[0;34m[\u001b[0m\u001b[0mright\u001b[0m\u001b[0;34m,\u001b[0m\u001b[0mleft\u001b[0m\u001b[0;34m]\u001b[0m\u001b[0;34m)\u001b[0m\u001b[0;34m\u001b[0m\u001b[0;34m\u001b[0m\u001b[0m\n",
      "\u001b[0;32m~/anaconda3/lib/python3.7/turtle.py\u001b[0m in \u001b[0;36mleft\u001b[0;34m(self, angle)\u001b[0m\n\u001b[1;32m   1697\u001b[0m         \u001b[0;36m67.0\u001b[0m\u001b[0;34m\u001b[0m\u001b[0;34m\u001b[0m\u001b[0m\n\u001b[1;32m   1698\u001b[0m         \"\"\"\n\u001b[0;32m-> 1699\u001b[0;31m         \u001b[0mself\u001b[0m\u001b[0;34m.\u001b[0m\u001b[0m_rotate\u001b[0m\u001b[0;34m(\u001b[0m\u001b[0mangle\u001b[0m\u001b[0;34m)\u001b[0m\u001b[0;34m\u001b[0m\u001b[0;34m\u001b[0m\u001b[0m\n\u001b[0m\u001b[1;32m   1700\u001b[0m \u001b[0;34m\u001b[0m\u001b[0m\n\u001b[1;32m   1701\u001b[0m     \u001b[0;32mdef\u001b[0m \u001b[0mpos\u001b[0m\u001b[0;34m(\u001b[0m\u001b[0mself\u001b[0m\u001b[0;34m)\u001b[0m\u001b[0;34m:\u001b[0m\u001b[0;34m\u001b[0m\u001b[0;34m\u001b[0m\u001b[0m\n",
      "\u001b[0;32m~/anaconda3/lib/python3.7/turtle.py\u001b[0m in \u001b[0;36m_rotate\u001b[0;34m(self, angle)\u001b[0m\n\u001b[1;32m   3274\u001b[0m             \u001b[0;32mfor\u001b[0m \u001b[0m_\u001b[0m \u001b[0;32min\u001b[0m \u001b[0mrange\u001b[0m\u001b[0;34m(\u001b[0m\u001b[0msteps\u001b[0m\u001b[0;34m)\u001b[0m\u001b[0;34m:\u001b[0m\u001b[0;34m\u001b[0m\u001b[0;34m\u001b[0m\u001b[0m\n\u001b[1;32m   3275\u001b[0m                 \u001b[0mself\u001b[0m\u001b[0;34m.\u001b[0m\u001b[0m_orient\u001b[0m \u001b[0;34m=\u001b[0m \u001b[0mself\u001b[0m\u001b[0;34m.\u001b[0m\u001b[0m_orient\u001b[0m\u001b[0;34m.\u001b[0m\u001b[0mrotate\u001b[0m\u001b[0;34m(\u001b[0m\u001b[0mdelta\u001b[0m\u001b[0;34m)\u001b[0m\u001b[0;34m\u001b[0m\u001b[0;34m\u001b[0m\u001b[0m\n\u001b[0;32m-> 3276\u001b[0;31m                 \u001b[0mself\u001b[0m\u001b[0;34m.\u001b[0m\u001b[0m_update\u001b[0m\u001b[0;34m(\u001b[0m\u001b[0;34m)\u001b[0m\u001b[0;34m\u001b[0m\u001b[0;34m\u001b[0m\u001b[0m\n\u001b[0m\u001b[1;32m   3277\u001b[0m         \u001b[0mself\u001b[0m\u001b[0;34m.\u001b[0m\u001b[0m_orient\u001b[0m \u001b[0;34m=\u001b[0m \u001b[0mneworient\u001b[0m\u001b[0;34m\u001b[0m\u001b[0;34m\u001b[0m\u001b[0m\n\u001b[1;32m   3278\u001b[0m         \u001b[0mself\u001b[0m\u001b[0;34m.\u001b[0m\u001b[0m_update\u001b[0m\u001b[0;34m(\u001b[0m\u001b[0;34m)\u001b[0m\u001b[0;34m\u001b[0m\u001b[0;34m\u001b[0m\u001b[0m\n",
      "\u001b[0;32m~/anaconda3/lib/python3.7/turtle.py\u001b[0m in \u001b[0;36m_update\u001b[0;34m(self)\u001b[0m\n\u001b[1;32m   2658\u001b[0m             \u001b[0;32mreturn\u001b[0m\u001b[0;34m\u001b[0m\u001b[0;34m\u001b[0m\u001b[0m\n\u001b[1;32m   2659\u001b[0m         \u001b[0;32melif\u001b[0m \u001b[0mscreen\u001b[0m\u001b[0;34m.\u001b[0m\u001b[0m_tracing\u001b[0m \u001b[0;34m==\u001b[0m \u001b[0;36m1\u001b[0m\u001b[0;34m:\u001b[0m\u001b[0;34m\u001b[0m\u001b[0;34m\u001b[0m\u001b[0m\n\u001b[0;32m-> 2660\u001b[0;31m             \u001b[0mself\u001b[0m\u001b[0;34m.\u001b[0m\u001b[0m_update_data\u001b[0m\u001b[0;34m(\u001b[0m\u001b[0;34m)\u001b[0m\u001b[0;34m\u001b[0m\u001b[0;34m\u001b[0m\u001b[0m\n\u001b[0m\u001b[1;32m   2661\u001b[0m             \u001b[0mself\u001b[0m\u001b[0;34m.\u001b[0m\u001b[0m_drawturtle\u001b[0m\u001b[0;34m(\u001b[0m\u001b[0;34m)\u001b[0m\u001b[0;34m\u001b[0m\u001b[0;34m\u001b[0m\u001b[0m\n\u001b[1;32m   2662\u001b[0m             \u001b[0mscreen\u001b[0m\u001b[0;34m.\u001b[0m\u001b[0m_update\u001b[0m\u001b[0;34m(\u001b[0m\u001b[0;34m)\u001b[0m                  \u001b[0;31m# TurtleScreenBase\u001b[0m\u001b[0;34m\u001b[0m\u001b[0;34m\u001b[0m\u001b[0m\n",
      "\u001b[0;32m~/anaconda3/lib/python3.7/turtle.py\u001b[0m in \u001b[0;36m_update_data\u001b[0;34m(self)\u001b[0m\n\u001b[1;32m   2644\u001b[0m \u001b[0;34m\u001b[0m\u001b[0m\n\u001b[1;32m   2645\u001b[0m     \u001b[0;32mdef\u001b[0m \u001b[0m_update_data\u001b[0m\u001b[0;34m(\u001b[0m\u001b[0mself\u001b[0m\u001b[0;34m)\u001b[0m\u001b[0;34m:\u001b[0m\u001b[0;34m\u001b[0m\u001b[0;34m\u001b[0m\u001b[0m\n\u001b[0;32m-> 2646\u001b[0;31m         \u001b[0mself\u001b[0m\u001b[0;34m.\u001b[0m\u001b[0mscreen\u001b[0m\u001b[0;34m.\u001b[0m\u001b[0m_incrementudc\u001b[0m\u001b[0;34m(\u001b[0m\u001b[0;34m)\u001b[0m\u001b[0;34m\u001b[0m\u001b[0;34m\u001b[0m\u001b[0m\n\u001b[0m\u001b[1;32m   2647\u001b[0m         \u001b[0;32mif\u001b[0m \u001b[0mself\u001b[0m\u001b[0;34m.\u001b[0m\u001b[0mscreen\u001b[0m\u001b[0;34m.\u001b[0m\u001b[0m_updatecounter\u001b[0m \u001b[0;34m!=\u001b[0m \u001b[0;36m0\u001b[0m\u001b[0;34m:\u001b[0m\u001b[0;34m\u001b[0m\u001b[0;34m\u001b[0m\u001b[0m\n\u001b[1;32m   2648\u001b[0m             \u001b[0;32mreturn\u001b[0m\u001b[0;34m\u001b[0m\u001b[0;34m\u001b[0m\u001b[0m\n",
      "\u001b[0;32m~/anaconda3/lib/python3.7/turtle.py\u001b[0m in \u001b[0;36m_incrementudc\u001b[0;34m(self)\u001b[0m\n\u001b[1;32m   1290\u001b[0m         \u001b[0;32mif\u001b[0m \u001b[0;32mnot\u001b[0m \u001b[0mTurtleScreen\u001b[0m\u001b[0;34m.\u001b[0m\u001b[0m_RUNNING\u001b[0m\u001b[0;34m:\u001b[0m\u001b[0;34m\u001b[0m\u001b[0;34m\u001b[0m\u001b[0m\n\u001b[1;32m   1291\u001b[0m             \u001b[0mTurtleScreen\u001b[0m\u001b[0;34m.\u001b[0m\u001b[0m_RUNNING\u001b[0m \u001b[0;34m=\u001b[0m \u001b[0;32mTrue\u001b[0m\u001b[0;34m\u001b[0m\u001b[0;34m\u001b[0m\u001b[0m\n\u001b[0;32m-> 1292\u001b[0;31m             \u001b[0;32mraise\u001b[0m \u001b[0mTerminator\u001b[0m\u001b[0;34m\u001b[0m\u001b[0;34m\u001b[0m\u001b[0m\n\u001b[0m\u001b[1;32m   1293\u001b[0m         \u001b[0;32mif\u001b[0m \u001b[0mself\u001b[0m\u001b[0;34m.\u001b[0m\u001b[0m_tracing\u001b[0m \u001b[0;34m>\u001b[0m \u001b[0;36m0\u001b[0m\u001b[0;34m:\u001b[0m\u001b[0;34m\u001b[0m\u001b[0;34m\u001b[0m\u001b[0m\n\u001b[1;32m   1294\u001b[0m             \u001b[0mself\u001b[0m\u001b[0;34m.\u001b[0m\u001b[0m_updatecounter\u001b[0m \u001b[0;34m+=\u001b[0m \u001b[0;36m1\u001b[0m\u001b[0;34m\u001b[0m\u001b[0;34m\u001b[0m\u001b[0m\n",
      "\u001b[0;31mTerminator\u001b[0m: "
     ]
    }
   ],
   "source": [
    "import random\n",
    "from turtle import Turtle\n",
    "\n",
    "t=Turtle()\n",
    "t.screen.bgcolor(\"black\")\n",
    " \n",
    "def random_drawing(turns,distance):\n",
    "    for x in range(turns):\n",
    "        right=t.right(random.randint(0,360))\n",
    "        left=t.left(random.randint(0,360))\n",
    "        t.color(random.choice([\"blue\",\"red\",\"green\"]))\n",
    "        random.choice([right,left])\n",
    "        t.fd(distance)\n",
    " \n",
    "random_drawing(100,50)"
   ]
  },
  {
   "cell_type": "markdown",
   "metadata": {},
   "source": [
    "And finlly, this is how to draw our plant:"
   ]
  },
  {
   "cell_type": "code",
   "execution_count": 1,
   "metadata": {},
   "outputs": [],
   "source": [
    "def draw_plant(actions):\n",
    "    stk = []\n",
    "    for action in actions:\n",
    "        if action=='X':        # do nothing\n",
    "            pass\n",
    "        elif action== 'F':     # go forward\n",
    "            turtle.forward(2)\n",
    "        elif action=='+':      # rotate right by 25 degrees\n",
    "            turtle.right(25)\n",
    "        elif action=='-':      # rotate left by 25 degrees\n",
    "            turtle.left(25)\n",
    "        elif action=='[':\n",
    "            # save the position and heading by \"pushing\" down on to the stack\n",
    "            pos = turtle.position()\n",
    "            head = turtle.heading()\n",
    "            stk.append((pos, head))\n",
    "        elif action==']':\n",
    "            # restore position and heading: by \"popping\" off the first item from stack\n",
    "            pos, head = stk.pop()\n",
    "            turtle.penup()\n",
    "            turtle.setposition(pos)\n",
    "            turtle.setheading(head)\n",
    "            turtle.pendown()\n",
    "        else:\n",
    "            raise ValueError(\"don't recognize action\", action)\n",
    "        \n",
    "    turtle.update()"
   ]
  },
  {
   "cell_type": "code",
   "execution_count": 2,
   "metadata": {},
   "outputs": [
    {
     "name": "stdout",
     "output_type": "stream",
     "text": [
      "n = 0 X [ 1 ]\n"
     ]
    },
    {
     "ename": "NameError",
     "evalue": "name 'plant_growth' is not defined",
     "output_type": "error",
     "traceback": [
      "\u001b[0;31m---------------------------------------------------------------------------\u001b[0m",
      "\u001b[0;31mNameError\u001b[0m                                 Traceback (most recent call last)",
      "\u001b[0;32m<ipython-input-2-d87db68da050>\u001b[0m in \u001b[0;36m<module>\u001b[0;34m\u001b[0m\n\u001b[1;32m      1\u001b[0m \u001b[0mprint\u001b[0m\u001b[0;34m(\u001b[0m\u001b[0;34m\"n = 0\"\u001b[0m\u001b[0;34m,\u001b[0m \u001b[0;34m\"X\"\u001b[0m\u001b[0;34m,\u001b[0m \u001b[0;34m\"[ 1 ]\"\u001b[0m\u001b[0;34m)\u001b[0m\u001b[0;34m\u001b[0m\u001b[0;34m\u001b[0m\u001b[0m\n\u001b[0;32m----> 2\u001b[0;31m \u001b[0mplant\u001b[0m\u001b[0;34m=\u001b[0m\u001b[0mplant_growth\u001b[0m\u001b[0;34m(\u001b[0m\u001b[0;36m6\u001b[0m\u001b[0;34m,\u001b[0m \u001b[0moutput\u001b[0m\u001b[0;34m=\u001b[0m\u001b[0;34m\"X\"\u001b[0m\u001b[0;34m,\u001b[0m \u001b[0mshow\u001b[0m\u001b[0;34m=\u001b[0m\u001b[0;32mFalse\u001b[0m\u001b[0;34m)\u001b[0m\u001b[0;34m\u001b[0m\u001b[0;34m\u001b[0m\u001b[0m\n\u001b[0m\u001b[1;32m      3\u001b[0m \u001b[0;34m\u001b[0m\u001b[0m\n\u001b[1;32m      4\u001b[0m \u001b[0;31m# get initial position\u001b[0m\u001b[0;34m\u001b[0m\u001b[0;34m\u001b[0m\u001b[0;34m\u001b[0m\u001b[0m\n\u001b[1;32m      5\u001b[0m \u001b[0mx\u001b[0m \u001b[0;34m=\u001b[0m \u001b[0;36m0\u001b[0m\u001b[0;34m\u001b[0m\u001b[0;34m\u001b[0m\u001b[0m\n",
      "\u001b[0;31mNameError\u001b[0m: name 'plant_growth' is not defined"
     ]
    }
   ],
   "source": [
    "print(\"n = 0\", \"X\", \"[ 1 ]\")\n",
    "plant=plant_growth(6, output=\"X\", show=False)\n",
    "\n",
    "# get initial position\n",
    "x = 0\n",
    "y = -turtle.window_height() / 2\n",
    "\n",
    "turtle.hideturtle()\n",
    "turtle.left(90)\n",
    "turtle.penup()\n",
    "turtle.goto(x, y)\n",
    "turtle.pendown()\n",
    "draw_plant(plant)"
   ]
  },
  {
   "cell_type": "markdown",
   "metadata": {},
   "source": [
    "# Homework\n",
    "\n",
    "Q1: Write a Python program, using Turtle graphics, to draw plants as we built them above."
   ]
  },
  {
   "cell_type": "code",
   "execution_count": 6,
   "metadata": {},
   "outputs": [
    {
     "ename": "NameError",
     "evalue": "name 'plant' is not defined",
     "output_type": "error",
     "traceback": [
      "\u001b[0;31m---------------------------------------------------------------------------\u001b[0m",
      "\u001b[0;31mNameError\u001b[0m                                 Traceback (most recent call last)",
      "\u001b[0;32m<ipython-input-6-08d822d20da2>\u001b[0m in \u001b[0;36m<module>\u001b[0;34m\u001b[0m\n\u001b[1;32m      6\u001b[0m \u001b[0mturtle\u001b[0m\u001b[0;34m.\u001b[0m\u001b[0mgoto\u001b[0m\u001b[0;34m(\u001b[0m\u001b[0;36m97\u001b[0m\u001b[0;34m,\u001b[0m \u001b[0;36m100\u001b[0m\u001b[0;34m)\u001b[0m\u001b[0;34m\u001b[0m\u001b[0;34m\u001b[0m\u001b[0m\n\u001b[1;32m      7\u001b[0m \u001b[0mturtle\u001b[0m\u001b[0;34m.\u001b[0m\u001b[0mpendown\u001b[0m\u001b[0;34m(\u001b[0m\u001b[0;34m)\u001b[0m\u001b[0;34m\u001b[0m\u001b[0;34m\u001b[0m\u001b[0m\n\u001b[0;32m----> 8\u001b[0;31m \u001b[0mdraw_plant\u001b[0m\u001b[0;34m(\u001b[0m\u001b[0mplant\u001b[0m\u001b[0;34m)\u001b[0m\u001b[0;34m\u001b[0m\u001b[0;34m\u001b[0m\u001b[0m\n\u001b[0m",
      "\u001b[0;31mNameError\u001b[0m: name 'plant' is not defined"
     ]
    }
   ],
   "source": [
    "from turtle import Turtle\n",
    "turtle = Turtle()\n",
    "turtle.hideturtle()\n",
    "turtle.left(90)\n",
    "turtle.penup()\n",
    "turtle.goto(97, 100)\n",
    "turtle.pendown()\n",
    "draw_plant(plant)"
   ]
  },
  {
   "cell_type": "code",
   "execution_count": 3,
   "metadata": {},
   "outputs": [
    {
     "ename": "NameError",
     "evalue": "name 'turtle' is not defined",
     "output_type": "error",
     "traceback": [
      "\u001b[0;31m---------------------------------------------------------------------------\u001b[0m",
      "\u001b[0;31mNameError\u001b[0m                                 Traceback (most recent call last)",
      "\u001b[0;32m<ipython-input-3-49fe4b1fe093>\u001b[0m in \u001b[0;36m<module>\u001b[0;34m\u001b[0m\n\u001b[0;32m----> 1\u001b[0;31m \u001b[0mturtle\u001b[0m\u001b[0;34m.\u001b[0m\u001b[0mhideturtle\u001b[0m\u001b[0;34m(\u001b[0m\u001b[0;34m)\u001b[0m\u001b[0;34m\u001b[0m\u001b[0;34m\u001b[0m\u001b[0m\n\u001b[0m\u001b[1;32m      2\u001b[0m \u001b[0mturtle\u001b[0m\u001b[0;34m.\u001b[0m\u001b[0mleft\u001b[0m\u001b[0;34m(\u001b[0m\u001b[0;36m90\u001b[0m\u001b[0;34m)\u001b[0m\u001b[0;34m\u001b[0m\u001b[0;34m\u001b[0m\u001b[0m\n\u001b[1;32m      3\u001b[0m \u001b[0mturtle\u001b[0m\u001b[0;34m.\u001b[0m\u001b[0mpenup\u001b[0m\u001b[0;34m(\u001b[0m\u001b[0;34m)\u001b[0m\u001b[0;34m\u001b[0m\u001b[0;34m\u001b[0m\u001b[0m\n\u001b[1;32m      4\u001b[0m \u001b[0mturtle\u001b[0m\u001b[0;34m.\u001b[0m\u001b[0mgoto\u001b[0m\u001b[0;34m(\u001b[0m\u001b[0;36m3\u001b[0m\u001b[0;34m,\u001b[0m \u001b[0;36m5\u001b[0m\u001b[0;34m)\u001b[0m\u001b[0;34m\u001b[0m\u001b[0;34m\u001b[0m\u001b[0m\n\u001b[1;32m      5\u001b[0m \u001b[0mturtle\u001b[0m\u001b[0;34m.\u001b[0m\u001b[0mpendown\u001b[0m\u001b[0;34m(\u001b[0m\u001b[0;34m)\u001b[0m\u001b[0;34m\u001b[0m\u001b[0;34m\u001b[0m\u001b[0m\n",
      "\u001b[0;31mNameError\u001b[0m: name 'turtle' is not defined"
     ]
    }
   ],
   "source": [
    "turtle.hideturtle()\n",
    "turtle.left(90)\n",
    "turtle.penup()\n",
    "turtle.goto(3, 5)\n",
    "turtle.pendown()\n",
    "draw_plant(plant)"
   ]
  },
  {
   "cell_type": "code",
   "execution_count": null,
   "metadata": {},
   "outputs": [],
   "source": []
  },
  {
   "cell_type": "code",
   "execution_count": null,
   "metadata": {},
   "outputs": [],
   "source": []
  },
  {
   "cell_type": "code",
   "execution_count": null,
   "metadata": {},
   "outputs": [],
   "source": []
  }
 ],
 "metadata": {
  "kernelspec": {
   "display_name": "Python 3",
   "language": "python",
   "name": "python3"
  },
  "language_info": {
   "codemirror_mode": {
    "name": "ipython",
    "version": 3
   },
   "file_extension": ".py",
   "mimetype": "text/x-python",
   "name": "python",
   "nbconvert_exporter": "python",
   "pygments_lexer": "ipython3",
   "version": "3.7.1"
  }
 },
 "nbformat": 4,
 "nbformat_minor": 1
}

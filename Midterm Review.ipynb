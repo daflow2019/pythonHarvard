{
 "cells": [
  {
   "cell_type": "markdown",
   "metadata": {},
   "source": [
    "## Midterm Review "
   ]
  },
  {
   "cell_type": "markdown",
   "metadata": {},
   "source": [
    "##  Loops (if and while)"
   ]
  },
  {
   "cell_type": "markdown",
   "metadata": {},
   "source": [
    "The <b>for loop</b>  is used to iterate over elements of a sequence, it is often \n",
    "used when you have a piece of code which you want to repeat \"n\" number of time. \n",
    "\n",
    "It works like this: \" for all elements in a list, do this \""
   ]
  },
  {
   "cell_type": "code",
   "execution_count": 35,
   "metadata": {},
   "outputs": [
    {
     "name": "stdout",
     "output_type": "stream",
     "text": [
      "1\n",
      "2\n",
      "3\n",
      "4\n",
      "5\n",
      "6\n",
      "7\n",
      "8\n",
      "9\n"
     ]
    }
   ],
   "source": [
    "for i in range(1,10):\n",
    "   print(i)"
   ]
  },
  {
   "cell_type": "code",
   "execution_count": 36,
   "metadata": {},
   "outputs": [
    {
     "name": "stdout",
     "output_type": "stream",
     "text": [
      "407 is not a prime number\n",
      "11 times 37 is 407\n"
     ]
    }
   ],
   "source": [
    "# Python program to check if the input number is prime or not\n",
    "\n",
    "num = 407\n",
    "\n",
    "# take input from the user\n",
    "# num = int(input(\"Enter a number: \"))\n",
    "\n",
    "# prime numbers are greater than 1\n",
    "if num > 1:\n",
    "   # check for factors\n",
    "   for i in range(2,num):\n",
    "       if (num % i) == 0:\n",
    "           print(num,\"is not a prime number\")\n",
    "           print(i,\"times\",num//i,\"is\",num)\n",
    "           break\n",
    "   else:\n",
    "       print(num,\"is a prime number\")\n",
    "       \n",
    "# if input number is less than\n",
    "# or equal to 1, it is not prime\n",
    "else:\n",
    "   print(num,\"is not a prime number\")"
   ]
  },
  {
   "cell_type": "markdown",
   "metadata": {},
   "source": [
    "A <b>while loop</b> is a type of loop structure that repeats a task until the given condition is satisfied"
   ]
  },
  {
   "cell_type": "code",
   "execution_count": 37,
   "metadata": {},
   "outputs": [
    {
     "name": "stdout",
     "output_type": "stream",
     "text": [
      "The sum is 55\n"
     ]
    }
   ],
   "source": [
    "# Program to add natural numbers up to sum = 1+2+3+...+n\n",
    "\n",
    "# To take input from the user,\n",
    "# n = int(input(\"Enter n: \"))\n",
    "\n",
    "n = 10\n",
    "\n",
    "# initialize sum and counter\n",
    "sum = 0\n",
    "i = 1\n",
    "\n",
    "while i <= n:\n",
    "    sum = sum + i\n",
    "    i = i+1    # update counter\n",
    "\n",
    "# print the sum\n",
    "print(\"The sum is\", sum)"
   ]
  },
  {
   "cell_type": "markdown",
   "metadata": {},
   "source": [
    "What is the use of <b>break</b> and <b>continue</b> in Python?\n",
    "In Python, break and continue statements can alter the flow of a normal loop.\n",
    "Loops iterate over a block of code until test expression is false, but sometimes we wish to terminate the current iteration or even the whole loop without checking test expression.\n",
    "The break and continue statements are used in these cases.\n",
    "\n",
    "The break statement terminates the loop containing it. Control of the program flows to the statement immediately after the body of the loop.\n",
    "If break statement is inside a nested loop (loop inside another loop), break will terminate the innermost loop."
   ]
  },
  {
   "cell_type": "code",
   "execution_count": 38,
   "metadata": {},
   "outputs": [
    {
     "name": "stdout",
     "output_type": "stream",
     "text": [
      "s\n",
      "t\n",
      "r\n",
      "The end\n"
     ]
    }
   ],
   "source": [
    "# Use of break statement inside a loop\n",
    "\n",
    "for val in \"string\":\n",
    "    if val == \"i\":\n",
    "        break\n",
    "    print(val)\n",
    "\n",
    "print(\"The end\")"
   ]
  },
  {
   "cell_type": "markdown",
   "metadata": {},
   "source": [
    "The <b>continue</b> statement is used to skip the rest of the code inside a loop for the current iteration only. Loop does not terminate but continues on with the next iteration."
   ]
  },
  {
   "cell_type": "code",
   "execution_count": 39,
   "metadata": {},
   "outputs": [
    {
     "name": "stdout",
     "output_type": "stream",
     "text": [
      "s\n",
      "t\n",
      "r\n",
      "n\n",
      "g\n",
      "The end\n"
     ]
    }
   ],
   "source": [
    "# Program to show the use of continue statement inside loops\n",
    "\n",
    "for val in \"string\":\n",
    "    if val == \"i\":\n",
    "        continue\n",
    "    print(val)\n",
    "\n",
    "print(\"The end\")"
   ]
  },
  {
   "cell_type": "markdown",
   "metadata": {},
   "source": [
    "## Lists"
   ]
  },
  {
   "cell_type": "markdown",
   "metadata": {},
   "source": [
    "Lists can contain anything (items of distinct type):"
   ]
  },
  {
   "cell_type": "code",
   "execution_count": 40,
   "metadata": {},
   "outputs": [],
   "source": [
    "mixed_list = [1, 1., 2+3J, 'sentence', \"\"\"\n",
    "long sentence\n",
    "\"\"\"]"
   ]
  },
  {
   "cell_type": "code",
   "execution_count": 41,
   "metadata": {},
   "outputs": [
    {
     "data": {
      "text/plain": [
       "[1, 1.0, (2+3j), 'sentence', '\\nlong sentence\\n']"
      ]
     },
     "execution_count": 41,
     "metadata": {},
     "output_type": "execute_result"
    }
   ],
   "source": [
    "mixed_list"
   ]
  },
  {
   "cell_type": "code",
   "execution_count": 42,
   "metadata": {},
   "outputs": [
    {
     "data": {
      "text/plain": [
       "str"
      ]
     },
     "execution_count": 42,
     "metadata": {},
     "output_type": "execute_result"
    }
   ],
   "source": [
    "type(mixed_list[4])"
   ]
  },
  {
   "cell_type": "markdown",
   "metadata": {},
   "source": [
    "### Slicing Lists "
   ]
  },
  {
   "cell_type": "code",
   "execution_count": 43,
   "metadata": {},
   "outputs": [
    {
     "name": "stdout",
     "output_type": "stream",
     "text": [
      "[2, 1, 'a']\n"
     ]
    }
   ],
   "source": [
    "my_list = [7,4,2,1,'a', 'f', 'g','c' ]\n",
    "# slice the list to get elements 3rd to 5th location \n",
    "print(my_list[2:5])"
   ]
  },
  {
   "cell_type": "code",
   "execution_count": 44,
   "metadata": {},
   "outputs": [
    {
     "name": "stdout",
     "output_type": "stream",
     "text": [
      "[7, 4, 2]\n"
     ]
    }
   ],
   "source": [
    "# slice the list to get elements beginning to 4th\n",
    "print(my_list[:-5])"
   ]
  },
  {
   "cell_type": "code",
   "execution_count": 45,
   "metadata": {},
   "outputs": [
    {
     "name": "stdout",
     "output_type": "stream",
     "text": [
      "[7, 4, 2, 1, 'a', 'f', 'g', 'c']\n",
      "[7, 4, 2, 1, 'a', 'f', 'g', 'c']\n"
     ]
    },
    {
     "data": {
      "text/plain": [
       "[7, 4, 2, 1, 'a', 'f', 'g', 'c']"
      ]
     },
     "execution_count": 45,
     "metadata": {},
     "output_type": "execute_result"
    }
   ],
   "source": [
    "# elements beginning to end\n",
    "print(my_list[:])\n",
    "\n",
    "#you dont need to use the [:] -> you can just use the following for the same answer: \n",
    "print(my_list)\n",
    "my_list "
   ]
  },
  {
   "cell_type": "markdown",
   "metadata": {},
   "source": [
    "### Adding and Removing from a list"
   ]
  },
  {
   "cell_type": "code",
   "execution_count": 46,
   "metadata": {},
   "outputs": [
    {
     "data": {
      "text/plain": [
       "[7, 4, 2, 1, 'a', 'f', 'g', 'c', 'v']"
      ]
     },
     "execution_count": 46,
     "metadata": {},
     "output_type": "execute_result"
    }
   ],
   "source": [
    "#adding one to a list \n",
    "\n",
    "my_list.append('v')\n",
    "my_list"
   ]
  },
  {
   "cell_type": "code",
   "execution_count": 47,
   "metadata": {},
   "outputs": [
    {
     "data": {
      "text/plain": [
       "[7, 4, 2, 1, 'a', 'f', 'g', 'c', 'v', 'w', 4, 7, 'n']"
      ]
     },
     "execution_count": 47,
     "metadata": {},
     "output_type": "execute_result"
    }
   ],
   "source": [
    "#adding multiple to a list\n",
    "my_list.extend(['w', 4,7,'n'])\n",
    "my_list"
   ]
  },
  {
   "cell_type": "markdown",
   "metadata": {},
   "source": [
    "### Lists vs. List Comprehensions \n",
    "Recall: list comprehensions allow you to create lists with a 'for loop' with less code.\n"
   ]
  },
  {
   "cell_type": "code",
   "execution_count": 48,
   "metadata": {},
   "outputs": [
    {
     "name": "stdout",
     "output_type": "stream",
     "text": [
      "[0, 4, 16, 36]\n"
     ]
    }
   ],
   "source": [
    "comp_list = [x ** 2 for x in range(7) if x % 2 == 0] \n",
    "print(comp_list)"
   ]
  },
  {
   "cell_type": "code",
   "execution_count": 49,
   "metadata": {},
   "outputs": [
    {
     "name": "stdout",
     "output_type": "stream",
     "text": [
      "List comprehension test run time: 0:00:00.406121\n",
      "Loop test run time: 0:00:00.706342\n"
     ]
    }
   ],
   "source": [
    "import random\n",
    "import datetime\n",
    "\n",
    "# Approach 1: List comprehension\n",
    "startTime = datetime.datetime.now()\n",
    "random_list=[random.randint(0,10000000000) for x in range(100000)]\n",
    "endTime=datetime.datetime.now()\n",
    "print('List comprehension test run time:',endTime - startTime)\n",
    "\n",
    "# Approach 2: loop\n",
    "random_list1=[]\n",
    "start = datetime.datetime.now()\n",
    "for i in range(100000):\n",
    "    n=random.randint(0,10000000000)\n",
    "    random_list1.append(n)\n",
    "#random_list1=random.sample(range(10000000000),100000)\n",
    "endTime=datetime.datetime.now()\n",
    "#print(list(random_list1))\n",
    "print('Loop test run time:',endTime - startTime)\n"
   ]
  },
  {
   "cell_type": "markdown",
   "metadata": {},
   "source": [
    "### Example: Find all of the string variables in my_list"
   ]
  },
  {
   "cell_type": "code",
   "execution_count": 50,
   "metadata": {},
   "outputs": [
    {
     "name": "stdout",
     "output_type": "stream",
     "text": [
      "[7, 4, 2, 1, 'a', 'f', 'g', 'c', 'v', 'w', 4, 7, 'n']\n",
      "did not find a string\n",
      "did not find a string\n",
      "did not find a string\n",
      "did not find a string\n",
      "found a string\n",
      "found a string\n",
      "found a string\n",
      "found a string\n",
      "found a string\n",
      "found a string\n",
      "did not find a string\n",
      "did not find a string\n",
      "found a string\n"
     ]
    }
   ],
   "source": [
    "print(my_list)\n",
    "\n",
    "i = 0 \n",
    "\n",
    "while i < len(my_list): \n",
    "    \n",
    "    if type(my_list[i]) is str:\n",
    "             print('found a string')\n",
    "    else:\n",
    "      print('did not find a string')\n",
    "    \n",
    "    i+= 1"
   ]
  },
  {
   "cell_type": "markdown",
   "metadata": {},
   "source": [
    "## Dictionaries \n"
   ]
  },
  {
   "cell_type": "markdown",
   "metadata": {},
   "source": [
    "Dictionaries are indexed by keys \n",
    "You can think of dictionaries as a set of keys "
   ]
  },
  {
   "cell_type": "code",
   "execution_count": 51,
   "metadata": {},
   "outputs": [
    {
     "data": {
      "text/plain": [
       "{'a': 16,\n",
       " 'b': (4, 5),\n",
       " 'foo': '(noun) a term used as a universal substitute \\n           for something real, especially when discussing technological ideas and \\n           problems'}"
      ]
     },
     "execution_count": 51,
     "metadata": {},
     "output_type": "execute_result"
    }
   ],
   "source": [
    "my_dict = {'a':16, 'b':(4,5), 'foo':'''(noun) a term used as a universal substitute \n",
    "           for something real, especially when discussing technological ideas and \n",
    "           problems'''}\n",
    "my_dict"
   ]
  },
  {
   "cell_type": "code",
   "execution_count": 52,
   "metadata": {},
   "outputs": [
    {
     "data": {
      "text/plain": [
       "dict_items([('a', 16), ('b', (4, 5)), ('foo', '(noun) a term used as a universal substitute \\n           for something real, especially when discussing technological ideas and \\n           problems')])"
      ]
     },
     "execution_count": 52,
     "metadata": {},
     "output_type": "execute_result"
    }
   ],
   "source": [
    "#there are different ways to return values in a dictionary: \n",
    "\n",
    "my_dict.items()\t\t# Returns key/value pairs as list of tuples"
   ]
  },
  {
   "cell_type": "code",
   "execution_count": 53,
   "metadata": {},
   "outputs": [
    {
     "data": {
      "text/plain": [
       "dict_keys(['a', 'b', 'foo'])"
      ]
     },
     "execution_count": 53,
     "metadata": {},
     "output_type": "execute_result"
    }
   ],
   "source": [
    "my_dict.keys()\t\t# Returns list of keys"
   ]
  },
  {
   "cell_type": "code",
   "execution_count": 54,
   "metadata": {},
   "outputs": [
    {
     "data": {
      "text/plain": [
       "dict_values([16, (4, 5), '(noun) a term used as a universal substitute \\n           for something real, especially when discussing technological ideas and \\n           problems'])"
      ]
     },
     "execution_count": 54,
     "metadata": {},
     "output_type": "execute_result"
    }
   ],
   "source": [
    "my_dict.values()\t# Returns list of values"
   ]
  },
  {
   "cell_type": "code",
   "execution_count": 55,
   "metadata": {},
   "outputs": [
    {
     "ename": "KeyError",
     "evalue": "'andrea'",
     "output_type": "error",
     "traceback": [
      "\u001b[1;31m---------------------------------------------------------------------------\u001b[0m",
      "\u001b[1;31mKeyError\u001b[0m                                  Traceback (most recent call last)",
      "\u001b[1;32m<ipython-input-55-da41c4d8cea8>\u001b[0m in \u001b[0;36m<module>\u001b[1;34m\u001b[0m\n\u001b[0;32m      1\u001b[0m \u001b[1;31m#if you try to access a key that doesn't exist you will get a KeyError like we see below\u001b[0m\u001b[1;33m\u001b[0m\u001b[1;33m\u001b[0m\u001b[1;33m\u001b[0m\u001b[0m\n\u001b[0;32m      2\u001b[0m \u001b[1;33m\u001b[0m\u001b[0m\n\u001b[1;32m----> 3\u001b[1;33m \u001b[0mmy_dict\u001b[0m\u001b[1;33m[\u001b[0m\u001b[1;34m'andrea'\u001b[0m\u001b[1;33m]\u001b[0m\u001b[1;33m\u001b[0m\u001b[1;33m\u001b[0m\u001b[0m\n\u001b[0m",
      "\u001b[1;31mKeyError\u001b[0m: 'andrea'"
     ]
    }
   ],
   "source": [
    "#if you try to access a key that doesn't exist you will get a KeyError like we see below \n",
    "\n",
    "my_dict['andrea']"
   ]
  },
  {
   "cell_type": "code",
   "execution_count": null,
   "metadata": {},
   "outputs": [],
   "source": [
    "#you could avoid this keyerror by writing an if statement to check if the value is there \n",
    "\n",
    "if 'andrea' in my_dict: \n",
    "    print('you have found the word andrea')\n",
    "else: \n",
    "        print('andrea is not in my_dict')\n",
    "          "
   ]
  },
  {
   "cell_type": "markdown",
   "metadata": {},
   "source": [
    "### Iterating through Key-Value pairs"
   ]
  },
  {
   "cell_type": "markdown",
   "metadata": {},
   "source": [
    "Sometimes you want to have access to both the key and the value for every key-value pair in a dictionary. We could use the keys() method and then derive each key's value inside the loop like the following: "
   ]
  },
  {
   "cell_type": "code",
   "execution_count": 56,
   "metadata": {},
   "outputs": [
    {
     "name": "stdout",
     "output_type": "stream",
     "text": [
      "Key a points to hello\n",
      "Key b points to world\n",
      "Key c points to thanks\n",
      "Key d points to for\n",
      "Key e points to learning\n"
     ]
    }
   ],
   "source": [
    "#this will print the key and the value associated to it \n",
    "\n",
    "key_v_dict = {'a': 'hello', 'b': 'world', 'c': 'thanks', 'd': 'for', 'e': 'learning'}\n",
    "for key in key_v_dict.keys():\n",
    "    val = key_v_dict[key]\n",
    "    print(\"Key\", key, 'points to', val)\n"
   ]
  },
  {
   "cell_type": "code",
   "execution_count": 57,
   "metadata": {},
   "outputs": [
    {
     "name": "stdout",
     "output_type": "stream",
     "text": [
      "dict_items([('a', 'hello'), ('b', 'world'), ('c', 'thanks'), ('d', 'for'), ('e', 'learning')])\n"
     ]
    }
   ],
   "source": [
    "#we can use the items function to put each of our key value pairs into an 'item'\n",
    "\n",
    "myitems = key_v_dict.items()\n",
    "type(myitems)\n",
    "\n",
    "print(myitems)"
   ]
  },
  {
   "cell_type": "code",
   "execution_count": 58,
   "metadata": {},
   "outputs": [
    {
     "name": "stdout",
     "output_type": "stream",
     "text": [
      "[('a', 'hello'), ('b', 'world'), ('c', 'thanks'), ('d', 'for'), ('e', 'learning')]\n"
     ]
    }
   ],
   "source": [
    "#we then can convert each of our items into a list so that we could find any key value pair at a certain item location\n",
    "\n",
    "mylist = list(myitems)\n",
    "type(mylist)\n",
    "\n",
    "print(mylist)"
   ]
  },
  {
   "cell_type": "code",
   "execution_count": 59,
   "metadata": {},
   "outputs": [
    {
     "name": "stdout",
     "output_type": "stream",
     "text": [
      "('b', 'world')\n"
     ]
    }
   ],
   "source": [
    "#this would print the second key-value pair in our list because lists start at 0!\n",
    "print(mylist[1])"
   ]
  },
  {
   "cell_type": "markdown",
   "metadata": {},
   "source": [
    "### Example: Print an equivalent string of the dictionary "
   ]
  },
  {
   "cell_type": "code",
   "execution_count": 60,
   "metadata": {},
   "outputs": [
    {
     "data": {
      "text/plain": [
       "['andrea',\n",
       " 'car',\n",
       " 'ball',\n",
       " 'toy',\n",
       " 'camp',\n",
       " 'dog',\n",
       " 'rabbit',\n",
       " 'bed',\n",
       " 'chair',\n",
       " 'pillow']"
      ]
     },
     "execution_count": 60,
     "metadata": {},
     "output_type": "execute_result"
    }
   ],
   "source": [
    "my_new_dict = ['andrea', 'car', 'ball', 'toy', 'camp', 'dog', 'rabbit', 'bed', 'chair', 'pillow']\n",
    "\n",
    "my_new_dict"
   ]
  },
  {
   "cell_type": "code",
   "execution_count": 61,
   "metadata": {},
   "outputs": [
    {
     "name": "stdout",
     "output_type": "stream",
     "text": [
      "['andrea', 'car', 'ball', 'toy', 'camp', 'dog', 'rabbit', 'bed', 'chair', 'pillow']\n",
      "n\n",
      "d\n",
      "r\n"
     ]
    }
   ],
   "source": [
    "strings_of_my_new_dict = str(my_new_dict)\n",
    "\n",
    "print(strings_of_my_new_dict)\n",
    "\n",
    "#we see here it takes every value in the dictionary and breaks it into its own string... it doesn't take each 'word'\n",
    "print(strings_of_my_new_dict[3])\n",
    "print(strings_of_my_new_dict[4])\n",
    "print(strings_of_my_new_dict[5])"
   ]
  },
  {
   "cell_type": "markdown",
   "metadata": {},
   "source": [
    "## Functions"
   ]
  },
  {
   "cell_type": "markdown",
   "metadata": {},
   "source": [
    "Functions can be very simple or can become very complicated as we have seen"
   ]
  },
  {
   "cell_type": "code",
   "execution_count": 62,
   "metadata": {},
   "outputs": [
    {
     "name": "stdout",
     "output_type": "stream",
     "text": [
      "49\n"
     ]
    }
   ],
   "source": [
    "#a simple function exmaple: \n",
    "\n",
    "def square_a_number(x):\n",
    "    print(x*x)\n",
    "    \n",
    "    \n",
    "square_a_number(7)"
   ]
  },
  {
   "cell_type": "markdown",
   "metadata": {},
   "source": [
    "### Common Example: Write a Python function that checks whether a passed string is palindrome or not."
   ]
  },
  {
   "cell_type": "code",
   "execution_count": 63,
   "metadata": {},
   "outputs": [],
   "source": [
    "def isPalindrome(string):\n",
    "    \n",
    "    \n",
    "    left_pos = 0 #set the left position to the beginning of the word passed in \n",
    "    right_pos = len(string) - 1 #set the right position to the end of the word passed in \n",
    "    \n",
    "    while right_pos >= left_pos: #while the end character of the word is greater than or equal to the beginning \n",
    "        if not string[left_pos] == string[right_pos]: #if the characters do not match return false \n",
    "            return False\n",
    "        left_pos += 1 #add one to the left position to move to the next character \n",
    "        right_pos -= 1 #subtract one from the right most position to move to the next character \n",
    "    return True  #return true since they would match if they didn't hit our if statement \n",
    "\n"
   ]
  },
  {
   "cell_type": "code",
   "execution_count": 64,
   "metadata": {},
   "outputs": [
    {
     "name": "stdout",
     "output_type": "stream",
     "text": [
      "True\n",
      "False\n",
      "True\n"
     ]
    }
   ],
   "source": [
    "#Lets run this function a few times to check \n",
    "print(isPalindrome('aza'))\n",
    "print(isPalindrome('andrea'))\n",
    "print(isPalindrome('bb'))\n"
   ]
  },
  {
   "cell_type": "markdown",
   "metadata": {},
   "source": [
    "### Example: White a Python Function to check if numbers are even"
   ]
  },
  {
   "cell_type": "code",
   "execution_count": 65,
   "metadata": {},
   "outputs": [
    {
     "name": "stdout",
     "output_type": "stream",
     "text": [
      "[2, 4, 6, 8]\n"
     ]
    }
   ],
   "source": [
    "# this function creates an empty list\n",
    "# it then loops over our passed in variable which is l in this case \n",
    "# if the number divided by 2 is equal to 0 then we know it is even and we can add it to our list using append \n",
    "# finally return the list \n",
    "\n",
    "def is_even_num(l):\n",
    "    \n",
    "    enum = []  \n",
    "    for n in l:   \n",
    "        if n % 2 == 0:   \n",
    "            enum.append(n) \n",
    "    return enum  \n",
    "\n",
    "\n",
    "\n",
    "print(is_even_num([1, 2, 3, 4, 5, 6, 7, 8, 9]))"
   ]
  },
  {
   "cell_type": "markdown",
   "metadata": {},
   "source": [
    "### Something is wrong with the code in the next cell.  It appears to work but notice the output: a = None.  What is missing in this function?"
   ]
  },
  {
   "cell_type": "code",
   "execution_count": 66,
   "metadata": {},
   "outputs": [
    {
     "name": "stdout",
     "output_type": "stream",
     "text": [
      "[96, 46, 21, 60, 14, 69, 24, 35, 5, 88, 31, 61, 93, 19, 32, 45, 95, 67, 30, 36, 29, 15, 65, 83, 81, 3, 73, 63, 11, 33, 16, 85, 17, 70, 6, 13, 66, 55, 23, 72, 1, 26, 4, 94, 82, 47, 71, 22, 64, 10]\n",
      "[12, 73, 55, 59, 9, 79, 94, 65, 1, 17, 75, 58, 97, 46, 71]\n",
      "None\n"
     ]
    }
   ],
   "source": [
    "import random\n",
    "\n",
    "def get_number_list(x):\n",
    "    random.sample(range(1, 100), x)\n",
    "    print(random.sample(range(1,100),x))\n",
    "    \n",
    "get_number_list(50)\n",
    "a = get_number_list(15)\n",
    "print(a)"
   ]
  },
  {
   "cell_type": "markdown",
   "metadata": {},
   "source": [
    "## Working with Data "
   ]
  },
  {
   "cell_type": "markdown",
   "metadata": {},
   "source": [
    "In order to work with data you need to load your data to where your Python File you are working with is located. \n",
    "\n",
    "For example: f = open(\"data/gene_expression.txt\", 'r') which is taken from Week 4's Fasta Start file is located inside a folder called data. So you need to create a folder at the level of your Fasta Start file and then in that folder place your gene_expression.txt file \n",
    "\n",
    "\n",
    "<b> Note: if you try to add a new file to your jupyter notebook you should restart your kernel so that it can pick up the file </b> "
   ]
  },
  {
   "cell_type": "markdown",
   "metadata": {},
   "source": [
    "### Example: How would you read in a data file called data_expression.txt and pass the values as floats "
   ]
  },
  {
   "cell_type": "code",
   "execution_count": 22,
   "metadata": {},
   "outputs": [
    {
     "name": "stdout",
     "output_type": "stream",
     "text": [
      "line is not a number: 2.3abc\n",
      "\n",
      "4.3\n",
      "line is not a number: andrea\n",
      "\n",
      "6.4\n",
      "average: 5.416666666666667\n"
     ]
    }
   ],
   "source": [
    "#you can see this code in a notebook from class too! \n",
    "# it takes in a file and goes line by line through the text file\n",
    "# it uses a try catch to try to turn each line into a float\n",
    "# if the line is not a number it will be caught in the exception \n",
    "\n",
    "f = open(\"data/data_expression.txt\", 'r')\n",
    "lines = f.readlines()\n",
    "sum = 0\n",
    "count = 0\n",
    "for line in lines:\n",
    "    try:\n",
    "        level = float(line)\n",
    "    except ValueError:\n",
    "        print(\"line is not a number:\", line)\n",
    "        print(level)\n",
    "    sum += level\n",
    "    count += 1\n",
    "print(\"average:\", sum/float(count))\n",
    "f.close() # do not forget when you are done to always close your file "
   ]
  },
  {
   "cell_type": "markdown",
   "metadata": {},
   "source": [
    "## Working with the Stack Class"
   ]
  },
  {
   "cell_type": "markdown",
   "metadata": {},
   "source": [
    "As we saw from lecture this is the stack class and its functions.\n",
    "You could also just import the Stack Class which is the same as copying its code below "
   ]
  },
  {
   "cell_type": "code",
   "execution_count": 23,
   "metadata": {},
   "outputs": [],
   "source": [
    "# Note: if we run this it will not return anything because we are just initializing the class\n",
    "\n",
    "class Stack:\n",
    "    def __init__(self):\n",
    "        self.items = []  # data structure\n",
    "        \n",
    "    def is_empty(self):\n",
    "        return self.items == []\n",
    "    \n",
    "    def push(self, item):\n",
    "        self.items.append(item)\n",
    "        \n",
    "    def pop(self):\n",
    "        if self.is_empty():\n",
    "            raise IndexError(\"Pop from an empty stack\")\n",
    "            \n",
    "        #item = self.items[-1]\n",
    "        #del self.items[-1]\n",
    "        #return item\n",
    "        return self.items.pop()\n",
    "        \n",
    "    def peek(self):\n",
    "        return self.items[-1]\n",
    "    \n",
    "    def size(self):\n",
    "        return len(self.items)"
   ]
  },
  {
   "cell_type": "code",
   "execution_count": 24,
   "metadata": {},
   "outputs": [
    {
     "name": "stdout",
     "output_type": "stream",
     "text": [
      "False\n",
      "7\n",
      "8.4\n",
      "True\n",
      "1\n"
     ]
    }
   ],
   "source": [
    "#so here we can create a stack and use some of the simple methods\n",
    "\n",
    "s=Stack()\n",
    "\n",
    "s.push(7)\n",
    "print(s.is_empty())\n",
    "\n",
    "print(s.peek())\n",
    "s.push(True)\n",
    "\n",
    "s.push(8.4)\n",
    "\n",
    "\n",
    "print(s.pop())\n",
    "print(s.pop())\n",
    "print(s.size())\n",
    "\n",
    "\n"
   ]
  },
  {
   "cell_type": "markdown",
   "metadata": {},
   "source": [
    "## Example: Understanding stacks "
   ]
  },
  {
   "cell_type": "markdown",
   "metadata": {},
   "source": [
    "Given the following sequence of stack operations, what is the top item on the stack when the sequence is complete? Is it x,y,z, or an empty stack? "
   ]
  },
  {
   "cell_type": "code",
   "execution_count": 25,
   "metadata": {},
   "outputs": [
    {
     "data": {
      "text/plain": [
       "'z'"
      ]
     },
     "execution_count": 25,
     "metadata": {},
     "output_type": "execute_result"
    }
   ],
   "source": [
    "#if you run the code you will get the answer! \n",
    "\n",
    "m = Stack()\n",
    "m.push('x')\n",
    "m.push('y')\n",
    "m.pop()\n",
    "m.push('z')\n",
    "m.peek()"
   ]
  },
  {
   "cell_type": "markdown",
   "metadata": {},
   "source": [
    "Note: the answer is z"
   ]
  },
  {
   "cell_type": "markdown",
   "metadata": {},
   "source": [
    "## Object Oriented Programming"
   ]
  },
  {
   "cell_type": "markdown",
   "metadata": {},
   "source": [
    "If we use aboves example then we would say that either m or s are both our objects as they are the Stack Objects from our Stack Class\n"
   ]
  },
  {
   "cell_type": "markdown",
   "metadata": {},
   "source": [
    "We can create our own object and class for anything that we want and give it whatever methods necessary"
   ]
  },
  {
   "cell_type": "markdown",
   "metadata": {},
   "source": [
    "### Example of Creating our own Class and Object"
   ]
  },
  {
   "cell_type": "code",
   "execution_count": 26,
   "metadata": {},
   "outputs": [
    {
     "name": "stdout",
     "output_type": "stream",
     "text": [
      "Lexi is a canine\n",
      "Maverick is also a canine\n",
      "Lexi weighs 80 pounds\n",
      "Maverick weighs 105 pounds\n"
     ]
    }
   ],
   "source": [
    "class German_Shepherd:\n",
    "\n",
    "    # class attribute\n",
    "    species = \"canine\"\n",
    "\n",
    "    # instance attribute\n",
    "    def __init__(self, name, weight):\n",
    "        self.name = name\n",
    "        self.weight = weight\n",
    "\n",
    "# instantiate the German_Shephared class\n",
    "Lexi = German_Shepherd(\"Lexi\", 80)\n",
    "Maverick = German_Shepherd(\"Maverick\", 105)\n",
    "\n",
    "# access the class attributes\n",
    "print(\"Lexi is a {}\".format(Lexi.__class__.species))\n",
    "print(\"Maverick is also a {}\".format(Maverick.__class__.species))\n",
    "\n",
    "# access the instance attributes\n",
    "print(\"{} weighs {} pounds\".format( Lexi.name, Lexi.weight))\n",
    "print(\"{} weighs {} pounds\".format( Maverick.name, Maverick.weight))"
   ]
  },
  {
   "cell_type": "markdown",
   "metadata": {},
   "source": [
    "A great site to read and see examples of object oriented programming: \n",
    "\n",
    "https://realpython.com/python3-object-oriented-programming/ "
   ]
  },
  {
   "cell_type": "markdown",
   "metadata": {},
   "source": [
    "## Python Generators "
   ]
  },
  {
   "cell_type": "markdown",
   "metadata": {},
   "source": [
    "Generators are a simple way of creating iterators. \n",
    "\n",
    "To create a generator, you define a function as you normally would but use the yield statement instead of return, indicating to the interpreter that this function should be treated as an iterator."
   ]
  },
  {
   "cell_type": "code",
   "execution_count": 27,
   "metadata": {},
   "outputs": [
    {
     "name": "stdout",
     "output_type": "stream",
     "text": [
      "Starting\n"
     ]
    },
    {
     "data": {
      "text/plain": [
       "4"
      ]
     },
     "execution_count": 27,
     "metadata": {},
     "output_type": "execute_result"
    }
   ],
   "source": [
    "# Countdown example where it will freeze the function and save the local state so that you can resume where you left off \n",
    "\n",
    "def countdown(num):\n",
    "    print('Starting')\n",
    "    while num > 0:\n",
    "        yield num\n",
    "        num -= 1\n",
    "        \n",
    "        \n",
    "#since this is a generator we cannot simply call the function as it will just show us the generator object which is what is used to control the execution \n",
    "\n",
    "#instead we must use the next() function but this does not loop through as it is using the yield so you must use subsequent calls of next(value) to continue through until the yield is not called \n",
    "\n",
    "value = countdown(4)\n",
    "next(value)\n",
    "\n"
   ]
  },
  {
   "cell_type": "code",
   "execution_count": 28,
   "metadata": {},
   "outputs": [
    {
     "data": {
      "text/plain": [
       "3"
      ]
     },
     "execution_count": 28,
     "metadata": {},
     "output_type": "execute_result"
    }
   ],
   "source": [
    "next(value)"
   ]
  },
  {
   "cell_type": "code",
   "execution_count": 29,
   "metadata": {},
   "outputs": [
    {
     "data": {
      "text/plain": [
       "2"
      ]
     },
     "execution_count": 29,
     "metadata": {},
     "output_type": "execute_result"
    }
   ],
   "source": [
    "next(value)"
   ]
  },
  {
   "cell_type": "code",
   "execution_count": 30,
   "metadata": {},
   "outputs": [
    {
     "data": {
      "text/plain": [
       "1"
      ]
     },
     "execution_count": 30,
     "metadata": {},
     "output_type": "execute_result"
    }
   ],
   "source": [
    "next(value)"
   ]
  },
  {
   "cell_type": "code",
   "execution_count": 31,
   "metadata": {},
   "outputs": [
    {
     "ename": "StopIteration",
     "evalue": "",
     "output_type": "error",
     "traceback": [
      "\u001b[1;31m---------------------------------------------------------------------------\u001b[0m",
      "\u001b[1;31mStopIteration\u001b[0m                             Traceback (most recent call last)",
      "\u001b[1;32m<ipython-input-31-6583c3a457dc>\u001b[0m in \u001b[0;36m<module>\u001b[1;34m\u001b[0m\n\u001b[1;32m----> 1\u001b[1;33m \u001b[0mnext\u001b[0m\u001b[1;33m(\u001b[0m\u001b[0mvalue\u001b[0m\u001b[1;33m)\u001b[0m\u001b[1;33m\u001b[0m\u001b[1;33m\u001b[0m\u001b[0m\n\u001b[0m\u001b[0;32m      2\u001b[0m \u001b[1;33m\u001b[0m\u001b[0m\n\u001b[0;32m      3\u001b[0m \u001b[1;31m#here we will get a Stop Iteration error as we don't have a value passed that is greater than 0.\u001b[0m\u001b[1;33m\u001b[0m\u001b[1;33m\u001b[0m\u001b[1;33m\u001b[0m\u001b[0m\n",
      "\u001b[1;31mStopIteration\u001b[0m: "
     ]
    }
   ],
   "source": [
    "next(value)\n",
    "\n",
    "#here we will get a Stop Iteration error as we don't have a value passed that is greater than 0. "
   ]
  },
  {
   "cell_type": "code",
   "execution_count": null,
   "metadata": {},
   "outputs": [],
   "source": [
    "#Another way to print out the values would be to write a loop for our generator function! This would be the same thing (and a cleaner way) as calling the next() function over and over again! \n",
    "\n",
    "for i in countdown(4):\n",
    "    print(i)"
   ]
  },
  {
   "cell_type": "markdown",
   "metadata": {},
   "source": [
    "# Small network of 4 Web Pages \n",
    "\n",
    "One page points to 3 pages, one to two, one to one, and one to nowhere. Look below."
   ]
  },
  {
   "cell_type": "code",
   "execution_count": 32,
   "metadata": {},
   "outputs": [],
   "source": [
    "import networkx as nx\n",
    "wwwg = '''graph [\n",
    "  directed 1\n",
    "  node [\n",
    "    id 0\n",
    "    label \"Page A\"\n",
    "  ]\n",
    "  node [\n",
    "    id 1\n",
    "    label \"Page B\"\n",
    "  ]\n",
    "  node [\n",
    "    id 2\n",
    "    label \"Page C\"\n",
    "  ]\n",
    "  node [\n",
    "    id 3\n",
    "    label \"Page D\"\n",
    "  ]\n",
    "  edge [\n",
    "    source 0\n",
    "    target 1\n",
    "    weight 1\n",
    "  ]\n",
    "  edge [\n",
    "    source 0\n",
    "    target 2\n",
    "    weight 1\n",
    "  ]\n",
    "  edge [\n",
    "    source 0\n",
    "    target 3\n",
    "    weight 1\n",
    "  ]\n",
    "  edge [\n",
    "    source 1\n",
    "    target 2\n",
    "    weight 1\n",
    "  ]\n",
    "  edge [\n",
    "    source 1\n",
    "    target 3\n",
    "    weight 1\n",
    "  ]\n",
    "  edge [\n",
    "    source 2\n",
    "    target 3\n",
    "    weight 1\n",
    "  ]\n",
    "]'''\n"
   ]
  },
  {
   "cell_type": "markdown",
   "metadata": {},
   "source": [
    "Let's save the string to a file in our `data` folder."
   ]
  },
  {
   "cell_type": "code",
   "execution_count": 2,
   "metadata": {},
   "outputs": [],
   "source": [
    "text_file = open(\"data/www.gml\", \"w\")\n",
    "text_file.write(wwwg)\n",
    "text_file.close()"
   ]
  },
  {
   "cell_type": "markdown",
   "metadata": {},
   "source": [
    "Let's use the `networkx` package to read the `wwwg` as a graph "
   ]
  },
  {
   "cell_type": "code",
   "execution_count": 3,
   "metadata": {},
   "outputs": [],
   "source": [
    "import networkx as nx\n",
    "www = nx.read_gml('data/www.gml')"
   ]
  },
  {
   "cell_type": "markdown",
   "metadata": {},
   "source": [
    "Let's plot it."
   ]
  },
  {
   "cell_type": "code",
   "execution_count": 19,
   "metadata": {},
   "outputs": [
    {
     "data": {
      "image/png": "[encoded data removed]",
      "text/plain": [
       "<Figure size 432x288 with 1 Axes>"
      ]
     },
     "metadata": {},
     "output_type": "display_data"
    }
   ],
   "source": [
    "import matplotlib as pl\n",
    "nx.draw(www,pos=nx.spring_layout(www))"
   ]
  },
  {
   "cell_type": "code",
   "execution_count": 20,
   "metadata": {},
   "outputs": [
    {
     "data": {
      "text/plain": [
       "{'Page A': Text(-0.2136875751878496, 0.3870923525805182, 'Page A'),\n",
       " 'Page B': Text(-0.13079581802348372, -0.6349493175527972, 'Page B'),\n",
       " 'Page C': Text(-0.6555166067886646, 0.0427488384036479, 'Page C'),\n",
       " 'Page D': Text(1.0, 0.20510812656863098, 'Page D')}"
      ]
     },
     "execution_count": 20,
     "metadata": {},
     "output_type": "execute_result"
    },
    {
     "data": {
      "image/png": "[encoded data removed]",
      "text/plain": [
       "<Figure size 432x288 with 1 Axes>"
      ]
     },
     "metadata": {
      "needs_background": "light"
     },
     "output_type": "display_data"
    }
   ],
   "source": [
    "nx.draw_networkx_labels(www,pos=nx.spring_layout(www))"
   ]
  },
  {
   "cell_type": "markdown",
   "metadata": {},
   "source": [
    "Let's compute the adjacency matrix and save it in sparse matrix form. Of course, no need for sparse matrix here since our matrix is only 4 x 4. But that's ok."
   ]
  },
  {
   "cell_type": "code",
   "execution_count": 6,
   "metadata": {},
   "outputs": [],
   "source": [
    "import numpy as np\n",
    "from scipy import sparse\n",
    "import scipy.sparse.linalg\n",
    "nodes = np.array(list(www.nodes()))  # array for multi-indexing\n",
    "Adj = nx.to_scipy_sparse_matrix(www, dtype=np.float64)"
   ]
  },
  {
   "cell_type": "markdown",
   "metadata": {},
   "source": [
    "Let's use `pandas` to make it look pretty."
   ]
  },
  {
   "cell_type": "code",
   "execution_count": 7,
   "metadata": {},
   "outputs": [
    {
     "data": {
      "text/html": [
       "<div>\n",
       "<style scoped>\n",
       "    .dataframe tbody tr th:only-of-type {\n",
       "        vertical-align: middle;\n",
       "    }\n",
       "\n",
       "    .dataframe tbody tr th {\n",
       "        vertical-align: top;\n",
       "    }\n",
       "\n",
       "    .dataframe thead th {\n",
       "        text-align: right;\n",
       "    }\n",
       "</style>\n",
       "<table border=\"1\" class=\"dataframe\">\n",
       "  <thead>\n",
       "    <tr style=\"text-align: right;\">\n",
       "      <th></th>\n",
       "      <th>0</th>\n",
       "    </tr>\n",
       "  </thead>\n",
       "  <tbody>\n",
       "    <tr>\n",
       "      <th>0</th>\n",
       "      <td>Page A</td>\n",
       "    </tr>\n",
       "    <tr>\n",
       "      <th>1</th>\n",
       "      <td>Page B</td>\n",
       "    </tr>\n",
       "    <tr>\n",
       "      <th>2</th>\n",
       "      <td>Page C</td>\n",
       "    </tr>\n",
       "    <tr>\n",
       "      <th>3</th>\n",
       "      <td>Page D</td>\n",
       "    </tr>\n",
       "  </tbody>\n",
       "</table>\n",
       "</div>"
      ],
      "text/plain": [
       "        0\n",
       "0  Page A\n",
       "1  Page B\n",
       "2  Page C\n",
       "3  Page D"
      ]
     },
     "execution_count": 7,
     "metadata": {},
     "output_type": "execute_result"
    }
   ],
   "source": [
    "import pandas as pd\n",
    "pd.DataFrame(nodes)"
   ]
  },
  {
   "cell_type": "code",
   "execution_count": 8,
   "metadata": {},
   "outputs": [
    {
     "data": {
      "text/html": [
       "<div>\n",
       "<style scoped>\n",
       "    .dataframe tbody tr th:only-of-type {\n",
       "        vertical-align: middle;\n",
       "    }\n",
       "\n",
       "    .dataframe tbody tr th {\n",
       "        vertical-align: top;\n",
       "    }\n",
       "\n",
       "    .dataframe thead th {\n",
       "        text-align: right;\n",
       "    }\n",
       "</style>\n",
       "<table border=\"1\" class=\"dataframe\">\n",
       "  <thead>\n",
       "    <tr style=\"text-align: right;\">\n",
       "      <th></th>\n",
       "      <th>0</th>\n",
       "      <th>1</th>\n",
       "      <th>2</th>\n",
       "      <th>3</th>\n",
       "    </tr>\n",
       "  </thead>\n",
       "  <tbody>\n",
       "    <tr>\n",
       "      <th>0</th>\n",
       "      <td>Page A</td>\n",
       "      <td>Page B</td>\n",
       "      <td>Page C</td>\n",
       "      <td>Page D</td>\n",
       "    </tr>\n",
       "  </tbody>\n",
       "</table>\n",
       "</div>"
      ],
      "text/plain": [
       "        0       1       2       3\n",
       "0  Page A  Page B  Page C  Page D"
      ]
     },
     "execution_count": 8,
     "metadata": {},
     "output_type": "execute_result"
    }
   ],
   "source": [
    "import pandas as pd\n",
    "pd.DataFrame(nodes).T"
   ]
  },
  {
   "cell_type": "code",
   "execution_count": 9,
   "metadata": {},
   "outputs": [
    {
     "data": {
      "text/plain": [
       "<4x4 sparse matrix of type '<class 'numpy.float64'>'\n",
       "\twith 6 stored elements in Compressed Sparse Row format>"
      ]
     },
     "execution_count": 9,
     "metadata": {},
     "output_type": "execute_result"
    }
   ],
   "source": [
    "n = len(nodes)\n",
    "Adj"
   ]
  },
  {
   "cell_type": "markdown",
   "metadata": {},
   "source": [
    "Let's see what the adjacency matrix looks like."
   ]
  },
  {
   "cell_type": "code",
   "execution_count": 10,
   "metadata": {},
   "outputs": [
    {
     "data": {
      "text/plain": [
       "matrix([[0., 1., 1., 1.],\n",
       "        [0., 0., 1., 1.],\n",
       "        [0., 0., 0., 1.],\n",
       "        [0., 0., 0., 0.]])"
      ]
     },
     "execution_count": 10,
     "metadata": {},
     "output_type": "execute_result"
    }
   ],
   "source": [
    "Adj.todense()"
   ]
  },
  {
   "cell_type": "code",
   "execution_count": 11,
   "metadata": {},
   "outputs": [
    {
     "data": {
      "text/html": [
       "<div>\n",
       "<style scoped>\n",
       "    .dataframe tbody tr th:only-of-type {\n",
       "        vertical-align: middle;\n",
       "    }\n",
       "\n",
       "    .dataframe tbody tr th {\n",
       "        vertical-align: top;\n",
       "    }\n",
       "\n",
       "    .dataframe thead th {\n",
       "        text-align: right;\n",
       "    }\n",
       "</style>\n",
       "<table border=\"1\" class=\"dataframe\">\n",
       "  <thead>\n",
       "    <tr style=\"text-align: right;\">\n",
       "      <th></th>\n",
       "      <th>0</th>\n",
       "      <th>1</th>\n",
       "      <th>2</th>\n",
       "      <th>3</th>\n",
       "    </tr>\n",
       "  </thead>\n",
       "  <tbody>\n",
       "    <tr>\n",
       "      <th>0</th>\n",
       "      <td>0.0</td>\n",
       "      <td>1.0</td>\n",
       "      <td>1.0</td>\n",
       "      <td>1.0</td>\n",
       "    </tr>\n",
       "    <tr>\n",
       "      <th>1</th>\n",
       "      <td>0.0</td>\n",
       "      <td>0.0</td>\n",
       "      <td>1.0</td>\n",
       "      <td>1.0</td>\n",
       "    </tr>\n",
       "    <tr>\n",
       "      <th>2</th>\n",
       "      <td>0.0</td>\n",
       "      <td>0.0</td>\n",
       "      <td>0.0</td>\n",
       "      <td>1.0</td>\n",
       "    </tr>\n",
       "    <tr>\n",
       "      <th>3</th>\n",
       "      <td>0.0</td>\n",
       "      <td>0.0</td>\n",
       "      <td>0.0</td>\n",
       "      <td>0.0</td>\n",
       "    </tr>\n",
       "  </tbody>\n",
       "</table>\n",
       "</div>"
      ],
      "text/plain": [
       "     0    1    2    3\n",
       "0  0.0  1.0  1.0  1.0\n",
       "1  0.0  0.0  1.0  1.0\n",
       "2  0.0  0.0  0.0  1.0\n",
       "3  0.0  0.0  0.0  0.0"
      ]
     },
     "execution_count": 11,
     "metadata": {},
     "output_type": "execute_result"
    }
   ],
   "source": [
    "pd.DataFrame(Adj.todense())"
   ]
  },
  {
   "cell_type": "markdown",
   "metadata": {},
   "source": [
    "Let's compute the probabilistic transition matrix, assuming that a silver surfer has equal probabilities of moving to any node."
   ]
  },
  {
   "cell_type": "code",
   "execution_count": 12,
   "metadata": {},
   "outputs": [],
   "source": [
    "np.seterr(divide='ignore')  # ignore division-by-zero errors\n",
    "\n",
    "degrees = np.ravel(Adj.sum(axis=1))\n",
    "Deginv = sparse.diags(1 / degrees).tocsr()"
   ]
  },
  {
   "cell_type": "code",
   "execution_count": 13,
   "metadata": {},
   "outputs": [],
   "source": [
    "in_degrees = np.ravel(Adj.sum(axis=0))"
   ]
  },
  {
   "cell_type": "code",
   "execution_count": 14,
   "metadata": {},
   "outputs": [
    {
     "data": {
      "text/plain": [
       "<4x4 sparse matrix of type '<class 'numpy.float64'>'\n",
       "\twith 6 stored elements in Compressed Sparse Column format>"
      ]
     },
     "execution_count": 14,
     "metadata": {},
     "output_type": "execute_result"
    }
   ],
   "source": [
    "Trans = (Deginv @ Adj).T\n",
    "Trans"
   ]
  },
  {
   "cell_type": "code",
   "execution_count": 15,
   "metadata": {},
   "outputs": [
    {
     "data": {
      "text/plain": [
       "matrix([[0.        , 0.        , 0.        , 0.        ],\n",
       "        [0.33333333, 0.        , 0.        , 0.        ],\n",
       "        [0.33333333, 0.5       , 0.        , 0.        ],\n",
       "        [0.33333333, 0.5       , 1.        , 0.        ]])"
      ]
     },
     "execution_count": 15,
     "metadata": {},
     "output_type": "execute_result"
    }
   ],
   "source": [
    "Trans.todense()"
   ]
  },
  {
   "cell_type": "markdown",
   "metadata": {},
   "source": [
    "Let's solve Google's silver surfer equation exactly."
   ]
  },
  {
   "cell_type": "code",
   "execution_count": 16,
   "metadata": {},
   "outputs": [],
   "source": [
    "from scipy.sparse.linalg import spsolve\n",
    "\n",
    "damping = 0.85\n",
    "beta = 1 - damping\n",
    "\n",
    "I = sparse.eye(n, format='csc')  # Same sparse format as Trans\n",
    "\n",
    "pagerank = spsolve(I - damping * Trans,\n",
    "                   np.full(n, beta / n))"
   ]
  },
  {
   "cell_type": "markdown",
   "metadata": {},
   "source": [
    "Let's tabulate pageranks."
   ]
  },
  {
   "cell_type": "code",
   "execution_count": 17,
   "metadata": {},
   "outputs": [
    {
     "name": "stdout",
     "output_type": "stream",
     "text": [
      "index, URL, degrees, in_degrees, pagerank\n",
      "0.0 Page A (3.0) (0.0) 0.037500000000000006\n",
      "1.0 Page B (2.0) (1.0) 0.04812500000000001\n",
      "2.0 Page C (1.0) (2.0) 0.068578125\n",
      "3.0 Page D (0.0) (3.0) 0.12686953125000003\n"
     ]
    }
   ],
   "source": [
    "import pandas as pd\n",
    "print('index, URL, degrees, in_degrees, pagerank')\n",
    "for i, (s, d, i, p) in enumerate(zip(nodes, degrees, in_degrees, pagerank)):\n",
    "    print(i, s, '(' + str(d) + ')', '(' + str(i) + ')', p)"
   ]
  },
  {
   "cell_type": "markdown",
   "metadata": {},
   "source": [
    "Highest PageRank is for page D, because all other pages point to it!"
   ]
  },
  {
   "cell_type": "markdown",
   "metadata": {},
   "source": [
    "### Good luck!! "
   ]
  }
 ],
 "metadata": {
  "kernelspec": {
   "display_name": "Python 3",
   "language": "python",
   "name": "python3"
  },
  "language_info": {
   "codemirror_mode": {
    "name": "ipython",
    "version": 3
   },
   "file_extension": ".py",
   "mimetype": "text/x-python",
   "name": "python",
   "nbconvert_exporter": "python",
   "pygments_lexer": "ipython3",
   "version": "3.7.1"
  }
 },
 "nbformat": 4,
 "nbformat_minor": 2
}

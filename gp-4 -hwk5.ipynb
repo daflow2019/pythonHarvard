{
 "cells": [
  {
   "cell_type": "markdown",
   "metadata": {},
   "source": [
    "<div style=\"text-align: right\">CSCI E-7 Introduction to Python Programming for Life Sciences</div>\n",
    "<div style=\"text-align: right\">Dino Konstantopoulos, 4 March 2019</div>\n",
    "\n",
    "Let's apply what we learned about RNA genetic machinery and write general programs that borrow this machinery to navigate the state space of a problem in a disciplined manner.\n",
    "\n",
    "# Guess my number\n",
    "\n",
    "A simple game for two people where one picks a secret number between 1 and 10 and the other has to guess that number.\n",
    "\n",
    "Is it 2?  No\n",
    "\n",
    "Is it 3?  No\n",
    "\n",
    "Is it 7?  No\n",
    "\n",
    "Is it 1?  Yes\n",
    "\n",
    "That works reasonably well for 1..10 but quickly becomes frustrating or boring as we increase the range to 1..100 or 1..1000. Right? Because we have no way to improve our guesses. There’s no challenge. The guess is either right or wrong, so it quickly becomes a mechanical process."
   ]
  },
  {
   "cell_type": "markdown",
   "metadata": {},
   "source": [
    "# More interesting\n",
    "\n",
    "So, to make it more interesting, instead of *no* let’s say **higher** or **lower**.\n",
    "\n",
    "1?  Higher\n",
    "\n",
    "7?  Lower\n",
    "\n",
    "6?  Lower\n",
    "\n",
    "5?  Lower\n",
    "\n",
    "4?  Correct"
   ]
  },
  {
   "cell_type": "markdown",
   "metadata": {},
   "source": [
    "That might be reasonably interesting for a while, for 1..10 maybe, but soon you’ll increase the range to 1..100. Because people are competitive, the next challenge will be to see who is a better guesser by trying to find the number in the *fewest* guesses. At this point the person who evolves the most efficient guessing strategy wins!"
   ]
  },
  {
   "cell_type": "markdown",
   "metadata": {},
   "source": [
    "# Genetic algorithm\n",
    "\n",
    "* A genetic algorithm does not know what *lower* means. It has no *intelligence*. It does not learn. It will make the same mistake every time. It will only be as good at solving a problem as the person who wrote the code. \n",
    "\n",
    "And yet, it can be used to find solutions to problems that humans would struggle to solve or could not solve at all. How is that possible?\n",
    "\n",
    "When playing a card game, inexperienced players build a mental map using the cards in their hand and those on the table. \n",
    "\n",
    "More experienced players also take advantage of their knowledge of the problem space, the **entire set of cards in the deck**. \n",
    "\n",
    "This means they may also keep track of cards that have not yet been played, and may know they can win the rest of the rounds without having to play them out. \n",
    "\n",
    "Highly experienced card players also know the probabilities of various winning combinations. They've written out the probability function we started class with!\n",
    "\n",
    "Professionals, who earn their living playing the game, also pay attention to the way their competitors play.\n",
    "\n",
    "Genetic algorithms use **random exploration of the problem space** combined with *evolutionary processes* like **mutation** and **mating** or **crossover** (exchange of genetic information) to improve guesses. But also, because they have no experience in the problem domain, they try things a human would never think to try. Thus, a person using a genetic algorithm may learn more about the problem space and potential solutions. This gives them the ability to make improvements to the algorithm."
   ]
  },
  {
   "cell_type": "markdown",
   "metadata": {},
   "source": [
    "# Guess the Password\n",
    "\n",
    "Now let’s see how this all applies to guessing a password. We’ll start by randomly generating an initial sequence of letters and then mutate/change one random letter at a time until the sequence of letters becomes \"Hello World!\". \n",
    "\n",
    "Conceptually:"
   ]
  },
  {
   "cell_type": "markdown",
   "metadata": {},
   "source": [
    "```python\n",
    "_letters = [a..zA..Z !]\n",
    "target = \"Hello World!\"\n",
    "guess = get 12 random letters from _letters\n",
    "while guess != target:\n",
    "   index = get random value from [0..length of target]\n",
    "   guess[index] = get 1 random value from _letters\n",
    "```\n",
    "If you try this in any programming language you’ll find that it performs worse than playing the number guessing game with only **yes** and **no** answers because it cannot tell when one guess is better than another.\n",
    "\n",
    "So, let’s help it make an informed guess by telling it how many of the letters from the guess are in the correct locations. For example \"World!Hello?\" would get 2 because only the 4th letter of each word is correct. The 2 indicates how close the answer is to correct. This is called the **fitness value**. \n",
    "\n",
    "\"hello world?\" would get a fitness value of 9 because 9 letters are correct. Only the `h`, `w`, and question mark are wrong."
   ]
  },
  {
   "cell_type": "code",
   "execution_count": null,
   "metadata": {},
   "outputs": [],
   "source": [
    "_letters = [a..zA..Z !]\n",
    "target = \"Hello World!\"\n",
    "guess = get 12 random letters from _letters\n",
    "while guess != target:\n",
    "   index = get random value from [0..length of target]\n",
    "   guess[index] = get 1 random value from _letters"
   ]
  },
  {
   "cell_type": "markdown",
   "metadata": {},
   "source": [
    "# Genes\n",
    "\n",
    "We start off with a generic set of letters for genes and a target password:"
   ]
  },
  {
   "cell_type": "code",
   "execution_count": 14,
   "metadata": {},
   "outputs": [],
   "source": [
    "geneSet = \" abcdefghijklmnopqrstuvwxyzABCDEFGHIJKLMNOPQRSTUVWXYZ!.\"\n",
    "target = \"Hello World!\""
   ]
  },
  {
   "cell_type": "markdown",
   "metadata": {},
   "source": [
    "# Generate a guess\n",
    "\n",
    "Next we need a way to generate a random string of letters from the gene set."
   ]
  },
  {
   "cell_type": "code",
   "execution_count": 2,
   "metadata": {},
   "outputs": [],
   "source": [
    "import random\n",
    "\n",
    "def generate_parent(length):\n",
    "    genes = []\n",
    "    while len(genes) < length:\n",
    "        sampleSize = min(length - len(genes), len(geneSet))\n",
    "        genes.extend(random.sample(geneSet, sampleSize))\n",
    "    return ''.join(genes)"
   ]
  },
  {
   "cell_type": "code",
   "execution_count": 15,
   "metadata": {},
   "outputs": [
    {
     "name": "stdout",
     "output_type": "stream",
     "text": [
      "UFXRrsuHN\n"
     ]
    }
   ],
   "source": [
    "print(generate_parent(9))"
   ]
  },
  {
   "cell_type": "markdown",
   "metadata": {},
   "source": [
    "`random.sample` takes sampleSize values from the input **without replacement**. \n",
    "\n",
    "This means there will be no duplicates in the generated parent unless geneSet contains duplicates, or length is greater than `len(geneSet)`. The implementation above allows us to generate a long string with a small set of genes while using as many unique genes as possible."
   ]
  },
  {
   "cell_type": "markdown",
   "metadata": {},
   "source": [
    "# Fitness\n",
    "\n",
    "The fitness value the genetic algorithm provides is the only feedback the engine gets to guide it toward a solution. In this problem our fitness value is the total number of letters in the guess that match the letter in the same position of the password."
   ]
  },
  {
   "cell_type": "code",
   "execution_count": 3,
   "metadata": {},
   "outputs": [],
   "source": [
    "def get_fitness(guess):\n",
    "    return sum(1 for expected, actual in zip(target, guess)\n",
    "               if expected == actual)"
   ]
  },
  {
   "cell_type": "markdown",
   "metadata": {},
   "source": [
    "# Mutate\n",
    "\n",
    "We also need a way to produce a new guess by **mutating** the current one. The following implementation converts the parent string to an array with list(parent) then replaces 1 letter in the array with a randomly selected one from geneSet, and then recombines the result into a string with ''.join(genes)."
   ]
  },
  {
   "cell_type": "code",
   "execution_count": 4,
   "metadata": {},
   "outputs": [],
   "source": [
    "def mutate(parent):\n",
    "    index = random.randrange(0, len(parent))\n",
    "    childGenes = list(parent)\n",
    "    newGene, alternate = random.sample(geneSet, 2)\n",
    "    childGenes[index] = (alternate  \n",
    "        if newGene == childGenes[index]  \n",
    "        else newGene)\n",
    "    return ''.join(childGenes)"
   ]
  },
  {
   "cell_type": "markdown",
   "metadata": {},
   "source": [
    "This implementation uses an alternate replacement if the randomly selected newGene is the same as the one it is supposed to replace, which can save a significant amount of overhead."
   ]
  },
  {
   "cell_type": "markdown",
   "metadata": {},
   "source": [
    "# Display\n",
    "\n",
    "Next, it is important to monitor what is happening, so that we can stop the engine if it gets stuck. It also allows us to learn what works and what does not so we can improve the algorithm. This is also called **debugging** ;-)\n",
    "\n",
    "We’ll display a visual representation of the gene sequence, which may not be the literal gene sequence, its fitness value and how much time has elapsed."
   ]
  },
  {
   "cell_type": "code",
   "execution_count": 5,
   "metadata": {},
   "outputs": [],
   "source": [
    "import datetime\n",
    "\n",
    "def display(guess):\n",
    "    timeDiff = datetime.datetime.now() - startTime\n",
    "    fitness = get_fitness(guess)\n",
    "    print(\"{0}\\t{1}\\t{2}\".format(guess, fitness, str(timeDiff)))"
   ]
  },
  {
   "cell_type": "markdown",
   "metadata": {},
   "source": [
    "# Main\n",
    "\n",
    "Now we’re ready to write the main program. We start by initializing `bestParent` to a random sequence of letters."
   ]
  },
  {
   "cell_type": "code",
   "execution_count": 6,
   "metadata": {},
   "outputs": [
    {
     "name": "stdout",
     "output_type": "stream",
     "text": [
      ".gcSZKJLfmWQ\t0\t0:00:00.000351\n"
     ]
    }
   ],
   "source": [
    "random.seed()\n",
    "startTime = datetime.datetime.now()\n",
    "bestParent = generate_parent(len(target))\n",
    "bestFitness = get_fitness(bestParent)\n",
    "display(bestParent)"
   ]
  },
  {
   "cell_type": "markdown",
   "metadata": {},
   "source": [
    "Then we add the heart of the genetic engine. It is a **loop** that generates a guess, requests the fitness for that guess, then compares it to that of the previous best guess, and keeps the better of the two. This cycle repeats until all the letters match those in the target."
   ]
  },
  {
   "cell_type": "code",
   "execution_count": 7,
   "metadata": {},
   "outputs": [
    {
     "name": "stdout",
     "output_type": "stream",
     "text": [
      ".gclZKJLfmWQ\t1\t0:01:04.705791\n",
      ".gclZKJLfmW!\t2\t0:01:04.706128\n",
      ".gclZKWLfmW!\t3\t0:01:04.707223\n",
      ".gclZKWLflW!\t4\t0:01:04.715461\n",
      ".gclZKWLrlW!\t5\t0:01:04.715717\n",
      ".gcloKWLrlW!\t6\t0:01:04.721094\n",
      ".gcloKWLrld!\t7\t0:01:04.725473\n",
      ".gcloKWorld!\t8\t0:01:04.727250\n",
      "HgcloKWorld!\t9\t0:01:04.729312\n",
      "HecloKWorld!\t10\t0:01:04.732933\n",
      "Heclo World!\t11\t0:01:04.737332\n",
      "Hello World!\t12\t0:01:04.764477\n"
     ]
    }
   ],
   "source": [
    "while True:\n",
    "    child = mutate(bestParent)\n",
    "    childFitness = get_fitness(child)\n",
    "\n",
    "    if bestFitness >= childFitness:\n",
    "        continue\n",
    "    display(child)\n",
    "    if childFitness >= len(bestParent):\n",
    "        break\n",
    "    bestFitness = childFitness\n",
    "    bestParent = child"
   ]
  },
  {
   "cell_type": "markdown",
   "metadata": {},
   "source": [
    "# Extract a reusable engine\n",
    "\n",
    "Now that we have a working solution to this problem we will extract the genetic engine code from that specific to the password problem so we can reuse it to solve other problems.\n",
    "\n",
    "We’ll rename the `mutate` and `generate_paren`t functions to _mutate and _generate_parent. This is how protected functions are named in Python. They will not be visible to users of the genetic library iof they lives in a python file."
   ]
  },
  {
   "cell_type": "markdown",
   "metadata": {},
   "source": [
    "### Generate and Mutate\n",
    "\n",
    "Since we want to be able to customize the gene set used in future problems we need to pass it as a parameter to `_generate_parent`"
   ]
  },
  {
   "cell_type": "code",
   "execution_count": 8,
   "metadata": {},
   "outputs": [],
   "source": [
    "import random\n",
    "\n",
    "def _generate_parent(length, geneSet):\n",
    "    genes = []\n",
    "    while len(genes) < length:\n",
    "        sampleSize = min(length - len(genes), len(geneSet))\n",
    "        genes.extend(random.sample(geneSet, sampleSize))\n",
    "    return ''.join(genes)"
   ]
  },
  {
   "cell_type": "code",
   "execution_count": 9,
   "metadata": {},
   "outputs": [],
   "source": [
    "def _mutate(parent, geneSet):\n",
    "    index = random.randrange(0, len(parent))\n",
    "    childGenes = list(parent)\n",
    "    newGene, alternate = random.sample(geneSet, 2)\n",
    "    childGenes[index] = (alternate  \n",
    "        if newGene == childGenes[index]  \n",
    "        else newGene)\n",
    "    return ''.join(childGenes)"
   ]
  },
  {
   "cell_type": "markdown",
   "metadata": {},
   "source": [
    "### get_best\n",
    "\n",
    "Next we’ll move the main loop into a new function named `get_best` in our genetic library. \n",
    "\n",
    "Its parameters will include the functions it should use to request the fitness for a guess and to display (or report) each new best guess as it is found, the number of genes to use when creating a new sequence, the optimal fitness, and the set of genes to use for creating and mutating gene sequences."
   ]
  },
  {
   "cell_type": "code",
   "execution_count": 10,
   "metadata": {},
   "outputs": [],
   "source": [
    "def get_best(get_fitness, targetLen, optimalFitness, geneSet, display):\n",
    "    random.seed()\n",
    "    bestParent = _generate_parent(targetLen, geneSet)\n",
    "    bestFitness = get_fitness(bestParent)\n",
    "    display(bestParent)\n",
    "    if bestFitness >= optimalFitness:\n",
    "        return bestParent\n",
    "\n",
    "    while True:\n",
    "        child = _mutate(bestParent, geneSet)\n",
    "        childFitness = get_fitness(child)\n",
    "\n",
    "        if bestFitness >= childFitness:\n",
    "            continue\n",
    "        display(child)\n",
    "        if childFitness >= optimalFitness:\n",
    "            return child\n",
    "        bestFitness = childFitness\n",
    "        bestParent = child"
   ]
  },
  {
   "cell_type": "markdown",
   "metadata": {},
   "source": [
    "Notice that we call` display` and `get_fitness` with only one parameter - the child gene sequence. This is because we do not want the engine to have access to the target value, and it doesn’t care whether we are timing the run or not, so those are not passed to the function.\n",
    "\n",
    "We now have a reusable library that we can play with."
   ]
  },
  {
   "cell_type": "code",
   "execution_count": 11,
   "metadata": {},
   "outputs": [],
   "source": [
    "def test_Hello_World():\n",
    "    #target = \"Hello World!\"\n",
    "    target = \"For I am fearless and made of chocolate.\"\n",
    "    guess_password(target)\n",
    "\n",
    "\n",
    "def guess_password(target):\n",
    "    geneset = \" abcdefghijklmnopqrstuvwxyzABCDEFGHIJKLMNOPQRSTUVWXYZ!.\"\n",
    "    startTime = datetime.datetime.now()\n",
    "\n",
    "    def fnGetFitness(genes):\n",
    "        return get_fitness(genes, target)\n",
    "\n",
    "    def fnDisplay(genes):\n",
    "        display(genes, target, startTime)\n",
    "\n",
    "    optimalFitness = len(target)\n",
    "    get_best(fnGetFitness, len(target), optimalFitness, geneset, fnDisplay)"
   ]
  },
  {
   "cell_type": "code",
   "execution_count": 12,
   "metadata": {},
   "outputs": [],
   "source": [
    "def get_fitness(genes, target):\n",
    "    return sum(1 for expected, actual in zip(target, genes)\n",
    "               if expected == actual)"
   ]
  },
  {
   "cell_type": "code",
   "execution_count": 13,
   "metadata": {},
   "outputs": [],
   "source": [
    "def display(genes, target, startTime):\n",
    "    timeDiff = datetime.datetime.now() - startTime\n",
    "    fitness = get_fitness(genes, target)\n",
    "    print(\"{0}\\t{1}\\t{2}\".format(genes, fitness, str(timeDiff)))"
   ]
  },
  {
   "cell_type": "code",
   "execution_count": 20,
   "metadata": {},
   "outputs": [
    {
     "name": "stdout",
     "output_type": "stream",
     "text": [
      "vHUzNeVQZSaW.EtpojmJAhikOuIyMKGw nbBfdqP\t0\t0:00:00\n",
      "vHUzNeVQZSaW.ltpojmJAhikOuIyMKGw nbBfdqP\t1\t0:00:00\n",
      "vHUzNeVQZSaW.ltpojmnAhikOuIyMKGw nbBfdqP\t2\t0:00:00.000998\n",
      "vHUzNeVQZSaW.ltpojmnAhikOuIyMKGw nbBfdq.\t3\t0:00:00.000998\n",
      "vHUzNeVQZSaW.ltpojmnAhikOuIoMKGw nbBfdq.\t4\t0:00:00.000998\n",
      "vHUzNeVQZSaW.ltpojmnAhikOuIoMKGw cbBfdq.\t5\t0:00:00.001996\n",
      "vHUzNeVQZSaW.ltpojmnAhikOuIoMKGh cbBfdq.\t6\t0:00:00.001996\n",
      "vHUzN VQZSaW.ltpojmnAhikOuIoMKGh cbBfdq.\t7\t0:00:00.001996\n",
      "vHUzN VQZSaW.ltpojmnAhikOuIoM Gh cbBfdq.\t8\t0:00:00.002993\n",
      "vHUzI VQZSaW.ltpojmnAhikOuIoM Gh cbBfdq.\t9\t0:00:00.002993\n",
      "vHU I VQZSaW.ltpojmnAhikOuIoM Gh cbBfdq.\t10\t0:00:00.003990\n",
      "vHU I VQZSaW.ltpojmnA ikOuIoM Gh cbBfdq.\t11\t0:00:00.003990\n",
      "vHU I VQZSaW.ltpsjmnA ikOuIoM Gh cbBfdq.\t12\t0:00:00.004987\n",
      "vHU I VQZSaW.ltpsjmnA ikOuIoM Gh cbBadq.\t13\t0:00:00.006982\n",
      "vHU I VQZSaW.ltpsjmnd ikOuIoM Gh cbBadq.\t14\t0:00:00.007979\n",
      "vHU I VQZSaW.ltpsjmnd ikOuIoM ch cbBadq.\t15\t0:00:00.009974\n",
      "vHU I VQZfaW.ltpsjmnd ikOuIoM ch cbBadq.\t16\t0:00:00.009974\n",
      "vHU I VQZfaW.ltpsjmnd ikOuIoM ch cbBade.\t17\t0:00:00.009974\n",
      "vHU I VQZfaW.ltpsjmnd ikOeIoM ch cbBade.\t18\t0:00:00.011969\n",
      "vHU I VQZfeW.ltpsjmnd ikOeIoM ch cbBade.\t19\t0:00:00.013964\n",
      "vHU I VQZfea.ltpsjmnd ikOeIoM ch cbBade.\t20\t0:00:00.013964\n",
      "vHU I VQZfea.ltpsjmnd ikOeIoM ch coBade.\t21\t0:00:00.016954\n",
      "vHU I VQZfea.lepsjmnd ikOeIoM ch coBade.\t22\t0:00:00.018949\n",
      "vHU I VQZfea.lepsjmnd ikdeIoM ch coBade.\t23\t0:00:00.019946\n",
      "vHU I VQZfea.lepsjmnd ikdeIoM ch coBate.\t24\t0:00:00.020944\n",
      "vHr I VQZfea.lepsjmnd ikdeIoM ch coBate.\t25\t0:00:00.023935\n",
      "vHr I VQZfea.lepsjmnd mkdeIoM ch coBate.\t26\t0:00:00.023935\n",
      "vHr I VQZfea.lepsjmnd mkde oM ch coBate.\t27\t0:00:00.026927\n",
      "vHr I VQZfea.leps mnd mkde oM ch coBate.\t28\t0:00:00.027924\n",
      "vHr I VQZfearleps mnd mkde oM ch coBate.\t29\t0:00:00.028935\n",
      "vHr I VQZfearleps mnd mkde of ch coBate.\t30\t0:00:00.028935\n",
      "vHr I VQZfearleps mnd mkde of chocoBate.\t31\t0:00:00.030949\n",
      "vHr I VQ fearleps mnd mkde of chocoBate.\t32\t0:00:00.035903\n",
      "vor I VQ fearleps mnd mkde of chocoBate.\t33\t0:00:00.037897\n",
      "vor I VQ fearleps and mkde of chocoBate.\t34\t0:00:00.038895\n",
      "vor I VQ fearleps and made of chocoBate.\t35\t0:00:00.055879\n",
      "vor I Vm fearleps and made of chocoBate.\t36\t0:00:00.082806\n",
      "For I Vm fearleps and made of chocoBate.\t37\t0:00:00.090757\n",
      "For I Vm fearless and made of chocoBate.\t38\t0:00:00.096740\n",
      "For I am fearless and made of chocoBate.\t39\t0:00:00.195476\n",
      "For I am fearless and made of chocolate.\t40\t0:00:00.234406\n"
     ]
    }
   ],
   "source": [
    "test_Hello_World()"
   ]
  },
  {
   "cell_type": "markdown",
   "metadata": {},
   "source": [
    "# A bit of OOP\n",
    "\n",
    "Let's group all that functionality in nice OOP form.\n",
    "\n",
    "Here, we declare our `Chromosome` class and some built-in utility functions (`_xxx`) that, if we place in a python source code file, should not be callable from third party sources."
   ]
  },
  {
   "cell_type": "code",
   "execution_count": 31,
   "metadata": {},
   "outputs": [],
   "source": [
    "import random\n",
    "import statistics\n",
    "import sys\n",
    "import time\n",
    "\n",
    "class Chromosome:\n",
    "    def __init__(self, genes, fitness):\n",
    "        self.Genes = genes\n",
    "        self.Fitness = fitness\n",
    "        \n",
    "\n",
    "def _generate_parent(length, geneSet, get_fitness):\n",
    "    genes = []\n",
    "    while len(genes) < length:\n",
    "        sampleSize = min(length - len(genes), len(geneSet))\n",
    "        genes.extend(random.sample(geneSet, sampleSize))\n",
    "    genes = ''.join(genes)\n",
    "    fitness = get_fitness(genes)\n",
    "    return Chromosome(genes, fitness)\n",
    "\n",
    "\n",
    "def _mutate(parent, geneSet, get_fitness):\n",
    "    index = random.randrange(0, len(parent.Genes))\n",
    "    childGenes = list(parent.Genes)\n",
    "    newGene, alternate = random.sample(geneSet, 2)\n",
    "    childGenes[index] = alternate if newGene == childGenes[index] else newGene\n",
    "    genes = ''.join(childGenes)\n",
    "    fitness = get_fitness(genes)\n",
    "    return Chromosome(genes, fitness)\n",
    "\n",
    "\n",
    "def _get_best(get_fitness, targetLen, optimalFitness, geneSet, display):\n",
    "    random.seed()\n",
    "    bestParent = _generate_parent(targetLen, geneSet, get_fitness)\n",
    "    display(bestParent)\n",
    "    if bestParent.Fitness >= optimalFitness:\n",
    "        return bestParent\n",
    "    while True:\n",
    "        child = _mutate(bestParent, geneSet, get_fitness)\n",
    "        if bestParent.Fitness >= child.Fitness:\n",
    "            continue\n",
    "        display(child)\n",
    "        if child.Fitness >= optimalFitness:\n",
    "            return child\n",
    "        bestParent = child"
   ]
  },
  {
   "cell_type": "markdown",
   "metadata": {},
   "source": [
    "Here we define our fitness and display (debugging) functions, and also the class `GuessPasswordTests` that will solve the problem at hand: Guessing passwords. Notice how we define functions within functions, which lets us easily swap different options in order to test our program."
   ]
  },
  {
   "cell_type": "code",
   "execution_count": 34,
   "metadata": {},
   "outputs": [],
   "source": [
    "def get_fitness(guess, target):\n",
    "    return sum(1 for expected, actual in zip(target, guess)\n",
    "               if expected == actual)\n",
    "\n",
    "\n",
    "def display(candidate, startTime):\n",
    "    timeDiff = datetime.datetime.now() - startTime\n",
    "    print(\"{}\\t{}\\t{}\".format(\n",
    "        candidate.Genes, candidate.Fitness, timeDiff))\n",
    "\n",
    "\n",
    "class GuessPasswordTests():\n",
    "    geneset = \" abcdefghijklmnopqrstuvwxyzABCDEFGHIJKLMNOPQRSTUVWXYZ!.,\"\n",
    "\n",
    "    def test_Hello_World(self):\n",
    "        target = \"Hello World!\"\n",
    "        self.guess_password(target)\n",
    "\n",
    "    def test_For_I_am_fearless_and_made_of_chocolate(self):\n",
    "        target = \"For I am fearless and made of chocolate.\"\n",
    "        self.guess_password(target)\n",
    "\n",
    "    def guess_password(self, target):\n",
    "        startTime = datetime.datetime.now()\n",
    "\n",
    "        def fnGetFitness(genes):\n",
    "            return get_fitness(genes, target)\n",
    "\n",
    "        def fnDisplay(candidate):\n",
    "            display(candidate, startTime)\n",
    "\n",
    "        optimalFitness = len(target)\n",
    "        best = _get_best(fnGetFitness, len(target), optimalFitness,\n",
    "                                self.geneset, fnDisplay)\n",
    "\n",
    "    def test_Random(self):\n",
    "        length = 150\n",
    "        target = ''.join(random.choice(self.geneset)\n",
    "                         for _ in range(length))\n",
    "\n",
    "        self.guess_password(target)"
   ]
  },
  {
   "cell_type": "markdown",
   "metadata": {},
   "source": [
    "Let's create an object of the class `GuessPasswordTests`, and call its `test_For_I_am_fearless_and_made_of_chocolate()` method."
   ]
  },
  {
   "cell_type": "code",
   "execution_count": 35,
   "metadata": {},
   "outputs": [
    {
     "name": "stdout",
     "output_type": "stream",
     "text": [
      "DfogRTObQYXsmrkJSpIUutGvVlcjLHewNM.iq,E!\t0\t0:00:00\n",
      "DfogRTOmQYXsmrkJSpIUutGvVlcjLHewNM.iq,E!\t1\t0:00:00.001001\n",
      "DfogRTOmQYXsmrkJSpIUutGaVlcjLHewNM.iq,E!\t2\t0:00:00.001001\n",
      "DfogRTOmQYXsmrkJSpInutGaVlcjLHewNM.iq,E!\t3\t0:00:00.001995\n",
      "DfogRTOmQYXsmrkJSpInutGaVlcjLHewNM.iq,E.\t4\t0:00:00.001995\n",
      "DfogRTOmQYXsmrkJSpInutmaVlcjLHewNM.iq,E.\t5\t0:00:00.002991\n",
      "DfogRTamQYXsmrkJSpInutmaVlcjLHewNM.iq,E.\t6\t0:00:00.004988\n",
      "DfogRTamQYXsmrksSpInutmaVlcjLHewNM.iq,E.\t7\t0:00:00.005984\n",
      "DfogRTamQYXsmrksSpInutmaVlcjLHewNM.iq,e.\t8\t0:00:00.006995\n",
      "DfogRTamQYXsmrksSpanutmaVlcjLHewNM.iq,e.\t9\t0:00:00.006995\n",
      "DfogRTamQYXamrksSpanutmaVlcjLHewNM.iq,e.\t10\t0:00:00.007979\n",
      "DfogRTamQYXamlksSpanutmaVlcjLHewNM.iq,e.\t11\t0:00:00.007979\n",
      "DfogRTamQYXamlksspanutmaVlcjLHewNM.iq,e.\t12\t0:00:00.007979\n",
      "DfogRTamQYXamlksspanutmaVl jLHewNM.iq,e.\t13\t0:00:00.008976\n",
      "DfogRTamQYXamlksspanutmaVe jLHewNM.iq,e.\t14\t0:00:00.009973\n",
      "DfogRTam YXamlksspanutmaVe jLHewNM.iq,e.\t15\t0:00:00.010970\n",
      "DfogRTam YXamlksspanutmaVe jLHewNM.lq,e.\t16\t0:00:00.010970\n",
      "DfogR am YXamlksspanutmaVe jLHewNM.lq,e.\t17\t0:00:00.010970\n",
      "DfogR am YXamlksspanutmaVe jLHewNM.lqte.\t18\t0:00:00.011982\n",
      "DfogR am YXamlksspanutmaVe jLHcwNM.lqte.\t19\t0:00:00.012965\n",
      "DfogR am YXamlkss anutmaVe jLHcwNM.lqte.\t20\t0:00:00.013979\n",
      "DfogR am YXamless anutmaVe jLHcwNM.lqte.\t21\t0:00:00.014960\n",
      "DfrgR am YXamless anutmaVe jLHcwNM.lqte.\t22\t0:00:00.014960\n",
      "DfrgR am YXamless anutmaVe jLHcwNMolqte.\t23\t0:00:00.014960\n",
      "DfrgR am YXamless anutmaVe jLHcwoMolqte.\t24\t0:00:00.016953\n",
      "DfrgR am YXamless anutmaVe oLHcwoMolqte.\t25\t0:00:00.021941\n",
      "DorgR am YXamless anutmaVe oLHcwoMolqte.\t26\t0:00:00.023948\n",
      "DorgR am YXamless anutmade oLHcwoMolqte.\t27\t0:00:00.032914\n",
      "Dor R am YXamless anutmade oLHcwoMolqte.\t28\t0:00:00.033908\n",
      "For R am YXamless anutmade oLHcwoMolqte.\t29\t0:00:00.035904\n",
      "For R am YXamless anutmade oL cwoMolqte.\t30\t0:00:00.037935\n",
      "For R am fXamless anutmade oL cwoMolqte.\t31\t0:00:00.038895\n",
      "For R am fXamless anutmade oL choMolqte.\t32\t0:00:00.040929\n",
      "For I am fXamless anutmade oL choMolqte.\t33\t0:00:00.045911\n",
      "For I am fXamless anutmade of choMolqte.\t34\t0:00:00.047871\n",
      "For I am fXamless anu made of choMolqte.\t35\t0:00:00.048869\n",
      "For I am fXamless anu made of choMolate.\t36\t0:00:00.054889\n",
      "For I am fXarless anu made of choMolate.\t37\t0:00:00.063860\n",
      "For I am fXarless anu made of chocolate.\t38\t0:00:00.077821\n",
      "For I am fXarless and made of chocolate.\t39\t0:00:00.092791\n",
      "For I am fearless and made of chocolate.\t40\t0:00:00.177557\n"
     ]
    }
   ],
   "source": [
    "t = GuessPasswordTests()\n",
    "t.test_For_I_am_fearless_and_made_of_chocolate()"
   ]
  },
  {
   "cell_type": "markdown",
   "metadata": {},
   "source": [
    "# Homework\n",
    "\n",
    "<b>Q1:</b> Use `GuessPasswordTests` as a model to build a genetic algorithm that sorts lists of integers, and compare its performance to that of bubble sort and merge sort, which we learned about in this lecture. Run this class on a random list of 10 integers. You will need to define your own fitness function, but I think one whereby it counts all *already sorted* elements in the list sounds pretty good to me! We will look for your use of recursion/iteration as needed, class objects as needed and functions. You can start with the function below and modify. <p><b>Points: 30</b></p>"
   ]
  },
  {
   "cell_type": "markdown",
   "metadata": {},
   "source": [
    "## For example\n",
    "\n",
    "This might be an example of a solution run:\n",
    "\n",
    "```python\n",
    "t = TestSortingUnsortedLists()\n",
    "t.test_please_sort_10_numbers()\n",
    "```\n",
    "\n",
    "```python\n",
    "95, 36, 90, 94, 7, 52, 21, 81, 99, 91\t=> 6 Sequential, 185 Total Gap\t0:00:00\n",
    "95, 65, 90, 94, 7, 52, 21, 32, 99, 91\t=> 6 Sequential, 156 Total Gap\t0:00:00.000977\n",
    "26, 65, 90, 94, 7, 52, 21, 32, 99, 91\t=> 7 Sequential, 126 Total Gap\t0:00:00.000977\n",
    "35, 65, 90, 94, 7, 52, 21, 75, 98, 91\t=> 7 Sequential, 125 Total Gap\t0:00:00.000977\n",
    "8, 65, 90, 94, 7, 52, 21, 68, 92, 91\t=> 7 Sequential, 119 Total Gap\t0:00:00.000977\n",
    "8, 65, 90, 94, 7, 52, 35, 68, 92, 91\t=> 7 Sequential, 105 Total Gap\t0:00:00.000977\n",
    "8, 65, 90, 94, 7, 52, 80, 68, 92, 91\t=> 7 Sequential, 100 Total Gap\t0:00:00.000977\n",
    "8, 65, 90, 94, 43, 52, 80, 68, 92, 91\t=> 7 Sequential, 64 Total Gap\t0:00:00.000977\n",
    "8, 20, 90, 94, 43, 52, 47, 68, 92, 91\t=> 7 Sequential, 57 Total Gap\t0:00:00.000977\n",
    "4, 30, 90, 94, 43, 52, 47, 68, 79, 91\t=> 8 Sequential, 56 Total Gap\t0:00:00.000977\n",
    "12, 58, 90, 94, 43, 52, 77, 76, 85, 88\t=> 8 Sequential, 52 Total Gap\t0:00:00.000977\n",
    "12, 58, 90, 94, 43, 52, 66, 76, 85, 88\t=> 9 Sequential, 51 Total Gap\t0:00:00.001964\n",
    "12, 15, 23, 48, 43, 45, 75, 77, 85, 88\t=> 9 Sequential, 5 Total Gap\t0:00:00.001964\n",
    "17, 18, 25, 30, 43, 55, 62, 77, 83, 91\t=> 10 Sequential, 0 Total Gap\t0:00:00.003990\n",
    "```\n",
    "\n",
    "where our fitness function is:\n",
    "```python\n",
    "def get_fitness(genes):\n",
    "    fitness = 1\n",
    "    gap = 0\n",
    "\n",
    "    for i in range(1, len(genes)):\n",
    "        if genes[i] > genes[i - 1]:\n",
    "            fitness += 1\n",
    "        else:\n",
    "            gap += genes[i - 1] - genes[i]\n",
    "    return Fitness(fitness, gap)\n",
    "```\n",
    "\n",
    "which uses the class:\n",
    "```python\n",
    "\n",
    "class Fitness:\n",
    "    def __init__(self, numbersInSequenceCount, totalGap):\n",
    "        self.NumbersInSequenceCount = numbersInSequenceCount\n",
    "        self.TotalGap = totalGap\n",
    "\n",
    "    def __gt__(self, other):\n",
    "        if self.NumbersInSequenceCount != other.NumbersInSequenceCount:\n",
    "            return self.NumbersInSequenceCount > other.NumbersInSequenceCount\n",
    "        return self.TotalGap < other.TotalGap\n",
    "\n",
    "    def __str__(self):\n",
    "        return \"{} Sequential, {} Total Gap\".format(\n",
    "            self.NumbersInSequenceCount,\n",
    "            self.TotalGap)\n",
    "```"
   ]
  },
  {
   "cell_type": "markdown",
   "metadata": {},
   "source": [
    "Isn't it amazing how we can teach a program to do *anything*, using the machinery of life?"
   ]
  }
 ],
 "metadata": {
  "kernelspec": {
   "display_name": "Python 3",
   "language": "python",
   "name": "python3"
  },
  "language_info": {
   "codemirror_mode": {
    "name": "ipython",
    "version": 3
   },
   "file_extension": ".py",
   "mimetype": "text/x-python",
   "name": "python",
   "nbconvert_exporter": "python",
   "pygments_lexer": "ipython3",
   "version": "3.7.1"
  }
 },
 "nbformat": 4,
 "nbformat_minor": 2
}

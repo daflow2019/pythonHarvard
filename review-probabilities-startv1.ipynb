{
 "cells": [
  {
   "cell_type": "markdown",
   "metadata": {
    "button": false,
    "new_sheet": false,
    "run_control": {
     "read_only": false
    }
   },
   "source": [
    "<div style=\"text-align: right\">CSCI E-7 Introduction to Python Programming for Life Sciences</div>\n",
    "<div style=\"text-align: right\">Dino Konstantopoulos, 22 May 2019, with material by Gordon Webster and James D. Murray</div>\n",
    "<div style=\"text-align: right\">**Review: Python dictionaries, Python generators**</div>\n",
    "\n",
    "# Napoleon's Russian campaign and CSCI E7\n",
    "\n",
    "The year is 1812, and Napoleon is doing pretty well for himself. He has most of Europe under his control, except for the UK. No matter how many times he tried to invade them, he couldn’t break through their defenses. His plan was to place an embargo on them, forcing the other European countries to stop trade with the UK which would weaken them enough so that Napoleon could invade and take over easily.\n",
    "\n",
    "Czar Alexander of Russia sees that Napoleon was becoming too powerful, so he refuses to participate in this embargo. Angry at Czar Alexander’s decision, Napoleon gathers a massive army of over 400,000 to attack Russia in June of the year 1812. While Russia’s troops are not as numerous as France’s, Russia has a plan. Russian troops keep retreating as Napoleon’s troops move forward, burning everything they pass, ensuring that the French forces could not take anything from their environment. Eventually the French army follows the Russian army all the way to Moscow during October, suffering major losses from lack of food. By the time Napoleon gets to Moscow, he knows he has to retreat. As winter settles into Europe and the temperature drops, Napoleon’s troops suffer even more losses, returning to France from lack of food, disease, and weather conditions.\n",
    "\n",
    "<br />\n",
    "<center>\n",
    "<img src=\"minard.gif\" width=800 />Minard's Visualization Of Napoleon's 1812 March\n",
    "</center>\n",
    "\n",
    "Minard’s graphic is quite clever because of its ability to combine all of dimensions: loss of life at a time and location, temperature, geography, historical context, into one single graphic. He shows these various details without distracting text or labels as well. He is able to show the drastic loss in life from Napoleon’s decision in just a single corner of the diagram.\n",
    "\n",
    "The year is 2019, far far away from Russia and far into the future, in a land called **Harvard**, CSCI E-7 should not suffer the same fate. Initially I was planning on digging deeper into ontologies to show you how you can capture knowledge and then run queries on the capture in order to make deductions. Then, venture into molecular dynamics and visualization. But based on class feedback, we're going to regroup and not follow the french into history. Instead, we're going to regroup and prepare for the battle of all battles: **your final exam**, about which I want you to *look forward with anticipation* rather than bracing for impact.\n",
    "\n",
    "So we're going to spend next lectures in review mode. We're going to go back to our material using different examples drawn from life sciences, and ensure you *completely* understand what we covered. My hope is that with all of this python you've been doing:\n",
    "\n",
    "<br />\n",
    "<center>\n",
    "<img src=\"waxonwaxoff.gif\" width=600 />\n",
    "</center>\n",
    "\n",
    "At the end, I hope you'll be able to:\n",
    "\n",
    "<br />\n",
    "<center>\n",
    "<img src=\"kick.gif\" width=600 />\n",
    "***knock the final out of the ballpark!***\n",
    "</center>\n",
    "\n",
    "There was strategy in your last homework. TAs are telling me that frequently you would take random guesses at python code for your solutions. That means to me that you are unsure about your **reasoning**. That is why from now on I want you to provide **pseudo-code** for your solutions, *followed* by your **code**. We'll train on this. Here's an example:\n"
   ]
  },
  {
   "cell_type": "markdown",
   "metadata": {},
   "source": [
    "# From pseudo-code to code\n",
    "\n",
    "### Question: \n",
    "What is 10,000th prime number?\n",
    "\n",
    "### pseudo-code:\n",
    "\n",
    "- A number is a prime number if it can only be divisible by 1 and itself\n",
    "- Write an outer loop that considers a range of numbers as candiate prime numbers\n",
    "- In the inner loop, try dividing by each number up to the number itself, to see if it's prime\n",
    "- Write generator function that generates prime numbers\n",
    "- Print 10,000th prime number\n",
    "\n",
    "### code:\n",
    "```(python)\n",
    "primes = []\n",
    "for n in range(10000):\n",
    "    for divisor in range(10000):\n",
    "        prime_p = n % divisor == 0\n",
    "        if (prime_p and divisor == n): primes.append(n)\n",
    "        if (not prime_p): break;\n",
    "print(primes)\n",
    "```"
   ]
  },
  {
   "cell_type": "code",
   "execution_count": null,
   "metadata": {},
   "outputs": [],
   "source": []
  },
  {
   "cell_type": "markdown",
   "metadata": {},
   "source": [
    "oopsie.."
   ]
  },
  {
   "cell_type": "code",
   "execution_count": null,
   "metadata": {},
   "outputs": [],
   "source": [
    "primes = []\n",
    "for n in range(10000):\n",
    "    for divisor in range(1, 10000):\n",
    "        prime_p = n % divisor == 0\n",
    "        if (prime_p and divisor == n): primes.append(n)\n",
    "        if (not prime_p): break;\n",
    "print(primes)"
   ]
  },
  {
   "cell_type": "markdown",
   "metadata": {},
   "source": [
    "oopsie.."
   ]
  },
  {
   "cell_type": "code",
   "execution_count": null,
   "metadata": {},
   "outputs": [],
   "source": [
    "primes = []\n",
    "for n in range(3,4):\n",
    "    print(\"outer loop\", n)\n",
    "    for divisor in range(2, 10000):\n",
    "        prime_p = n % divisor\n",
    "        print(\"inner loop\", divisor, prime_p)\n",
    "        if (prime_p == 0 and divisor == n): primes.append(n)\n",
    "        if (prime_p == 0): break;\n",
    "print(primes)"
   ]
  },
  {
   "cell_type": "markdown",
   "metadata": {},
   "source": [
    "works!"
   ]
  },
  {
   "cell_type": "code",
   "execution_count": null,
   "metadata": {},
   "outputs": [],
   "source": [
    "primes = []\n",
    "for n in range(3,20):\n",
    "    print(\"outer loop\", n)\n",
    "    for divisor in range(2, 10000):\n",
    "        prime_p = n % divisor\n",
    "        print(\"inner loop\", divisor, prime_p)\n",
    "        if (prime_p == 0 and divisor == n): primes.append(n)\n",
    "        if (prime_p == 0): break;\n",
    "print(primes)"
   ]
  },
  {
   "cell_type": "code",
   "execution_count": null,
   "metadata": {},
   "outputs": [],
   "source": [
    "primes = []\n",
    "for n in range(3,10000):\n",
    "    #print(\"outer loop\", n)\n",
    "    for divisor in range(2, 10000):\n",
    "        prime_p = n % divisor\n",
    "        #print(\"inner loop\", divisor, prime_p)\n",
    "        if (prime_p == 0 and divisor == n): primes.append(n)\n",
    "        if (prime_p == 0): break;\n",
    "print(primes)"
   ]
  },
  {
   "cell_type": "markdown",
   "metadata": {},
   "source": [
    "oh yes baby!"
   ]
  },
  {
   "cell_type": "code",
   "execution_count": null,
   "metadata": {},
   "outputs": [],
   "source": [
    "def primes(m):\n",
    "    primes = []\n",
    "    for n in range(1,m):\n",
    "        #print(\"outer loop\", n)\n",
    "        for divisor in range(2, m):\n",
    "            prime_p = n % divisor\n",
    "            #print(\"inner loop\", divisor, prime_p)\n",
    "            if (prime_p == 0 and divisor == n): primes.append(n)\n",
    "            if (prime_p == 0): break;\n",
    "    return primes\n",
    "\n",
    "primes(10000)"
   ]
  },
  {
   "cell_type": "markdown",
   "metadata": {},
   "source": [
    "right on! Now, let's write a **generator** (or co-routine):"
   ]
  },
  {
   "cell_type": "code",
   "execution_count": null,
   "metadata": {},
   "outputs": [],
   "source": [
    "def primes():\n",
    "    n = 0\n",
    "    while (n < 20):\n",
    "        print(\"outer loop\", n)\n",
    "        n += 1\n",
    "        for divisor in range(2, n + 1):\n",
    "            prime_p = n % divisor\n",
    "            print(\"inner loop\", divisor, prime_p)\n",
    "            if (prime_p == 0 and divisor == n):\n",
    "                print('yielding', n)\n",
    "                yield n\n",
    "            if (prime_p == 0): break;\n",
    "\n",
    "prime = primes()\n",
    "print(next(prime))\n",
    "print(next(prime))\n",
    "print(next(prime))"
   ]
  },
  {
   "cell_type": "code",
   "execution_count": null,
   "metadata": {},
   "outputs": [],
   "source": [
    "def primes():\n",
    "    n = 0\n",
    "    while (True):\n",
    "        #print(\"outer loop\", n)\n",
    "        n += 1\n",
    "        for divisor in range(2, n + 1):\n",
    "            prime_p = n % divisor\n",
    "            #print(\"inner loop\", divisor, prime_p)\n",
    "            if (prime_p == 0 and divisor == n):\n",
    "                #print('yielding', n)\n",
    "                yield n\n",
    "            if (prime_p == 0): break;\n",
    "\n",
    "allprimes = primes()\n",
    "i = 0\n",
    "for p in allprimes:\n",
    "    print(p)\n",
    "    i += 1\n",
    "    if (i ==20): break"
   ]
  },
  {
   "cell_type": "code",
   "execution_count": null,
   "metadata": {},
   "outputs": [],
   "source": [
    "allprimes = primes()\n",
    "for i, item in enumerate(allprimes):\n",
    "    print (item)\n",
    "    if (i == 20): break"
   ]
  },
  {
   "cell_type": "markdown",
   "metadata": {},
   "source": [
    "10,000th prime number:"
   ]
  },
  {
   "cell_type": "code",
   "execution_count": null,
   "metadata": {},
   "outputs": [],
   "source": []
  },
  {
   "cell_type": "markdown",
   "metadata": {},
   "source": [
    "# Python Lists"
   ]
  },
  {
   "cell_type": "code",
   "execution_count": null,
   "metadata": {},
   "outputs": [],
   "source": [
    "mylist = list()\n",
    "mylist.append(\"foo\")\n",
    "mylist.append(1)\n",
    "mylist.append(\"foo\")\n",
    "mylist"
   ]
  },
  {
   "cell_type": "markdown",
   "metadata": {},
   "source": [
    "# Python Sets"
   ]
  },
  {
   "cell_type": "code",
   "execution_count": null,
   "metadata": {},
   "outputs": [],
   "source": [
    "myset = set()\n",
    "myset.add(\"foo\")\n",
    "myset.add(1)\n",
    "myset.add(\"foo\")\n",
    "myset"
   ]
  },
  {
   "cell_type": "markdown",
   "metadata": {},
   "source": [
    "# Python List comprehensions\n",
    "\n",
    "A list comprehension is a transformations on lists and a list itself. Rewrite `primes()` function with list comprehensions:"
   ]
  },
  {
   "cell_type": "code",
   "execution_count": null,
   "metadata": {},
   "outputs": [],
   "source": [
    "[n for n in range(1,10) if len([d for d in range(1, n+1) if n % d == 0]) in (1,2)]"
   ]
  },
  {
   "cell_type": "code",
   "execution_count": null,
   "metadata": {},
   "outputs": [],
   "source": [
    "def primes(m):\n",
    "    return [n for n in range(1,m) if len([d for d in range(1, n+1) if n % d == 0]) in (1,2)]\n",
    "\n",
    "primes(20)"
   ]
  },
  {
   "cell_type": "markdown",
   "metadata": {},
   "source": [
    "# Python dictionaries & probabilities\n",
    "\n",
    "We used **probabilities** as our setting for learning about **dictionaries**: A python `set` structure whose elements consist of key-value `pairs`. The key is an **event**, its value is its inherent **probability**.\n",
    "\n",
    "Pretty awesome because probabilities are everywhere in life sciences, and dictionaries, expecially expressed as list comprehensions, is the secret sauce of python."
   ]
  },
  {
   "cell_type": "code",
   "execution_count": 64,
   "metadata": {},
   "outputs": [],
   "source": [
    "def p(event, space): \n",
    "    #return len(event & space) / len(space)\n",
    "    return len(event) / len(space)"
   ]
  },
  {
   "cell_type": "code",
   "execution_count": null,
   "metadata": {},
   "outputs": [],
   "source": [
    "dice = {1,2,3,4,5,6}\n",
    "even = {2,4,6}\n",
    "p(even, dice)"
   ]
  },
  {
   "cell_type": "markdown",
   "metadata": {},
   "source": [
    "Now, what if i want to work with `functions` instead of `numbers`?"
   ]
  },
  {
   "cell_type": "code",
   "execution_count": 67,
   "metadata": {},
   "outputs": [],
   "source": [
    "def even_p(n): return n % 2 == 0"
   ]
  },
  {
   "cell_type": "markdown",
   "metadata": {},
   "source": [
    "I need to apply this **function** to **all** possible elements, in order to generate a **collection**!"
   ]
  },
  {
   "cell_type": "code",
   "execution_count": 81,
   "metadata": {},
   "outputs": [],
   "source": [
    "def p(event, space): \n",
    "    if (callable(event)):\n",
    "        events = [n for n in space if event(n)]\n",
    "        return len(events) / len(space)\n",
    "    else:\n",
    "        return len(event) / len(space)"
   ]
  },
  {
   "cell_type": "code",
   "execution_count": null,
   "metadata": {},
   "outputs": [],
   "source": [
    "p(even_p, dice)"
   ]
  },
  {
   "cell_type": "markdown",
   "metadata": {},
   "source": [
    "Isn't the above the same as this below, where here we are using features of the python language that allows us to change object types at will: *sometimes* `event` is a **collection**, *sometimes* it's a **function**. But in either case, we *always* convert it to a collection since we need to apply `len()` to it! The `if` branch of the function below takes care of this conversion!"
   ]
  },
  {
   "cell_type": "code",
   "execution_count": null,
   "metadata": {},
   "outputs": [],
   "source": [
    "def p(event, space): \n",
    "    if (callable(event)):\n",
    "        event = [n for n in space if event(n)]\n",
    "    return len(event) / len(space)"
   ]
  },
  {
   "cell_type": "markdown",
   "metadata": {},
   "source": [
    "Now, what if our universe of all possibilities (what we called `space`) is *not* equiprobable?\n",
    "\n",
    "<br />\n",
    "<center>\n",
    "<img src=\"poker.jpg\" width=400 />\n",
    "</center>"
   ]
  },
  {
   "cell_type": "markdown",
   "metadata": {},
   "source": [
    "Then we need to define a probability for *each* possible event, since each probability is *different*! How do we do this? We define a set such that each element is a **key-value pair**, where the key is the **event** and the value is its **probability**!"
   ]
  },
  {
   "cell_type": "code",
   "execution_count": 96,
   "metadata": {},
   "outputs": [],
   "source": [
    "Prob_Dist_MMs_94 = dict(brown = 30, yellow = 20, red = 20, green = 10, orange = 10, tan = 10)\n",
    "Prob_Dist_MMs_96 = dict(blue = 24, green = 20, orange = 16, yellow = 14, red = 13, brown = 13)"
   ]
  },
  {
   "cell_type": "markdown",
   "metadata": {},
   "source": [
    "Let's take a random sample from each:"
   ]
  },
  {
   "cell_type": "code",
   "execution_count": null,
   "metadata": {},
   "outputs": [],
   "source": [
    "import random\n",
    "random.sample(list(Prob_Dist_MMs_94), 3)"
   ]
  },
  {
   "cell_type": "markdown",
   "metadata": {},
   "source": [
    "If we want to work with *probabilitie* instead of *counts*, we need *fractional* numbers. Let's do this by creating a new python **class**, leveraging its constructor to do the *legwork*."
   ]
  },
  {
   "cell_type": "code",
   "execution_count": null,
   "metadata": {},
   "outputs": [],
   "source": [
    "class ProbDist(dict):\n",
    "    '''Make probabilities sum to 1.0; assert no negative probabilities'''\n",
    "    def __init__(self, mapping=(), **kwargs):\n",
    "        self.update(mapping, **kwargs)  \n",
    "        print('keys are: ', self.keys())\n",
    "        print('values are: ', self.values())\n",
    "        total = sum(self.values())\n",
    "        for outcome in self:\n",
    "            self[outcome] = self[outcome] / total\n",
    "            assert self[outcome] >= 0\n",
    "            \n",
    "bag94 = ProbDist(Prob_Dist_MMs_94)\n",
    "\n",
    "import random\n",
    "random.sample(list(bag94), 3)"
   ]
  },
  {
   "cell_type": "markdown",
   "metadata": {},
   "source": [
    "#### ------------------ Language parenthesis:\n",
    "\n",
    "Note that `self` in python refers to the class itself.\n",
    "\n",
    "Note that the advantage of `self.update(mapping, **kwargs)` is that there's less code overall. For example I don't need to initialize a `self.mydict` member. The disadvantage is that the data members of the class are less obvious.\n",
    "\n",
    "For example, if i have a class `Shape` that takes two named arguments `length` and `width`, and a class `Circle` that inherits from `Shape` and needs an additional named argument `radius`. This is how to set up the classes:"
   ]
  },
  {
   "cell_type": "code",
   "execution_count": 122,
   "metadata": {},
   "outputs": [],
   "source": [
    "class Shape(object):\n",
    "    def __init__(self, **kwargs):\n",
    "        self.length = kwargs['length']\n",
    "        self.width = kwargs['width']\n",
    "\n",
    "class Circle(Shape):\n",
    "    def __init__(self, **kwargs):\n",
    "        super(Circle, self).__init__(**kwargs)\n",
    "        self.radius = kwargs['radius']"
   ]
  },
  {
   "cell_type": "markdown",
   "metadata": {},
   "source": [
    "Then I can do this:"
   ]
  },
  {
   "cell_type": "code",
   "execution_count": null,
   "metadata": {},
   "outputs": [],
   "source": [
    "c = Circle(length = 3, width = 4, radius = 5)\n",
    "c.radius"
   ]
  },
  {
   "cell_type": "markdown",
   "metadata": {},
   "source": [
    "But if i want to be *lazy*, I can also do this:"
   ]
  },
  {
   "cell_type": "code",
   "execution_count": 125,
   "metadata": {},
   "outputs": [],
   "source": [
    "class Shape(object):\n",
    "    def __init__(self, **kwargs):\n",
    "        self.__dict__.update(**kwargs)\n",
    "\n",
    "class Circle(Shape):\n",
    "    def __init__(self, **kwargs):\n",
    "        super(Circle, self).__init__(**kwargs)"
   ]
  },
  {
   "cell_type": "code",
   "execution_count": null,
   "metadata": {},
   "outputs": [],
   "source": [
    "c = Circle(length = 3, width = 4, radius = 5)\n",
    "c.radius"
   ]
  },
  {
   "cell_type": "markdown",
   "metadata": {},
   "source": [
    "Pythonically, the correct choice is something in-between:"
   ]
  },
  {
   "cell_type": "code",
   "execution_count": null,
   "metadata": {},
   "outputs": [],
   "source": [
    "class Shape(object):\n",
    "    def __init__(self, width = None, length = None):\n",
    "        self.width = width \n",
    "        self.length = length\n",
    "\n",
    "class Circle(Shape):\n",
    "    def __init__(self, radius = None, **kwargs):\n",
    "        super(Circle, self).__init__(**kwargs)\n",
    "        self.radius = radius"
   ]
  },
  {
   "cell_type": "markdown",
   "metadata": {},
   "source": [
    "If you have *a lot* of arguments to set, you can also do this:"
   ]
  },
  {
   "cell_type": "code",
   "execution_count": null,
   "metadata": {},
   "outputs": [],
   "source": [
    "def __init__(self, **kwargs):\n",
    "    for key, value in kwargs.iteritems():\n",
    "        setattr(self, key, value)"
   ]
  },
  {
   "cell_type": "markdown",
   "metadata": {},
   "source": [
    "All right, done with the language parenthesis.\n",
    "#### ----------------------------\n",
    "\n",
    "Now, how does our `p` function change if I pass a **dictionary** instead of a collection in order to count a fraction?\n",
    "\n",
    "I cannot use `len` anymore! I **have to** iterate over the collection in the *furst* argument, and sum up the probabilities from the probability distribution that is the *second* argument:\n",
    "```(python)\n",
    "if isinstance(space, ProbDist):\n",
    "    return sum(space[o] for o in event)\n",
    "```\n",
    "\n",
    "and if I want to make sure to *only count* those events in `event`that **are** in `space`:\n",
    "```(python)\n",
    "if isinstance(space, ProbDist):\n",
    "    return sum(space[o] for o in space if o in event)\n",
    "```\n",
    "\n",
    "And so:"
   ]
  },
  {
   "cell_type": "code",
   "execution_count": 195,
   "metadata": {},
   "outputs": [],
   "source": [
    "# Note `event` can be a collection or a logical predicate\n",
    "# Note `space` can be a collection or a probbility distribution\n",
    "def p(event, space): \n",
    "    \n",
    "    if callable(event) and isinstance(space, ProbDist):\n",
    "        event = ProbDist({o:space[o] for o in space if event(o)})\n",
    "        return sum(space[o] for o in space if o in event)\n",
    "        \n",
    "    if callable(event) and not isinstance(space, ProbDist):\n",
    "        event = {o for o in space if event(o)}\n",
    "        return len(event & space) / len(space)\n",
    "        \n",
    "    if not callable(event) and isinstance(space, ProbDist):\n",
    "        return sum(space[o] for o in space if o in event)\n",
    "    \n",
    "    if not callable(event) and not isinstance(space, ProbDist):\n",
    "        return len(event & space) / len(space)"
   ]
  },
  {
   "cell_type": "markdown",
   "metadata": {},
   "source": [
    "Let's apply this to a problem:"
   ]
  },
  {
   "cell_type": "code",
   "execution_count": null,
   "metadata": {},
   "outputs": [],
   "source": [
    "bag94"
   ]
  },
  {
   "cell_type": "code",
   "execution_count": null,
   "metadata": {},
   "outputs": [],
   "source": [
    "bag96 = ProbDist(Prob_Dist_MMs_96)\n",
    "bag96"
   ]
  },
  {
   "cell_type": "markdown",
   "metadata": {},
   "source": [
    "Now let's pick one M from bag94, and then other M from bag96. So we are dealing with **joint distributions**. S0 we need to define an additional function, whihc takes the **key** from the first distribution and the **key** from the second distribution and creates a **joint key**, and the probability from the **value** associated with the first key multiplied by the **value** associated to the second key.\n",
    "\n",
    "Why **multiplied**? Because if the probability of getting a `heads` in a coin on the right hand is $0.5$, and the probability of getting another `heads` from a coin on the left hand is $0.5$ again, the the probabililTY of getting **two** `heads` in total, one in each hand, is $0.25$.\n",
    "\n",
    "Notice how we create a new `ProbDist` here below with the right **keys** and **values**."
   ]
  },
  {
   "cell_type": "code",
   "execution_count": null,
   "metadata": {},
   "outputs": [],
   "source": [
    "def joint(A, B, sep=''):\n",
    "    \"\"\"The joint distribution of two independent probability distributions. \n",
    "    Result is all entries of the form {a+sep+b: P(a)*P(b)}\"\"\"\n",
    "    return ProbDist({a + sep + b: A[a] * B[b]\n",
    "                    for a in A\n",
    "                    for b in B})"
   ]
  },
  {
   "cell_type": "markdown",
   "metadata": {},
   "source": [
    "so if we pick one M from bag94, and then other M from bag96, these are all possible outcomes, **and their probabilities**:"
   ]
  },
  {
   "cell_type": "code",
   "execution_count": null,
   "metadata": {},
   "outputs": [],
   "source": [
    "MM = joint(bag94, bag96, ' ')\n",
    "MM"
   ]
  },
  {
   "cell_type": "markdown",
   "metadata": {},
   "source": [
    "*Ugly*.. let's round out:"
   ]
  },
  {
   "cell_type": "code",
   "execution_count": 200,
   "metadata": {},
   "outputs": [],
   "source": [
    "def joint(A, B, sep=''):\n",
    "    \"\"\"The joint distribution of two independent probability distributions. \n",
    "    Result is all entries of the form {a+sep+b: P(a)*P(b)}\"\"\"\n",
    "    return ProbDist({a + sep + b: round(A[a] * B[b], 2)\n",
    "                    for a in A\n",
    "                    for b in B})\n",
    "\n",
    "class ProbDist(dict):\n",
    "    '''Make probabilities sum to 1.0; assert no negative probabilities'''\n",
    "    def __init__(self, mapping=(), **kwargs):\n",
    "        self.update(mapping, **kwargs)  \n",
    "        print('keys are: ', self.keys())\n",
    "        print('values are: ', self.values())\n",
    "        total = sum(self.values())\n",
    "        for outcome in self:\n",
    "            self[outcome] = round(self[outcome] / total, 2)\n",
    "            assert self[outcome] >= 0"
   ]
  },
  {
   "cell_type": "code",
   "execution_count": null,
   "metadata": {},
   "outputs": [],
   "source": [
    "MM = joint(bag94, bag96, ' ')\n",
    "MM"
   ]
  },
  {
   "cell_type": "markdown",
   "metadata": {},
   "source": [
    "How did we write this function in our previous lecture? Very similarly, **with commentary**:"
   ]
  },
  {
   "cell_type": "code",
   "execution_count": 214,
   "metadata": {},
   "outputs": [],
   "source": [
    "from fractions import Fraction\n",
    "def p2(event, space): \n",
    "    \"\"\"The probability of an event, given a sample space of equiprobable outcomes. \n",
    "    event: a collection of outcomes, or a predicate that is true of outcomes in the event. \n",
    "    space: a set of outcomes or a probability distribution of {outcome: frequency} pairs.\"\"\"\n",
    "    if is_predicate(event):\n",
    "        event = filtered(event, space)\n",
    "    if isinstance(space, ProbDist2):\n",
    "        return round(sum(space[o] for o in space if o in event), 2)\n",
    "    else:\n",
    "        return Fraction(len(event & space), len(space))\n",
    "    \n",
    "is_predicate = callable\n",
    "    \n",
    "# filters a space using a logical predicate\n",
    "def filtered(predicate, space): \n",
    "    \"\"\"The outcomes in the sample pace for which the predicate is true.\n",
    "    If space is a set, return a subset {outcome,...} with outcomes where predicate(element) is true;\n",
    "    if space is a ProbDist, return a ProbDist {outcome: frequency,...} with outcomes where predicate(element) is true.\"\"\"\n",
    "    if isinstance(space, ProbDist):\n",
    "        return ProbDist2({o:space[o] for o in space if predicate(o)})\n",
    "    else:\n",
    "        return {o for o in space if predicate(o)}\n",
    "    \n",
    "class ProbDist2(dict):\n",
    "    '''Make probabilities sum to 1.0; assert no negative probabilities'''\n",
    "    def __init__(self, mapping=(), **kwargs):\n",
    "        self.update(mapping, **kwargs)  \n",
    "        total = sum(self.values())\n",
    "        for outcome in self:\n",
    "            self[outcome] = self[outcome] / total\n",
    "            assert self[outcome] >= 0"
   ]
  },
  {
   "cell_type": "markdown",
   "metadata": {},
   "source": [
    "Now, let's solve this:\n",
    "\n",
    "*A friend has two bags of M&Ms, and he tells me that one is from 1994 and one from 1996.  He won't tell me which is which, but he gives me one M&M from each bag. One is yellow and one is green.  What is the probability that the yellow M&M came from the 1994 bag? Well, the old M&M bags' yellow count was higher, so it must be higher, right?*"
   ]
  },
  {
   "cell_type": "markdown",
   "metadata": {},
   "source": [
    "### pseudo-code:\n",
    "- Get the probability distribution for each bag, bag94, and bag96\n",
    "- Define a predicate for ending up with a yellow and a green M&M in our hand\n",
    "- Assume the first M&M comes from the '94 bag, the second from the '96 bag\n",
    "- Define another predicate for the yellow M&M coming from the '94 bag, and another for the yellow M&M coming from the 96 bag\n",
    "- Define another predicate for the green M&M coming from the '94 bag, and another for the green M&M coming from the 96 bag"
   ]
  },
  {
   "cell_type": "code",
   "execution_count": 202,
   "metadata": {},
   "outputs": [],
   "source": [
    "def yellow_and_green(outcome): return 'yellow' in outcome and 'green' in outcome\n",
    "def yellow94(outcome): return outcome.startswith('yellow')\n",
    "def yellow96(outcome): return outcome.endswith('yellow')\n",
    "def green94(outcome): return outcome.startswith('green')\n",
    "def green96(outcome): return outcome.endswith('green')"
   ]
  },
  {
   "cell_type": "markdown",
   "metadata": {},
   "source": [
    "Now let's compute our probabilities:"
   ]
  },
  {
   "cell_type": "code",
   "execution_count": null,
   "metadata": {},
   "outputs": [],
   "source": [
    "new_space = ProbDist({o:MM[o] for o in MM if yellow_and_green(o)})\n",
    "new_space"
   ]
  },
  {
   "cell_type": "code",
   "execution_count": null,
   "metadata": {},
   "outputs": [],
   "source": [
    "p(yellow94, new_space)"
   ]
  },
  {
   "cell_type": "code",
   "execution_count": null,
   "metadata": {},
   "outputs": [],
   "source": [
    "p(yellow96, new_space)"
   ]
  },
  {
   "cell_type": "markdown",
   "metadata": {},
   "source": [
    "Using the `filtered()` function above, we can simply write:"
   ]
  },
  {
   "cell_type": "code",
   "execution_count": null,
   "metadata": {},
   "outputs": [],
   "source": [
    "p2(yellow96, filtered(yellow_and_green, MM))"
   ]
  },
  {
   "cell_type": "markdown",
   "metadata": {},
   "source": [
    "# Application: How does the leopard get its spots?\n",
    "\n",
    "In 1952, the British computer scientist Alan Turing published a paper describing a\n",
    "mathematical model that attempted to answer the question: *How does the leopard get its spots*? Turing is well-known for his work in breaking the code behind Germany’s Enigma machine during World War II.\n",
    "\n",
    "Turing wondered if a simple chemical mechanism that operated at the level of individual cells, could\n",
    "produce the global multicellular patterns observed in animals such as the intricate coat patterns of\n",
    "leopards and the stripes of zebras.\n",
    "\n",
    "Turing first imagined a single differentiated cell that secreted just two chemicals, or **morphogens** that would diffuse into the neighborhood of that cell:\n",
    "\n",
    "1. a short-range activator that diffused away from the source cell, but be eliminated very\n",
    "quickly (due to decay), so that there would be a high concentration of the activator very close\n",
    "to the cell, but much less further away\n",
    "\n",
    "2. a long-range inhibitor that would also diffuse from the source cell, but would be eliminated\n",
    "much more slowly, so that the concentration would be lower than the activator near the source\n",
    "cell, but would remain present much further away from the cell\n",
    "\n",
    "<br />\n",
    "<center>\n",
    "<img src=\"morphogens.png\" width=600 />\n",
    "</center>\n",
    "\n",
    "He further imagined that the relative amounts of the activating and inhibiting morphogens would\n",
    "determine whether neighboring cells would, in turn, differentiate and initiate their own secretion of\n",
    "the two morphogens (this is the reason that they are called activator and inhibitor in the first place).\n",
    "The interplay of the chemical diffusion process in two dimensions produced patterns that were\n",
    "strikingly similar to animal coats. Turing deployed some heavy-duty partial differential equations to\n",
    "model this process, but luckily for us, there is a much simpler and more generative approach that\n",
    "captures the essential dynamics that Turing described: that is the **cellular automata**.\n",
    "\n",
    "In fact, [Stephen Wolfram](https://www.stephenwolfram.com/) of **Mathematica** fame has attempted, in his book [A New Kind of Science](https://www.amazon.com/s?k=stephen+wolfram+a+new+kind+of+science&i=stripbooks&hvadid=77859219980119&hvbmt=be&hvdev=c&hvqmt=e&tag=mh0b-20&ref=pd_sl_5404uxb31_e), to describe *all* natural phenomena as resulting from some category of cellular automaton.\n",
    "\n",
    "A cellular automaton (or CA) is a two-dimensional lattice of objects, normally known as **cells**, which\n",
    "have a state that is affected by its neighbouring cells through a series of **update rules**. At each timestep of the simulation, every cell in the CA consults its immediate neighbors and updates its state as a function of the state of\n",
    "those neighbours. These update rules form the heart of a classic implementation of Turing’s diffusion\n",
    "scheme. \n",
    "\n",
    "These 2D cells are nothing more than an Excel spreadsheet, or, as we studied this in class: a **matrix**.\n",
    "\n",
    "We will use James D. Murray's implementation of this algorithm (see reference in the **Reference** section below).\n",
    "\n",
    "We start with defining the **probability** that any given cell in the two-dimensional (2D) array is black\n",
    "(that is, **differentiated**) with `probability_of_black`. To keep with the leopard theme, we\n",
    "imagine all non-black cells (i.e. undifferentiated cells) as being orange. \n",
    "\n",
    "We also create two 2D cellular automata:\n",
    "1. CA is the current cellular automata state: when we run the model, we will *read* from this array\n",
    "of cells when doing updates\n",
    "2. next_CA is the state of the cellular automata at the **next** timestep, during the updates we will\n",
    "*write* to this cellular automaton\n",
    "\n",
    "Updates done in this way are sometimes referred to as **synchronous** because every cell CA is updated\n",
    "at a single time. We use a `NumPy` library feature, `zeros()`, to create the CA matrices. `zeros()`\n",
    "creates empty matrices with the dimensions specified in the list [height, width].\n",
    "\n",
    "We also define the **radius** of the activator: This corresponds to the maximum distance away that the\n",
    "activating chemical will diffuse, by default set it to 1 so only the nearest 9 neighbors cells are\n",
    "considered, and the **weight** of this activating chemical. \n",
    "\n",
    "Then we define the **maximum inhibitor radius**\n",
    "(note that this takes into account all cells that are within a 5x5 grid from the currently activated) and\n",
    "the **weight** of the inhibitor (we set to be negative so it is clear down from the activator). \n",
    "\n",
    "Lastly, we set the time to zero."
   ]
  },
  {
   "cell_type": "code",
   "execution_count": 1,
   "metadata": {},
   "outputs": [],
   "source": [
    "# parameters:\n",
    "import numpy as np\n",
    "probability_of_black = 0.5\n",
    "width = 100\n",
    "height = 100\n",
    "\n",
    "# initialize cellular automata (CA)\n",
    "CA = np.zeros([height, width]) # main CA\n",
    "next_CA = np.zeros([height, width]) # CA next timestep\n",
    "activator_radius = 1\n",
    "activator_weight = 1\n",
    "inhibitor_radius = 5\n",
    "inhibitor_weight = -0.1\n",
    "time = 0 "
   ]
  },
  {
   "cell_type": "markdown",
   "metadata": {},
   "source": [
    "We next initialize the CA by looping through the dimensions and then assigning each cell to be\n",
    "randomly **differentiated** or **undifferentiated** using the `random()` function.\n",
    "\n",
    "By convention, we consider all cells with a state of 1 as black (differentiated) and cells state with\n",
    "state 0 as orange (undifferentiated)."
   ]
  },
  {
   "cell_type": "code",
   "execution_count": 2,
   "metadata": {},
   "outputs": [],
   "source": [
    "from numpy.random import random, seed\n",
    "\n",
    "# initialize the CA\n",
    "for x in range(width):\n",
    "    for y in range(height):\n",
    "        if random() < probability_of_black:\n",
    "            cell_state = 1\n",
    "        else:\n",
    "            cell_state = 0\n",
    "        CA[y, x] = cell_state "
   ]
  },
  {
   "cell_type": "markdown",
   "metadata": {},
   "source": [
    "With everything set up now, we are ready to dive into the biology and start simulating development. \n",
    "\n",
    "The basic idea is that we loop\n",
    "through every cell in the lattice of the automata as we did above and decide whether each cell will\n",
    "differentiate or dedifferentiate. Let’s write the pseudo-code:"
   ]
  },
  {
   "cell_type": "markdown",
   "metadata": {},
   "source": [
    "- Loop through the x and y coordinates of the cellular automaton lattice and retrieve the **current cell_state** at x and y.\n",
    "\n",
    "- **Inhibition loop**: The first loop examines all the cells within a radius of inhibition_radius of the current cell. This loop counts the cells that appear black - i.e. those cells that currently have the chemical inhibitor close enough to the current cell to affect it. The more cells that are black within that neighborhood, the more inhibition will affect the current cell, tending to switch it **off** to the orange state. \n",
    "\n",
    "Let’s highlight the cells that can potentially contribute to inhibition by a pink overlay for the case when inhibition_radius is 1.\n",
    "\n",
    "<br />\n",
    "<center>\n",
    "<img src=\"inhibitionradius.png\" width=400 />\n",
    "</center>\n",
    "\n",
    "In this this particular example there **two** cells that will affect the state of the current cell, and thus\n",
    "inhibiting_cells will be set to 2 at this timestep.\n",
    "\n",
    "- Activator loop: Examine all the cells within a radius of activator_radius of the current cell, shown below in light blue: Again, the more cells that are black within that neighborhood, the more the activating chemical will affect the current cell, but in contrast to the previous case, it will tend to switch the cell **on**, and thus become black. In the above\n",
    "case we have six cells, and therefore activating_cells = 6.\n",
    "\n",
    "<br />\n",
    "<center>\n",
    "<img src=\"activationradius.png\" width=400 />\n",
    "</center>\n",
    "\n",
    "- The **decision**: The last step after the two loops above is to make the decision as to whether cell should\n",
    "become orange or black. We do this by weighing the activated cells and adding it\n",
    "to the weighted sum of of the inhibiting cells. In our code example above, this sum is:\n",
    "(6 x 1) + (-0.1 x 2) = 6 - 0.2 = 5.8\n",
    "\n",
    "Because this sum is **positive** in this example, there is enough activator to cause the cell to\n",
    "become black, and thus set cell_state to 1. If this sum were negative, it would be set to 0.\n",
    "\n",
    "Biologically this implements the *main feature of Turing’s morphogenesis model* that if there is, on\n",
    "balance, more activating than inhibiting chemicals in the neighbourhood, then the cell will\n",
    "differentiate, or dedifferentiate if not.\n",
    "\n",
    "- Now, write the output to the appropriate location in the next_CA cellular automata. This is a critical: we can’t write to the original CA lattice **until every cell has been updated**, otherwise we have what computer scientists like to call a\n",
    "**race condition**\n",
    " \n",
    "- Returning the new CA: *Once every cell has has been updated* and we have our freshly written\n",
    "next_CA, the last thing we wantto do is return this next_CA to the main\n",
    "program, and leave actual update to the next section. \n",
    "\n",
    "Do we feel good about our pseudo-code? Yes? Ok, then **on to the real code**!"
   ]
  },
  {
   "cell_type": "code",
   "execution_count": null,
   "metadata": {},
   "outputs": [],
   "source": [
    "print(3)"
   ]
  },
  {
   "cell_type": "code",
   "execution_count": 4,
   "metadata": {},
   "outputs": [],
   "source": [
    "def simulation_step(CA, next_CA):\n",
    "\n",
    "    for x in range(width):\n",
    "        for y in range(height):\n",
    "\n",
    "            cell_state = CA[y, x]  # get current state\n",
    "\n",
    "            activating_cells = 0\n",
    "            inhibiting_cells = 0\n",
    "\n",
    "            # count the number of inhibiting cells within the radius\n",
    "            for xpos in range(- inhibitor_radius, inhibitor_radius + 1):\n",
    "                for ypos in range(- inhibitor_radius, inhibitor_radius + 1):\n",
    "                    inhibiting_cells += CA[(y + ypos) % height, (x + xpos) % width]\n",
    "\n",
    "            # count the number of activating cells within the radius\n",
    "            for xpos in range(- activator_radius, activator_radius + 1):\n",
    "                for ypos in range(- activator_radius, activator_radius + 1):\n",
    "                    activating_cells += CA[(y + ypos) % height, (x + xpos) % width]\n",
    "\n",
    "            # if weighted sum of activating cells is greater than inhibiting cells in neighbourhood\n",
    "            # we induce differentiation in the current cell \n",
    "            if (activating_cells * activator_weight) + (inhibiting_cells * inhibitor_weight) > 0:\n",
    "                cell_state = 1\n",
    "            else:\n",
    "                cell_state = 0\n",
    "\n",
    "            # now update the state\n",
    "            next_CA[y, x] = cell_state\n",
    "\n",
    "    return next_CA"
   ]
  },
  {
   "cell_type": "markdown",
   "metadata": {},
   "source": [
    "Now we are ready to plot the output of our simulation and run some morphogenesis!"
   ]
  },
  {
   "cell_type": "code",
   "execution_count": null,
   "metadata": {},
   "outputs": [],
   "source": [
    "import matplotlib.pyplot as plt\n",
    "%matplotlib inline\n",
    "#seed()\n",
    "\n",
    "# create plot\n",
    "fig1 = plt.figure()\n",
    "\n",
    "# loop through times\n",
    "for time in range(5):\n",
    "    plt.pcolor(CA, vmin = 0, vmax = 1, cmap = \"copper_r\")  # plot current CA\n",
    "    plt.axis('image')\n",
    "    plt.title('time: ' + str(time))\n",
    "    plt.draw()\n",
    "    plt.pause(0.5)\n",
    "\n",
    "    CA = simulation_step(CA, next_CA)  # advance the simulation"
   ]
  },
  {
   "cell_type": "markdown",
   "metadata": {},
   "source": [
    "7 Years ago, in 2012, exactly 60 years after Turing, a research team published a paper (Müller, 2012)\n",
    "that experimentally verified Turing’s mechanism in **zebrafish embryo**. They were able to identify 344\n",
    "and quantify **two morphogens** in the generation of embryonic patterns in the zebrafish that\n",
    "corresponded to Turing’s proposed mechanism, and measure the rate constants that mapped back to\n",
    "the original equations. \n",
    "\n",
    "They also built a model (more complex than ours) that simulated patterns found in the experimental organism, closing the loop between theoretical prediction and experimental verification. Even simple models implemented in just a few lines of Python can be powerful tools for building intuitions into fundamental processes in developmental biology. Computational\n",
    "developmental biology is a very active area of research.\n"
   ]
  },
  {
   "cell_type": "markdown",
   "metadata": {},
   "source": [
    "# Homework: Probabilities that two Leopards will mate\n",
    "\n",
    "Let's assume that **spots** are a huge **sexy factor** in how leopards pick their mates. For mating to occur, leopard $A$ needs to be attracted to leopard $B$, **and vice-versa**. Specifically, they need to have equal probability distributions in some characteristics of their spots.\n",
    "\n",
    "<br />\n",
    "<center>\n",
    "<img src=\"kardashian.jpg\" width=300 />\n",
    "</center>\n",
    "\n",
    "If we assume leopards are **wicked picky** (they *really* need to *like* another leopard to mate), in fact, so picky that the **parity** (even or odd) of the number of differentiated (black) cells in every possible inhibition area cannot differ by more than 10% between potential leopard couples, what is the probability that any two leopards will mate?\n",
    "\n",
    "If you assume that **on top of parity of differentiated cells within inhibition neighborhoods**, some leopards dig **horizontal/vertical** features over **diagonal** features and will turn down contrasting mates, what is the mating probability for those ultra-picky leopards?"
   ]
  },
  {
   "cell_type": "markdown",
   "metadata": {},
   "source": [
    "\n",
    "# References\n",
    "\n",
    "- James D. Murray (1988) How the leopard gets its spots . Scientific American, 258, 80–87. 345\n",
    "-  Turing (1952) The chemical basis of morphogenesis . Philosophical Transactions of the 346\n",
    "Royal Society of London B: Biological Sciences, 237, 37–72.\n",
    "- Forgacs and Newman Biological physics of the developing embryo (Cambridge University 347\n",
    "Press, 2005).\n",
    "- Müller et al. (2012) Differential Diffusivity of Nodal and Lefty Underlies a ReactionDiffusion Patterning System . Science, 336, 721–724. "
   ]
  },
  {
   "cell_type": "markdown",
   "metadata": {},
   "source": [
    "<div style=\"text-align: right\">*This material is **not** on the syllabus, here only purely for your enjoyment*</div>\n",
    "\n",
    "# John Conway's Game of Life\n",
    "\n",
    "The cellular automata game *Life*, invented by the mathematician [John Conway](https://en.wikipedia.org/wiki/John_Horton_Conway), makes a fun programming exercise.  Let's review the [rules](http://en.wikipedia.org/wiki/Conway%27s_Game_of_Life):\n",
    "\n",
    "The *world* of the Game of Life is an infinite two-dimensional orthogonal grid of *cells*, each of which is in one of two possible states, *live* or *empty*. Each cell has eight *neighbors*, the cells that are horizontally, vertically, or diagonally adjacent. At each step in time, the following rules are applied to create the next *generation*:\n",
    "\n",
    "+ Any live cell with two or three live neighbors lives on to the next generation.\n",
    "+ Any empty cell with exactly three live neighbors becomes a live cell in the next generation.\n",
    "+ All other cells are empty in the next generation.\n",
    "\n",
    "For example, in the diagram below, \"`@`\" cells are live. In the transition from Generation 0 to 1, the cell marked \"`,`\" becomes empty (dies off) because it has zero live neighbors.  In the next transition, a fourth `@` becomes live, because it has 3 live neighbors. All other cells stay the same. \n",
    "\n",
    "     . . . . .      . . . . .      . . . . .\n",
    "     . . . @ .      . . . , .      . . . . .\n",
    "     . @ . . .      . @ . . .      . @ @ . .\n",
    "     . @ @ . .      . @ @ . .      . @ @ . .\n",
    "     . . . . .      . . . . .      . . . . .\n",
    "       Gen 0          Gen 1          Gen 2\n",
    "     \n",
    "\n",
    "\n",
    "The world continues to evolve by these rules for as long as you care to observe. "
   ]
  },
  {
   "cell_type": "markdown",
   "metadata": {},
   "source": [
    "### pseudo-code\n",
    "\n",
    "To create a program to play Life, start with the vocabulary of concepts:\n",
    "\n",
    "+ **World**\n",
    "+ **Cell**\n",
    "+ **Live/Empty**\n",
    "+ **Neighbors**\n",
    "+ **Next Generation**\n",
    "+ **Display**\n",
    "+ **Live Neighbor Counts**\n",
    "\n",
    "and consider how to implement them:\n",
    "\n",
    "+ **World**: The state of the world must represent which cells are empty and which are live. The tricky part is that the number of cells is infinite, and we can't store an infinite array in a finite computer.  I can think of three ways to deal with this problem:\n",
    "  1. **Change the rules**; make the world finite instead of infinite. (Cells at the edge of the world have fewer neighbors, or perhaps they wrap around to the other side of the world.)\n",
    "  2. Use a **finite rectangular window** that covers all the live cells in the infinite grid. As the world\n",
    "  evolves, this window may have to grow or shift.\n",
    "<br>Example: `world = [[0, 0, 0, 0, 0], [0, 0, 0, 1, 0], [0, 1, 0, 0, 0], [0, 1, 1, 0, 0], [0, 0, 0, 0, 0]]` \n",
    "\n",
    "  3. Represent a world as a **set of live cells.**  This set will grow and shrink in size from one generation to the next, but we don't have to worry about overflowing the edges of an array.\n",
    "<br>Example: `world = {(3, 1), (1, 2), (1, 3), (2, 3)}` \n",
    "<br>I will go with this choice."
   ]
  },
  {
   "cell_type": "markdown",
   "metadata": {},
   "source": [
    "+ **Next Generation**: We can define a function, `next_generation(world)`, that takes a world as input and returns\n",
    "a new world with the new set of live cells according to the rules.\n",
    "Example: `next_generation({(3, 1), (1, 2), (1, 3), (2, 3)}) == {(1, 2), (1, 3), (2, 3)}`\n",
    "\n",
    "\n",
    "+ **Live Neighbor Counts**: I need to know how many live neighbors each cell has. A good way to represent this is a dict of `{(x, y): count}`. But which cells need to be the keys of this dict? We can start with the live cells, and also add any cells neighboring the live cells. An easy way to generate this dict is to create a `Counter` and pass it every neighbor of every live cell. This may feel like we're doing the counting \"backwards.\" Instead of asking \"for each cell, how many live neighbors does it have?\" we are saying \"for each live cell, increment the count of each of its neighbors.\" The two amount to the same thing because *neighbor* is symmetric&mdash;if P is a neighbor of Q, then Q is a neighbor of P. Below we see the neighbor counts for each of the three generations; in each generation the top diagram gives the neighbor counts for the empty cells, and the bottom diagram gives the counts for the live cells. This is just to make the diagram easier to read; in the code these are combined into one `Counter`."
   ]
  },
  {
   "cell_type": "code",
   "execution_count": 105,
   "metadata": {},
   "outputs": [],
   "source": [
    "from collections import Counter\n",
    "\n",
    "def next_generation(world):\n",
    "    \"The set of live cells in the next generation.\"\n",
    "    possible_cells = counts = neighbor_counts(world)\n",
    "    return {cell for cell in possible_cells\n",
    "            if (counts[cell] == 3) \n",
    "            or (counts[cell] == 2 and cell in world)}\n",
    "\n",
    "def neighbor_counts(world):\n",
    "    \"A {cell: int} counter of the number of live neighbors for each cell that has neighbors.\"\n",
    "    return Counter(nb for cell in world \n",
    "                      for nb in neighbors(cell))\n",
    "\n",
    "def neighbors(cell):\n",
    "    \"All 8 adjacent neighbors of cell.\"\n",
    "    (x, y) = cell\n",
    "    return [(x-1, y-1), (x, y-1), (x+1, y-1), \n",
    "            (x-1, y),             (x+1, y), \n",
    "            (x-1, y+1), (x, y+1), (x+1, y+1)]"
   ]
  },
  {
   "cell_type": "code",
   "execution_count": null,
   "metadata": {},
   "outputs": [],
   "source": [
    "world = {(3, 1), (1, 2), (1, 3), (2, 3)}\n",
    "next_generation(world)"
   ]
  },
  {
   "cell_type": "code",
   "execution_count": null,
   "metadata": {},
   "outputs": [],
   "source": [
    "next_generation(next_generation(world))"
   ]
  },
  {
   "cell_type": "code",
   "execution_count": null,
   "metadata": {},
   "outputs": [],
   "source": [
    "neighbors((2, 4))"
   ]
  },
  {
   "cell_type": "code",
   "execution_count": null,
   "metadata": {},
   "outputs": [],
   "source": [
    "neighbor_counts(world)"
   ]
  },
  {
   "cell_type": "markdown",
   "metadata": {},
   "source": [
    "`run` is a function to play n generations of Life:"
   ]
  },
  {
   "cell_type": "code",
   "execution_count": 110,
   "metadata": {},
   "outputs": [],
   "source": [
    "def run(world, n):\n",
    "    \"Run the world for n generations. No display; just return the nth generation.\"\n",
    "    for g in range(n):\n",
    "        world = next_generation(world)\n",
    "        print(world)\n",
    "    return world"
   ]
  },
  {
   "cell_type": "code",
   "execution_count": null,
   "metadata": {},
   "outputs": [],
   "source": [
    "run (world, 10)"
   ]
  },
  {
   "cell_type": "markdown",
   "metadata": {},
   "source": [
    "# Display\n",
    "\n",
    "Now let's see how to display worlds. We'll consider a rectangular window on the infinite plane, specified as ranges of `Xs` and `Ys` coordinates. The function `picture` turns a world into a string showing what the world looks like:"
   ]
  },
  {
   "cell_type": "code",
   "execution_count": 114,
   "metadata": {},
   "outputs": [],
   "source": [
    "import time\n",
    "from IPython.display import clear_output, display_html\n",
    "\n",
    "LIVE  = '@'\n",
    "EMPTY = '.'\n",
    "PAD   = ' '\n",
    "        \n",
    "def picture(world, Xs, Ys):\n",
    "    \"Return a picture: a grid of characters representing the cells in this window.\"\n",
    "    def row(y): return PAD.join(LIVE if (x, y) in world else EMPTY for x in Xs)\n",
    "    return '\\n'.join(row(y) for y in Ys)"
   ]
  },
  {
   "cell_type": "code",
   "execution_count": null,
   "metadata": {},
   "outputs": [],
   "source": [
    "print(picture(world, range(5), range(5)))"
   ]
  },
  {
   "cell_type": "markdown",
   "metadata": {},
   "source": [
    "The function `display_run` runs the world for `n` steps, displaying the picture at each step:"
   ]
  },
  {
   "cell_type": "code",
   "execution_count": 116,
   "metadata": {},
   "outputs": [],
   "source": [
    "def display_run(world, n=10, Xs=range(10), Ys=range(10), pause=0.2):\n",
    "    \"Step and display the world for the given number of generations.\"\n",
    "    for g in range(n + 1):\n",
    "        html = ('Generation {}, Population {}\\n{}'\n",
    "                     .format(g, len(world), pre(picture(world, Xs, Ys))))\n",
    "        clear_output()\n",
    "        display_html(html, raw=True)\n",
    "        time.sleep(pause)\n",
    "        world = next_generation(world)\n",
    "        \n",
    "def pre(text): return '<pre>' + text + '</pre>'"
   ]
  },
  {
   "cell_type": "code",
   "execution_count": null,
   "metadata": {},
   "outputs": [],
   "source": [
    "display_run(world, 20, range(5), range(5))"
   ]
  },
  {
   "cell_type": "markdown",
   "metadata": {},
   "source": [
    "# Interesting Worlds\n",
    "\n",
    "Now let's take a look at some initial worlds that *Life* enthusiasts have discovered. It would be tedious to enumerate these with an explicit set of `(x, y)` coordinates, so we will define the function `shape` that takes a picture as input and returns a world; `shape` and `picture` are more-or-less inverses. "
   ]
  },
  {
   "cell_type": "code",
   "execution_count": 120,
   "metadata": {},
   "outputs": [],
   "source": [
    "def shape(picture, offset=(3, 3)):\n",
    "    \"Convert a graphical picture (e.g. '@ @ .\\n. @ @') into a world (set of cells).\"\n",
    "    cells = {(x, y) \n",
    "             for (y, row) in enumerate(picture.splitlines())\n",
    "             for (x, c) in enumerate(row.replace(PAD, ''))\n",
    "             if c == LIVE}\n",
    "    return move(cells, offset)\n",
    "\n",
    "def move(cells, offset):\n",
    "    \"Move/Translate/slide a set of cells by a (dx, dy) displacement/offset.\"\n",
    "    (dx, dy) = offset\n",
    "    return {(x+dx, y+dy) for (x, y) in cells}\n",
    "\n",
    "blinker     = shape(\"@@@\")\n",
    "block       = shape(\"@@\\n@@\")\n",
    "beacon      = block | move(block, (2, 2))\n",
    "toad        = shape(\".@@@\\n@@@.\")\n",
    "glider      = shape(\".@.\\n..@\\n@@@\")\n",
    "rpentomino  = shape(\".@@\\n@@.\\n.@.\", (36, 20))\n",
    "line        = shape(\".@@@@@@@@.@@@@@...@@@......@@@@@@@.@@@@@\", (10, 10))\n",
    "growth      = shape(\"@@@.@\\n@\\n...@@\\n.@@.@\\n@.@.@\", (10, 10))"
   ]
  },
  {
   "cell_type": "code",
   "execution_count": null,
   "metadata": {},
   "outputs": [],
   "source": [
    "shape(\"\"\"@ @ .\n",
    "         . @ @\"\"\")"
   ]
  },
  {
   "cell_type": "code",
   "execution_count": null,
   "metadata": {},
   "outputs": [],
   "source": [
    "block"
   ]
  },
  {
   "cell_type": "code",
   "execution_count": null,
   "metadata": {},
   "outputs": [],
   "source": [
    "move(block, (100, 200))"
   ]
  },
  {
   "cell_type": "code",
   "execution_count": null,
   "metadata": {},
   "outputs": [],
   "source": [
    "display_run(blinker)"
   ]
  },
  {
   "cell_type": "code",
   "execution_count": null,
   "metadata": {},
   "outputs": [],
   "source": [
    "display_run(beacon)"
   ]
  },
  {
   "cell_type": "code",
   "execution_count": null,
   "metadata": {},
   "outputs": [],
   "source": [
    "display_run(glider, 15)"
   ]
  },
  {
   "cell_type": "code",
   "execution_count": null,
   "metadata": {},
   "outputs": [],
   "source": [
    "zoo = (move(blinker, (5, 25)) | move(glider, (8, 13)) | move(blinker, (20, 25))  |\n",
    "       move(beacon, (24, 25)) | move(toad, (30, 25))  | move(block, (13, 25)) | move(block, (17, 33)))\n",
    "\n",
    "display_run(zoo, 160, range(48), range(40))"
   ]
  },
  {
   "cell_type": "code",
   "execution_count": null,
   "metadata": {},
   "outputs": [],
   "source": [
    "display_run(growth, 100, range(40), range(40))"
   ]
  },
  {
   "cell_type": "markdown",
   "metadata": {},
   "source": [
    "I told you a few cells above about [Stephen Wolfram](https://www.stephenwolfram.com/);s [A New Kind of Science](https://www.amazon.com/s?k=stephen+wolfram+a+new+kind+of+science&i=stripbooks&hvadid=77859219980119&hvbmt=be&hvdev=c&hvqmt=e&tag=mh0b-20&ref=pd_sl_5404uxb31_e). In that book, Stephen argues that *all* natural phenomena arise from local rules and all **interesting natural phenomena** arise from local rules that yield global behavior like the game of life. In fact, he deduces some automaton rules that seem to give rise to natural phenotypes.\n",
    "\n",
    "I spent a summer reading that book as a kid, and it is one of the reasons I went into a science. Otherwise, I'd be a writer."
   ]
  }
 ],
 "metadata": {
  "kernelspec": {
   "display_name": "Python 3",
   "language": "python",
   "name": "python3"
  },
  "language_info": {
   "codemirror_mode": {
    "name": "ipython",
    "version": 3
   },
   "file_extension": ".py",
   "mimetype": "text/x-python",
   "name": "python",
   "nbconvert_exporter": "python",
   "pygments_lexer": "ipython3",
   "version": "3.7.2"
  }
 },
 "nbformat": 4,
 "nbformat_minor": 1
}
